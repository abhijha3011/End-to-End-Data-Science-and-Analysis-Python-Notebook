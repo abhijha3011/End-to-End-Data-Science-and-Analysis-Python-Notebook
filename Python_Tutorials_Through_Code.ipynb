{
 "cells": [
  {
   "cell_type": "markdown",
   "metadata": {},
   "source": [
    "Created by Abhishek Jha - (www.linkedin.com/in/abhishek-jha-7148021b8)                                            "
   ]
  },
  {
   "cell_type": "markdown",
   "metadata": {},
   "source": [
    "## Objective: Python Tutorial for Data Science\n",
    "\n",
    "This tutorial aims to provide a comprehensive and hands-on guide to Python programming tailored for aspiring data scientists. Covering fundamental concepts, libraries, and best practices, this tutorial is designed to equip learners with the skills needed to tackle real-world data science projects.\n",
    "\n",
    "\n",
    "Key Objectives:\n",
    "\n",
    "1. Introduction to Data Science:\n",
    "\n",
    "What is Data Science ? Why do we need Data Science ? How Does Data Science Works ? Benifit of Data Science.\n",
    "\n",
    "2. Modules in Python\n",
    "\n",
    "3. Introduction to Python, Data Structures and Control Flow:\n",
    "\n",
    "Understand Python syntax, variables, data types, and basic operations.\n",
    "Gain proficiency in using Python as a versatile programming language.\n",
    "\n",
    "Explore essential data structures: lists, tuples, dictionaries, and sets.\n",
    "Master control flow statements: if, elif, else, loops, and comprehensions.\n",
    "\n",
    "4. Functions\n",
    "\n",
    "Learn to define functions for code modularity and reusability.\n",
    "Understand modules and their role in organizing code.\n",
    "\n",
    "5. Object-Oriented Programming (OOP):\n",
    "\n",
    "Delve into OOP principles, including classes, objects, inheritance, polymorphism, encapsulation, and abstraction.\n",
    "Apply OOP concepts in solving data science problems - (This one is very Interesting).\n",
    "\n",
    "6. NumPy and Pandas:\n",
    "\n",
    "Introduce NumPy for numerical computing and Pandas for data manipulation.\n",
    "Perform array operations, handle missing data, and work with DataFrame structures.\n",
    "\n",
    "7. Data Visualization with Matplotlib and Seaborn:\n",
    "\n",
    "Create impactful visualizations using Matplotlib and Seaborn.\n",
    "Customize plots and charts for effective data communication.\n",
    "\n",
    "8. Statistical Analysis with SciPy and Statsmodels:\n",
    "\n",
    "Conduct statistical analysis using SciPy and Statsmodels.\n",
    "Perform hypothesis testing, ANOVA, regression, and other statistical tests.\n",
    "\n",
    "9. Data Cleaning and Preprocessing:\n",
    "Learn techniques for cleaning and preprocessing messy datasets.\n",
    "Handle missing data, outliers, and perform feature scaling.\n",
    "\n",
    "\n",
    "## Target Audience:\n",
    "\n",
    "Aspiring data scientists, analysts, and professionals seeking a practical and in-depth understanding of Python for data science applications.\n",
    "\n",
    "Created by Abhishek Jha - (www.linkedin.com/in/abhishek-jha-7148021b8)    "
   ]
  },
  {
   "cell_type": "markdown",
   "metadata": {},
   "source": [
    "## 1. Introduction to Data Science:\n",
    "\n",
    "Created by Abhishek Jha - (www.linkedin.com/in/abhishek-jha-7148021b8)    "
   ]
  },
  {
   "cell_type": "markdown",
   "metadata": {},
   "source": [
    "### What is Data Science?\n",
    "\n",
    "Data Science is an interdisciplinary field that involves extracting insights and knowledge from structured and unstructured data. It employs a combination of scientific methods, processes, algorithms, and systems to uncover hidden patterns, trends, and valuable information. Data Science integrates techniques from statistics, mathematics, computer science, and domain-specific knowledge to derive actionable insights and make informed decisions.\n",
    "\n",
    "### Why do we need Data Science?\n",
    "\n",
    "1. Extracting Value from Data:\n",
    "\n",
    "With the exponential growth of data, organizations seek to extract meaningful insights to gain a competitive edge.\n",
    "\n",
    "2. Informed Decision-Making:\n",
    "\n",
    "Data Science enables data-driven decision-making by providing evidence-based insights rather than relying solely on intuition.\n",
    "\n",
    "3. Predictive Analytics:\n",
    "\n",
    "Anticipating future trends and outcomes through predictive analytics helps businesses proactively address challenges.\n",
    "\n",
    "4. Optimizing Processes:\n",
    "\n",
    "Data Science aids in optimizing processes, identifying inefficiencies, and improving overall operational performance.\n",
    "\n",
    "5. Personalization:\n",
    "\n",
    "Businesses leverage data to personalize user experiences, from targeted marketing to tailored product recommendations.\n",
    "\n",
    "6. Risk Management:\n",
    "\n",
    "Data Science plays a crucial role in identifying and mitigating risks through advanced analytics and modeling.\n",
    "\n",
    "7. Innovation and Research:\n",
    "\n",
    "Data Science fuels innovation by uncovering new insights, driving research, and fostering continuous improvement.\n",
    "\n",
    "### How does Data Science work?\n",
    "\n",
    "1. Problem Definition:\n",
    "\n",
    "Clearly define the problem or question that needs to be addressed using data.\n",
    "\n",
    "2. Data Collection:\n",
    "\n",
    "Gather relevant data from various sources, ensuring it aligns with the defined problem.\n",
    "\n",
    "3. Data Cleaning and Preprocessing:\n",
    "\n",
    "Clean and preprocess the data to handle missing values, outliers, and ensure its suitability for analysis.\n",
    "\n",
    "4. Exploratory Data Analysis (EDA):\n",
    "\n",
    "Explore the data visually and statistically to identify patterns, trends, and relationships.\n",
    "\n",
    "5. Feature Engineering:\n",
    "\n",
    "Select, transform, or create features to enhance the predictive power of the data.\n",
    "\n",
    "6. Model Building:\n",
    "\n",
    "Develop predictive models using machine learning or statistical techniques.\n",
    "\n",
    "7. Model Evaluation:\n",
    "\n",
    "Evaluate the model's performance using appropriate metrics and fine-tune as needed.\n",
    "\n",
    "8. Deployment:\n",
    "\n",
    "Implement the model in real-world scenarios, integrating it into existing systems or processes.\n",
    "\n",
    "9. Monitoring and Maintenance:\n",
    "\n",
    "Continuously monitor model performance, making updates or improvements as necessary.\n",
    "\n",
    "### Benefits of Data Science:\n",
    "\n",
    "1. Informed Decision-Making:\n",
    "\n",
    "Enables organizations to make decisions based on data-driven insights.\n",
    "\n",
    "2. Predictive Capabilities:\n",
    "\n",
    "Predict future trends, behaviors, and outcomes to stay ahead in the competitive landscape.\n",
    "\n",
    "3. Efficiency and Optimization:\n",
    "\n",
    "Identifies areas for process improvement and operational efficiency.\n",
    "\n",
    "4. Personalization:\n",
    "\n",
    "Delivers personalized experiences, products, and services to users.\n",
    "\n",
    "5. Innovation:\n",
    "\n",
    "Drives innovation by uncovering new insights and opportunities for growth.\n",
    "\n",
    "6. Risk Management:\n",
    "\n",
    "Helps identify and mitigate risks through advanced analytics and modeling.\n",
    "\n",
    "7. Competitive Advantage:\n",
    "\n",
    "Provides a competitive advantage by extracting actionable insights from data.\n",
    "\n",
    "Data Science is a dynamic and evolving field that empowers organizations to harness the power of data for strategic decision-making and innovation."
   ]
  },
  {
   "cell_type": "markdown",
   "metadata": {},
   "source": [
    "### 2. Module in Python\n",
    "\n",
    "In Python, a module is a file containing Python code, typically with a .py extension. It serves as a way to organize and structure Python code by grouping related functionality together. Modules help in maintaining the codebase, improving code reusability, and avoiding naming conflicts.\n",
    "\n",
    "- Here are key points about modules in Python:\n",
    "\n",
    "    a. Creating a Module:\n",
    "\n",
    "    To create a module, you write Python code in a file and save it with a .py extension. For example, a module named my_module would be saved as my_module.py.\n",
    "\n",
    "    b. Importing a Module:\n",
    "    \n",
    "    To use the functions, variables, or classes defined in a module, you need to import it into your Python script or another module.\n",
    "    Example of importing a module:\n",
    "\n",
    "    import my_module\n",
    "\n",
    "    c. Accessing Module Contents:\n",
    "\n",
    "    After importing a module, you can access its contents using dot notation (module_name.item_name).\n",
    "\n",
    "    Example: \n",
    "    \n",
    "    import my_module\n",
    "\n",
    "    my_module.my_function()\n",
    "\n",
    "\n",
    "    d. Built-in Modules:\n",
    "\n",
    "    Python comes with a variety of built-in modules that provide additional functionality. Examples include math, random, datetime, and more."
   ]
  },
  {
   "cell_type": "code",
   "execution_count": 1,
   "metadata": {},
   "outputs": [],
   "source": [
    "# Imports built-in modules\n",
    "import sys\n",
    "import keyword\n",
    "import operator\n",
    "from datetime import datetime\n",
    "import os"
   ]
  },
  {
   "cell_type": "markdown",
   "metadata": {},
   "source": [
    "## 3. Introduction to Python, Data Structures and Control Flow:\n",
    "\n",
    "Python is a high-level, general-purpose and very popular programming language. It is being used in Machine Learning, Deeep Learning, Web/API development application etc.\n",
    "\n",
    "- Very simple syntax and easy to learn\n",
    "\n",
    "Example:"
   ]
  },
  {
   "cell_type": "code",
   "execution_count": 2,
   "metadata": {},
   "outputs": [
    {
     "name": "stdout",
     "output_type": "stream",
     "text": [
      "Hello Python\n"
     ]
    }
   ],
   "source": [
    "print('Hello Python')"
   ]
  },
  {
   "cell_type": "markdown",
   "metadata": {},
   "source": [
    "- General purpose language(Simple yet very powerful language)\n",
    "\n",
    "    a. Console Appliction Script\n",
    "\n",
    "    b. Desktop Application\n",
    "\n",
    "    c. Web Application\n",
    "\n",
    "    d. Game Development\n",
    "    \n",
    "    e. Machine Learning, Deep Learning, AI,Big Data Application etc.\n",
    "\n",
    "- Multiparadigm Support\n",
    "\n",
    "    a. Procedural Style Programming like C.\n",
    "\n",
    "    b. OOPs Like Java.\n",
    "\n",
    "    c. Functional Programming like List\n",
    "\n",
    "- Portable or Platform independent\n",
    "\n",
    "    Programs are typically first compiled into an intermediate code, then the code is run by the interprator\n",
    "\n",
    "- Dynamically Typed\n",
    "\n",
    "    x = 10\n",
    "\n",
    "    y = 'Any string'\n",
    "\n",
    "    x = 'Python'\n",
    "\n",
    "In Python, unlike statically typed languages such as C++ or Java, variable names do not require explicit specification. However, this dynamic typing feature comes with a drawback: types are assigned during runtime, increasing the likelihood of runtime errors.\n",
    "\n",
    "- Automatic Garbage Collection:\n",
    "\n",
    "    It means that when you dynamically allocate memory, you don't have to worry about releasing this memory.\n",
    "\n",
    "- Popular Application Built in Python:\n",
    "\n",
    "    Instagram, Dropbox, Spotify, Pinterest, YouTube, Reddit, Quora, Netflix etc.\n"
   ]
  },
  {
   "cell_type": "code",
   "execution_count": 3,
   "metadata": {},
   "outputs": [
    {
     "name": "stdout",
     "output_type": "stream",
     "text": [
      "I used to Display Outputs\n",
      "\n",
      "Hope you are Enjoing this Tutorial\n",
      "Hello World\n",
      "apple, orange, banana\n",
      "appleorangebanana\n",
      "Python - Programming!\n"
     ]
    }
   ],
   "source": [
    "# print() in Python - It usually display the output\n",
    "print('I used to Display Outputs')\n",
    "print() # It won't print anything\n",
    "print('Hope you are Enjoing this Tutorial')\n",
    "\n",
    "# end() and sep() parameters in print()\n",
    "print(\"Hello\", end=\" \")\n",
    "print(\"World\")\n",
    "print(\"apple\", \"orange\", \"banana\", sep=\", \")\n",
    "print(\"apple\", \"orange\", \"banana\", sep=\"\")\n",
    "# Combining both parameters:\n",
    "print(\"Python\", \"Programming\", sep=\" - \", end=\"!\\n\")"
   ]
  },
  {
   "cell_type": "markdown",
   "metadata": {},
   "source": [
    "### Keywords\n",
    "\n",
    "Keywords are the reserved words in Python and can't be used as an identifier."
   ]
  },
  {
   "cell_type": "code",
   "execution_count": 4,
   "metadata": {},
   "outputs": [
    {
     "name": "stdout",
     "output_type": "stream",
     "text": [
      "['False', 'None', 'True', 'and', 'as', 'assert', 'async', 'await', 'break', 'class', 'continue', 'def', 'del', 'elif', 'else', 'except', 'finally', 'for', 'from', 'global', 'if', 'import', 'in', 'is', 'lambda', 'nonlocal', 'not', 'or', 'pass', 'raise', 'return', 'try', 'while', 'with', 'yield']\n"
     ]
    }
   ],
   "source": [
    "print(keyword.kwlist) # List all Python Keywords"
   ]
  },
  {
   "cell_type": "code",
   "execution_count": 5,
   "metadata": {},
   "outputs": [
    {
     "data": {
      "text/plain": [
       "35"
      ]
     },
     "execution_count": 5,
     "metadata": {},
     "output_type": "execute_result"
    }
   ],
   "source": [
    "len(keyword.kwlist) # Python contains 35 keywords"
   ]
  },
  {
   "cell_type": "markdown",
   "metadata": {},
   "source": [
    "### Identifiers\n",
    "\n",
    "An identifier is a name given to entities like class, functions, variables, etc. It helps to differentiate\n",
    "one entity from another."
   ]
  },
  {
   "cell_type": "code",
   "execution_count": 6,
   "metadata": {},
   "outputs": [
    {
     "ename": "SyntaxError",
     "evalue": "invalid decimal literal (2087397812.py, line 1)",
     "output_type": "error",
     "traceback": [
      "\u001b[0;36m  Cell \u001b[0;32mIn[6], line 1\u001b[0;36m\u001b[0m\n\u001b[0;31m    1var = 10 # Identifier can't start with a digit\u001b[0m\n\u001b[0m    ^\u001b[0m\n\u001b[0;31mSyntaxError\u001b[0m\u001b[0;31m:\u001b[0m invalid decimal literal\n"
     ]
    }
   ],
   "source": [
    "1var = 10 # Identifier can't start with a digit"
   ]
  },
  {
   "cell_type": "code",
   "execution_count": 7,
   "metadata": {},
   "outputs": [
    {
     "ename": "SyntaxError",
     "evalue": "invalid syntax (619048856.py, line 1)",
     "output_type": "error",
     "traceback": [
      "\u001b[0;36m  Cell \u001b[0;32mIn[7], line 1\u001b[0;36m\u001b[0m\n\u001b[0;31m    val2@ = 35 # Identifier can't use special symbols\u001b[0m\n\u001b[0m          ^\u001b[0m\n\u001b[0;31mSyntaxError\u001b[0m\u001b[0;31m:\u001b[0m invalid syntax\n"
     ]
    }
   ],
   "source": [
    "val2@ = 35 # Identifier can't use special symbols"
   ]
  },
  {
   "cell_type": "code",
   "execution_count": 8,
   "metadata": {},
   "outputs": [
    {
     "ename": "SyntaxError",
     "evalue": "invalid syntax (2492423719.py, line 1)",
     "output_type": "error",
     "traceback": [
      "\u001b[0;36m  Cell \u001b[0;32mIn[8], line 1\u001b[0;36m\u001b[0m\n\u001b[0;31m    import = 125 # Keywords can't be used as identifiers\u001b[0m\n\u001b[0m           ^\u001b[0m\n\u001b[0;31mSyntaxError\u001b[0m\u001b[0;31m:\u001b[0m invalid syntax\n"
     ]
    }
   ],
   "source": [
    "import = 125 # Keywords can't be used as identifiers"
   ]
  },
  {
   "cell_type": "code",
   "execution_count": 9,
   "metadata": {},
   "outputs": [],
   "source": [
    "\"\"\"\n",
    "Correct way of defining an identifier\n",
    "(Identifiers can be a combination of letters in lowercase (a to z) or uppercase (\n",
    "\"\"\"\n",
    "val2 = 10\n",
    "val_ = 35"
   ]
  },
  {
   "cell_type": "markdown",
   "metadata": {},
   "source": [
    "### Comments in Python\n",
    "\n",
    "Comments can be used to explain the code for more readabilty."
   ]
  },
  {
   "cell_type": "code",
   "execution_count": 10,
   "metadata": {},
   "outputs": [],
   "source": [
    "# Single line comment\n",
    "val1 = 10"
   ]
  },
  {
   "cell_type": "code",
   "execution_count": 11,
   "metadata": {},
   "outputs": [],
   "source": [
    "# Multiple\n",
    "# line\n",
    "# comment\n",
    "val1 = 10"
   ]
  },
  {
   "cell_type": "code",
   "execution_count": 12,
   "metadata": {},
   "outputs": [],
   "source": [
    "'''\n",
    "Multiple\n",
    "line\n",
    "comment\n",
    "'''\n",
    "val1 = 10"
   ]
  },
  {
   "cell_type": "code",
   "execution_count": 13,
   "metadata": {},
   "outputs": [],
   "source": [
    "\"\"\"\n",
    "Multiple\n",
    "line\n",
    "comment\n",
    "\"\"\"\n",
    "val1 = 10"
   ]
  },
  {
   "cell_type": "markdown",
   "metadata": {},
   "source": [
    "### Statements\n",
    "\n",
    "Instructions that a Python interpreter can execute."
   ]
  },
  {
   "cell_type": "code",
   "execution_count": 14,
   "metadata": {},
   "outputs": [
    {
     "data": {
      "text/plain": [
       "30"
      ]
     },
     "execution_count": 14,
     "metadata": {},
     "output_type": "execute_result"
    }
   ],
   "source": [
    "# Single line statement\n",
    "p1 = 10 + 20\n",
    "p1"
   ]
  },
  {
   "cell_type": "code",
   "execution_count": 15,
   "metadata": {},
   "outputs": [
    {
     "data": {
      "text/plain": [
       "['a', 'b', 'c', 'd']"
      ]
     },
     "execution_count": 15,
     "metadata": {},
     "output_type": "execute_result"
    }
   ],
   "source": [
    "# Single line statement\n",
    "p2 = ['a' , 'b' , 'c' , 'd']\n",
    "p2"
   ]
  },
  {
   "cell_type": "code",
   "execution_count": 16,
   "metadata": {},
   "outputs": [
    {
     "data": {
      "text/plain": [
       "290"
      ]
     },
     "execution_count": 16,
     "metadata": {},
     "output_type": "execute_result"
    }
   ],
   "source": [
    "# Multiple line statement\n",
    "p1 = 20 + 30 \\\n",
    "+ 40 + 50 +\\\n",
    "+ 70 + 80\n",
    "p1"
   ]
  },
  {
   "cell_type": "code",
   "execution_count": 17,
   "metadata": {},
   "outputs": [
    {
     "data": {
      "text/plain": [
       "['a', 'b', 'c', 'd']"
      ]
     },
     "execution_count": 17,
     "metadata": {},
     "output_type": "execute_result"
    }
   ],
   "source": [
    "# Multiple line statement\n",
    "p2 = ['a' ,\n",
    "'b' ,\n",
    "'c' ,\n",
    "'d'\n",
    "]\n",
    "p2"
   ]
  },
  {
   "cell_type": "markdown",
   "metadata": {},
   "source": [
    "### Indentation\n",
    "\n",
    "Indentation refers to the spaces at the beginning of a code line. It is very important as Python uses\n",
    "indentation to indicate a block of code.If the indentation is not correct we will endup with\n",
    "IndentationError error."
   ]
  },
  {
   "cell_type": "code",
   "execution_count": 18,
   "metadata": {},
   "outputs": [
    {
     "name": "stdout",
     "output_type": "stream",
     "text": [
      "P is equal to 10\n"
     ]
    }
   ],
   "source": [
    "p = 10\n",
    "if p == 10:\n",
    "    print ('P is equal to 10') # correct indentation"
   ]
  },
  {
   "cell_type": "code",
   "execution_count": 19,
   "metadata": {},
   "outputs": [
    {
     "ename": "IndentationError",
     "evalue": "expected an indented block after 'if' statement on line 3 (2511238713.py, line 4)",
     "output_type": "error",
     "traceback": [
      "\u001b[0;36m  Cell \u001b[0;32mIn[19], line 4\u001b[0;36m\u001b[0m\n\u001b[0;31m    print ('P is equal to 10')\u001b[0m\n\u001b[0m    ^\u001b[0m\n\u001b[0;31mIndentationError\u001b[0m\u001b[0;31m:\u001b[0m expected an indented block after 'if' statement on line 3\n"
     ]
    }
   ],
   "source": [
    "# if indentation is skipped we will encounter \"IndentationError: expected an indented block after 'if' statement on line 3\n",
    "p = 10\n",
    "if p == 10:\n",
    "print ('P is equal to 10')"
   ]
  },
  {
   "cell_type": "code",
   "execution_count": 20,
   "metadata": {},
   "outputs": [
    {
     "name": "stdout",
     "output_type": "stream",
     "text": [
      "0\n",
      "1\n",
      "2\n",
      "3\n",
      "4\n"
     ]
    }
   ],
   "source": [
    "for i in range(0,5):\n",
    "    print(i) # correct indentation"
   ]
  },
  {
   "cell_type": "code",
   "execution_count": 21,
   "metadata": {},
   "outputs": [
    {
     "ename": "IndentationError",
     "evalue": "expected an indented block after 'for' statement on line 2 (2894718133.py, line 3)",
     "output_type": "error",
     "traceback": [
      "\u001b[0;36m  Cell \u001b[0;32mIn[21], line 3\u001b[0;36m\u001b[0m\n\u001b[0;31m    print(i)\u001b[0m\n\u001b[0m    ^\u001b[0m\n\u001b[0;31mIndentationError\u001b[0m\u001b[0;31m:\u001b[0m expected an indented block after 'for' statement on line 2\n"
     ]
    }
   ],
   "source": [
    "# if indentation is skipped we will encounter \"IndentationError: expected an indented block after 'for' statement on line 2\n",
    "for i in range(0,5):\n",
    "print(i)"
   ]
  },
  {
   "cell_type": "code",
   "execution_count": 22,
   "metadata": {},
   "outputs": [
    {
     "name": "stdout",
     "output_type": "stream",
     "text": [
      "0\n",
      "1\n",
      "2\n",
      "3\n",
      "4\n"
     ]
    }
   ],
   "source": [
    "for i in range(0,5): print(i) # correct indentation but less readable"
   ]
  },
  {
   "cell_type": "code",
   "execution_count": 23,
   "metadata": {},
   "outputs": [
    {
     "name": "stdout",
     "output_type": "stream",
     "text": [
      "0\n",
      "1\n",
      "2\n",
      "3\n",
      "4\n",
      "20\n"
     ]
    }
   ],
   "source": [
    "j=20\n",
    "for i in range(0,5):\n",
    "    print(i) # inside the for loop\n",
    "print(j) # outside the for loop"
   ]
  },
  {
   "cell_type": "markdown",
   "metadata": {},
   "source": [
    "### Docstrings\n",
    "\n",
    "1) Docstrings provide a convenient way of associating documentation with functions, classes,\n",
    "methods or modules.\n",
    "2) They appear right after the definition of a function, method, class, or module."
   ]
  },
  {
   "cell_type": "code",
   "execution_count": 24,
   "metadata": {},
   "outputs": [
    {
     "data": {
      "text/plain": [
       "25"
      ]
     },
     "execution_count": 24,
     "metadata": {},
     "output_type": "execute_result"
    }
   ],
   "source": [
    "def square(num):\n",
    "    '''Square Function :- This function will return the square of a number'''\n",
    "    return num**2\n",
    "\n",
    "square(5)"
   ]
  },
  {
   "cell_type": "code",
   "execution_count": 25,
   "metadata": {},
   "outputs": [
    {
     "data": {
      "text/plain": [
       "'Square Function :- This function will return the square of a number'"
      ]
     },
     "execution_count": 25,
     "metadata": {},
     "output_type": "execute_result"
    }
   ],
   "source": [
    "square.__doc__ # We can access the Docstring using __doc__ method"
   ]
  },
  {
   "cell_type": "code",
   "execution_count": 26,
   "metadata": {},
   "outputs": [
    {
     "name": "stdout",
     "output_type": "stream",
     "text": [
      "3 is Odd Number\n",
      "6 is Even Number\n"
     ]
    }
   ],
   "source": [
    "def evenodd(num):\n",
    "    '''evenodd Function :- This function will test whether a numbr is Even or Odd'''\n",
    "    if num % 2 == 0:\n",
    "        print(f\"{num} is Even Number\")\n",
    "    else:\n",
    "        print(f\"{num} is Odd Number\")\n",
    "\n",
    "evenodd(3)\n",
    "evenodd(6)"
   ]
  },
  {
   "cell_type": "code",
   "execution_count": 27,
   "metadata": {},
   "outputs": [
    {
     "data": {
      "text/plain": [
       "'evenodd Function :- This function will test whether a numbr is Even or Odd'"
      ]
     },
     "execution_count": 27,
     "metadata": {},
     "output_type": "execute_result"
    }
   ],
   "source": [
    "evenodd.__doc__"
   ]
  },
  {
   "cell_type": "markdown",
   "metadata": {},
   "source": [
    "### Variables in Python\n",
    "\n",
    "A Python variable is a reserved memory location to store values.A variable is created the moment\n",
    "you first assign a value to it. In Python, we don't need to specify the type of variable because Python is a infer language and smart enough to get variable type."
   ]
  },
  {
   "cell_type": "code",
   "execution_count": 28,
   "metadata": {},
   "outputs": [],
   "source": [
    "p = 30"
   ]
  },
  {
   "cell_type": "code",
   "execution_count": 29,
   "metadata": {},
   "outputs": [
    {
     "data": {
      "text/plain": [
       "4334413944"
      ]
     },
     "execution_count": 29,
     "metadata": {},
     "output_type": "execute_result"
    }
   ],
   "source": [
    "'''\n",
    "id() function returns the “identity” of the object.\n",
    "The identity of an object - Is an integer\n",
    "- Guaranteed to be unique\n",
    "- Constant for this object during its lifetime.\n",
    "'''\n",
    "id(p)"
   ]
  },
  {
   "cell_type": "code",
   "execution_count": 30,
   "metadata": {},
   "outputs": [
    {
     "data": {
      "text/plain": [
       "'0x10259e878'"
      ]
     },
     "execution_count": 30,
     "metadata": {},
     "output_type": "execute_result"
    }
   ],
   "source": [
    "hex(id(p)) # Memory address of the variable"
   ]
  },
  {
   "cell_type": "code",
   "execution_count": 31,
   "metadata": {},
   "outputs": [
    {
     "data": {
      "text/plain": [
       "(20, int, '0x10259e738')"
      ]
     },
     "execution_count": 31,
     "metadata": {},
     "output_type": "execute_result"
    }
   ],
   "source": [
    "p = 20 #Creates an integer object with value 20\n",
    "q = 20 # Create new reference q which will point to value 20. \n",
    "r = q # variable r will also point to the same location where p & q are pointing\n",
    "p , type(p), hex(id(p)) # Variable P is pointing to memory location '0x100992738'"
   ]
  },
  {
   "cell_type": "code",
   "execution_count": 32,
   "metadata": {},
   "outputs": [
    {
     "data": {
      "text/plain": [
       "(20, int, '0x10259e738')"
      ]
     },
     "execution_count": 32,
     "metadata": {},
     "output_type": "execute_result"
    }
   ],
   "source": [
    "q , type(q), hex(id(q))"
   ]
  },
  {
   "cell_type": "code",
   "execution_count": 33,
   "metadata": {},
   "outputs": [
    {
     "data": {
      "text/plain": [
       "(20, int, '0x10259e738')"
      ]
     },
     "execution_count": 33,
     "metadata": {},
     "output_type": "execute_result"
    }
   ],
   "source": [
    "r , type(r), hex(id(r))"
   ]
  },
  {
   "cell_type": "code",
   "execution_count": 34,
   "metadata": {},
   "outputs": [
    {
     "data": {
      "text/plain": [
       "30"
      ]
     },
     "execution_count": 34,
     "metadata": {},
     "output_type": "execute_result"
    }
   ],
   "source": [
    "p = 20\n",
    "p = p + 10 # Variable Overwriting\n",
    "p"
   ]
  },
  {
   "cell_type": "markdown",
   "metadata": {},
   "source": [
    "#### Variable Assigment"
   ]
  },
  {
   "cell_type": "code",
   "execution_count": 35,
   "metadata": {},
   "outputs": [
    {
     "name": "stdout",
     "output_type": "stream",
     "text": [
      "10\n",
      "2.57\n",
      "Python Language\n"
     ]
    }
   ],
   "source": [
    "intvar = 10 # Integer variable\n",
    "floatvar = 2.57 # Float Variable\n",
    "strvar = \"Python Language\" # String variable\n",
    "print(intvar)\n",
    "print(floatvar)\n",
    "print(strvar)"
   ]
  },
  {
   "cell_type": "markdown",
   "metadata": {},
   "source": [
    "#### Multiple Assignments"
   ]
  },
  {
   "cell_type": "code",
   "execution_count": 36,
   "metadata": {},
   "outputs": [
    {
     "name": "stdout",
     "output_type": "stream",
     "text": [
      "10\n",
      "2.57\n",
      "Python Language\n"
     ]
    }
   ],
   "source": [
    "intvar , floatvar , strvar = 10,2.57,\"Python Language\" # Using commas to separate\n",
    "print(intvar)\n",
    "print(floatvar)\n",
    "print(strvar)"
   ]
  },
  {
   "cell_type": "code",
   "execution_count": 37,
   "metadata": {},
   "outputs": [
    {
     "name": "stdout",
     "output_type": "stream",
     "text": [
      "44 44 44 44\n"
     ]
    }
   ],
   "source": [
    "p1 = p2 = p3 = p4 = 44 # All variables pointing to same value\n",
    "print(p1,p2,p3,p4)"
   ]
  },
  {
   "cell_type": "markdown",
   "metadata": {},
   "source": [
    "#### NOTE:\n",
    "\n",
    "Using a variable without assigning a value to it causes an error."
   ]
  },
  {
   "cell_type": "code",
   "execution_count": 38,
   "metadata": {},
   "outputs": [
    {
     "ename": "NameError",
     "evalue": "name 'x' is not defined",
     "output_type": "error",
     "traceback": [
      "\u001b[0;31m---------------------------------------------------------------------------\u001b[0m",
      "\u001b[0;31mNameError\u001b[0m                                 Traceback (most recent call last)",
      "Cell \u001b[0;32mIn[38], line 1\u001b[0m\n\u001b[0;32m----> 1\u001b[0m \u001b[38;5;28mprint\u001b[39m(\u001b[43mx\u001b[49m) \u001b[38;5;66;03m# NameError: name 'x' is not defined\u001b[39;00m\n",
      "\u001b[0;31mNameError\u001b[0m: name 'x' is not defined"
     ]
    }
   ],
   "source": [
    "print(x) # NameError: name 'x' is not defined"
   ]
  },
  {
   "cell_type": "markdown",
   "metadata": {},
   "source": [
    "### Data Types in Python\n",
    "\n",
    "#### Numeric"
   ]
  },
  {
   "cell_type": "code",
   "execution_count": 39,
   "metadata": {},
   "outputs": [
    {
     "name": "stdout",
     "output_type": "stream",
     "text": [
      "10\n",
      "<class 'int'>\n",
      "28\n",
      "10  is Integer? True\n"
     ]
    }
   ],
   "source": [
    "val1 = 10 # Integer data type\n",
    "print(val1)\n",
    "print(type(val1)) # type of object\n",
    "print(sys.getsizeof(val1)) # size of integer object in bytes\n",
    "print(val1, \" is Integer?\", isinstance(val1, int))  #  val1 is an instance of integer"
   ]
  },
  {
   "cell_type": "code",
   "execution_count": 40,
   "metadata": {},
   "outputs": [
    {
     "name": "stdout",
     "output_type": "stream",
     "text": [
      "92.78\n",
      "<class 'float'>\n",
      "24\n",
      "92.78  is float? True\n"
     ]
    }
   ],
   "source": [
    "val2 = 92.78 # Float data type\n",
    "print(val2)\n",
    "print(type(val2)) # type of object\n",
    "print(sys.getsizeof(val2)) # size of float object in bytes\n",
    "print(val2, \" is float?\", isinstance(val2, float))  #  val2 is an instance of float"
   ]
  },
  {
   "cell_type": "code",
   "execution_count": 41,
   "metadata": {},
   "outputs": [
    {
     "name": "stdout",
     "output_type": "stream",
     "text": [
      "(25+10j)\n",
      "<class 'complex'>\n",
      "32\n",
      "(25+10j)  is complex? True\n"
     ]
    }
   ],
   "source": [
    "val3 = 25 + 10j # Complex data type\n",
    "print(val3)\n",
    "print(type(val3)) # type of object\n",
    "print(sys.getsizeof(val3)) # size of float object in bytes\n",
    "print(val3, \" is complex?\", isinstance(val3, complex))  #  val3 is an instance of float"
   ]
  },
  {
   "cell_type": "code",
   "execution_count": 42,
   "metadata": {},
   "outputs": [
    {
     "data": {
      "text/plain": [
       "28"
      ]
     },
     "execution_count": 42,
     "metadata": {},
     "output_type": "execute_result"
    }
   ],
   "source": [
    "sys.getsizeof(int()) # size of integer object in bytes"
   ]
  },
  {
   "cell_type": "code",
   "execution_count": 43,
   "metadata": {},
   "outputs": [
    {
     "data": {
      "text/plain": [
       "24"
      ]
     },
     "execution_count": 43,
     "metadata": {},
     "output_type": "execute_result"
    }
   ],
   "source": [
    "sys.getsizeof(float()) # size of float object in bytes"
   ]
  },
  {
   "cell_type": "code",
   "execution_count": 44,
   "metadata": {},
   "outputs": [
    {
     "data": {
      "text/plain": [
       "32"
      ]
     },
     "execution_count": 44,
     "metadata": {},
     "output_type": "execute_result"
    }
   ],
   "source": [
    "sys.getsizeof(complex()) # size of complex object in bytes"
   ]
  },
  {
   "cell_type": "markdown",
   "metadata": {},
   "source": [
    "#### Boolean\n",
    "\n",
    "Boolean data type can have only two possible values True or False."
   ]
  },
  {
   "cell_type": "code",
   "execution_count": 45,
   "metadata": {},
   "outputs": [],
   "source": [
    "bool1 = True\n",
    "bool2 = False"
   ]
  },
  {
   "cell_type": "code",
   "execution_count": 46,
   "metadata": {},
   "outputs": [
    {
     "name": "stdout",
     "output_type": "stream",
     "text": [
      "<class 'bool'>\n",
      "<class 'bool'>\n"
     ]
    }
   ],
   "source": [
    "print(type(bool1))\n",
    "print(type(bool2))"
   ]
  },
  {
   "cell_type": "code",
   "execution_count": 47,
   "metadata": {},
   "outputs": [
    {
     "data": {
      "text/plain": [
       "True"
      ]
     },
     "execution_count": 47,
     "metadata": {},
     "output_type": "execute_result"
    }
   ],
   "source": [
    "isinstance(bool1, bool)"
   ]
  },
  {
   "cell_type": "code",
   "execution_count": 48,
   "metadata": {},
   "outputs": [
    {
     "data": {
      "text/plain": [
       "False"
      ]
     },
     "execution_count": 48,
     "metadata": {},
     "output_type": "execute_result"
    }
   ],
   "source": [
    "bool(0)"
   ]
  },
  {
   "cell_type": "code",
   "execution_count": 49,
   "metadata": {},
   "outputs": [
    {
     "data": {
      "text/plain": [
       "True"
      ]
     },
     "execution_count": 49,
     "metadata": {},
     "output_type": "execute_result"
    }
   ],
   "source": [
    "bool(1)"
   ]
  },
  {
   "cell_type": "code",
   "execution_count": 50,
   "metadata": {},
   "outputs": [
    {
     "data": {
      "text/plain": [
       "False"
      ]
     },
     "execution_count": 50,
     "metadata": {},
     "output_type": "execute_result"
    }
   ],
   "source": [
    "bool(None)"
   ]
  },
  {
   "cell_type": "code",
   "execution_count": 51,
   "metadata": {},
   "outputs": [
    {
     "data": {
      "text/plain": [
       "False"
      ]
     },
     "execution_count": 51,
     "metadata": {},
     "output_type": "execute_result"
    }
   ],
   "source": [
    "bool (False)"
   ]
  },
  {
   "cell_type": "markdown",
   "metadata": {},
   "source": [
    "#### Strings\n",
    "\n",
    "In Python, a string is a sequence of characters. Strings are immutable, meaning their values cannot be changed once they are created. They are defined using either single (') or double (\") quotes. Strings can include letters, numbers, symbols, and spaces.\n",
    "\n",
    "String Creation"
   ]
  },
  {
   "cell_type": "code",
   "execution_count": 52,
   "metadata": {},
   "outputs": [
    {
     "name": "stdout",
     "output_type": "stream",
     "text": [
      "HELLO PYTHON\n"
     ]
    }
   ],
   "source": [
    "str1 = \"HELLO PYTHON\"\n",
    "print(str1)"
   ]
  },
  {
   "cell_type": "code",
   "execution_count": 53,
   "metadata": {},
   "outputs": [
    {
     "name": "stdout",
     "output_type": "stream",
     "text": [
      "Hello World\n"
     ]
    }
   ],
   "source": [
    "mystr = 'Hello World' # Define string using single quotes\n",
    "print(mystr)"
   ]
  },
  {
   "cell_type": "code",
   "execution_count": 54,
   "metadata": {},
   "outputs": [
    {
     "name": "stdout",
     "output_type": "stream",
     "text": [
      "Hello World\n"
     ]
    }
   ],
   "source": [
    "mystr = \"Hello World\" # Define string using double quotes\n",
    "print(mystr)"
   ]
  },
  {
   "cell_type": "code",
   "execution_count": 55,
   "metadata": {},
   "outputs": [
    {
     "name": "stdout",
     "output_type": "stream",
     "text": [
      "Hello\n",
      "World \n"
     ]
    }
   ],
   "source": [
    "mystr = '''Hello\n",
    "World ''' # Define string using triple quotes\n",
    "print(mystr)"
   ]
  },
  {
   "cell_type": "code",
   "execution_count": 56,
   "metadata": {},
   "outputs": [
    {
     "name": "stdout",
     "output_type": "stream",
     "text": [
      "Hello\n",
      "World\n"
     ]
    }
   ],
   "source": [
    "mystr = \"\"\"Hello\n",
    "World\"\"\" # Define string using triple quotes\n",
    "print(mystr)"
   ]
  },
  {
   "cell_type": "code",
   "execution_count": 57,
   "metadata": {},
   "outputs": [
    {
     "name": "stdout",
     "output_type": "stream",
     "text": [
      "Happy Weekend Everyone\n"
     ]
    }
   ],
   "source": [
    "mystr = ('Happy '\n",
    "'Weekend '\n",
    "'Everyone')\n",
    "print(mystr)"
   ]
  },
  {
   "cell_type": "code",
   "execution_count": 58,
   "metadata": {},
   "outputs": [
    {
     "data": {
      "text/plain": [
       "'Woohoo Woohoo Woohoo Woohoo Woohoo '"
      ]
     },
     "execution_count": 58,
     "metadata": {},
     "output_type": "execute_result"
    }
   ],
   "source": [
    "mystr2 = 'Woohoo '\n",
    "mystr2 = mystr2*5\n",
    "mystr2"
   ]
  },
  {
   "cell_type": "code",
   "execution_count": 59,
   "metadata": {},
   "outputs": [
    {
     "data": {
      "text/plain": [
       "35"
      ]
     },
     "execution_count": 59,
     "metadata": {},
     "output_type": "execute_result"
    }
   ],
   "source": [
    "len(mystr2) # Length of string"
   ]
  },
  {
   "attachments": {
    "image.png": {
     "image/png": "[encoded data removed]"
    }
   },
   "cell_type": "markdown",
   "metadata": {},
   "source": [
    "##### String Indexing\n",
    "\n",
    "String indexing in Python refers to the ability to access individual characters in a string using their position (index). Indices start from 0 for the first character, and negative indices represent positions from the end of the string. \n",
    "\n",
    "![image.png](attachment:image.png)"
   ]
  },
  {
   "cell_type": "code",
   "execution_count": 60,
   "metadata": {},
   "outputs": [
    {
     "data": {
      "text/plain": [
       "'HELLO PYTHON'"
      ]
     },
     "execution_count": 60,
     "metadata": {},
     "output_type": "execute_result"
    }
   ],
   "source": [
    "str1"
   ]
  },
  {
   "cell_type": "code",
   "execution_count": 61,
   "metadata": {},
   "outputs": [
    {
     "data": {
      "text/plain": [
       "'H'"
      ]
     },
     "execution_count": 61,
     "metadata": {},
     "output_type": "execute_result"
    }
   ],
   "source": [
    "str1[0] # First character in string \"str1\""
   ]
  },
  {
   "cell_type": "code",
   "execution_count": 62,
   "metadata": {},
   "outputs": [
    {
     "data": {
      "text/plain": [
       "'N'"
      ]
     },
     "execution_count": 62,
     "metadata": {},
     "output_type": "execute_result"
    }
   ],
   "source": [
    "str1[len(str1)-1] # Last character in string using len function"
   ]
  },
  {
   "cell_type": "code",
   "execution_count": 63,
   "metadata": {},
   "outputs": [
    {
     "data": {
      "text/plain": [
       "'N'"
      ]
     },
     "execution_count": 63,
     "metadata": {},
     "output_type": "execute_result"
    }
   ],
   "source": [
    "str1[-1] # Last character in string"
   ]
  },
  {
   "cell_type": "code",
   "execution_count": 64,
   "metadata": {},
   "outputs": [
    {
     "data": {
      "text/plain": [
       "'P'"
      ]
     },
     "execution_count": 64,
     "metadata": {},
     "output_type": "execute_result"
    }
   ],
   "source": [
    "str1[6] #Fetch 7th element of the string"
   ]
  },
  {
   "cell_type": "code",
   "execution_count": 65,
   "metadata": {},
   "outputs": [
    {
     "data": {
      "text/plain": [
       "' '"
      ]
     },
     "execution_count": 65,
     "metadata": {},
     "output_type": "execute_result"
    }
   ],
   "source": [
    "str1[5]"
   ]
  },
  {
   "cell_type": "markdown",
   "metadata": {},
   "source": [
    "##### String Slicing"
   ]
  },
  {
   "cell_type": "code",
   "execution_count": 66,
   "metadata": {},
   "outputs": [
    {
     "data": {
      "text/plain": [
       "'HELLO'"
      ]
     },
     "execution_count": 66,
     "metadata": {},
     "output_type": "execute_result"
    }
   ],
   "source": [
    "str1[0:5] # String slicing - Fetch all characters from 0 to 5 index location"
   ]
  },
  {
   "cell_type": "code",
   "execution_count": 67,
   "metadata": {},
   "outputs": [
    {
     "data": {
      "text/plain": [
       "'PYTHON'"
      ]
     },
     "execution_count": 67,
     "metadata": {},
     "output_type": "execute_result"
    }
   ],
   "source": [
    "str1[6:12] # String slicing - Retreive all characters between 6 - 12"
   ]
  },
  {
   "cell_type": "code",
   "execution_count": 68,
   "metadata": {},
   "outputs": [
    {
     "data": {
      "text/plain": [
       "'THON'"
      ]
     },
     "execution_count": 68,
     "metadata": {},
     "output_type": "execute_result"
    }
   ],
   "source": [
    "str1[-4:] # Retreive last four characters of the string"
   ]
  },
  {
   "cell_type": "code",
   "execution_count": 69,
   "metadata": {},
   "outputs": [
    {
     "data": {
      "text/plain": [
       "'PYTHON'"
      ]
     },
     "execution_count": 69,
     "metadata": {},
     "output_type": "execute_result"
    }
   ],
   "source": [
    "str1[-6:] # Retreive last six characters of the string"
   ]
  },
  {
   "cell_type": "code",
   "execution_count": 70,
   "metadata": {},
   "outputs": [
    {
     "data": {
      "text/plain": [
       "'HELL'"
      ]
     },
     "execution_count": 70,
     "metadata": {},
     "output_type": "execute_result"
    }
   ],
   "source": [
    "str1[:4] # Retreive first four characters of the string"
   ]
  },
  {
   "cell_type": "markdown",
   "metadata": {},
   "source": [
    "##### Update & Delete String"
   ]
  },
  {
   "cell_type": "code",
   "execution_count": 71,
   "metadata": {},
   "outputs": [
    {
     "data": {
      "text/plain": [
       "'HELLO PYTHON'"
      ]
     },
     "execution_count": 71,
     "metadata": {},
     "output_type": "execute_result"
    }
   ],
   "source": [
    "str1"
   ]
  },
  {
   "cell_type": "code",
   "execution_count": 72,
   "metadata": {},
   "outputs": [
    {
     "ename": "TypeError",
     "evalue": "'str' object does not support item assignment",
     "output_type": "error",
     "traceback": [
      "\u001b[0;31m---------------------------------------------------------------------------\u001b[0m",
      "\u001b[0;31mTypeError\u001b[0m                                 Traceback (most recent call last)",
      "Cell \u001b[0;32mIn[72], line 2\u001b[0m\n\u001b[1;32m      1\u001b[0m \u001b[38;5;66;03m# Strings are immutable, which means elements of a string cannot be changed once the string is created. To modify a string, a new string must be created.\u001b[39;00m\n\u001b[0;32m----> 2\u001b[0m \u001b[43mstr1\u001b[49m\u001b[43m[\u001b[49m\u001b[38;5;241;43m0\u001b[39;49m\u001b[43m:\u001b[49m\u001b[38;5;241;43m5\u001b[39;49m\u001b[43m]\u001b[49m \u001b[38;5;241m=\u001b[39m \u001b[38;5;124m'\u001b[39m\u001b[38;5;124mHOLAA\u001b[39m\u001b[38;5;124m'\u001b[39m\n",
      "\u001b[0;31mTypeError\u001b[0m: 'str' object does not support item assignment"
     ]
    }
   ],
   "source": [
    "# Strings are immutable, which means elements of a string cannot be changed once the string is created. To modify a string, a new string must be created.\n",
    "str1[0:5] = 'HOLAA'"
   ]
  },
  {
   "cell_type": "code",
   "execution_count": 73,
   "metadata": {},
   "outputs": [],
   "source": [
    "del str1 # Delete a string"
   ]
  },
  {
   "cell_type": "markdown",
   "metadata": {},
   "source": [
    "##### String concatenation"
   ]
  },
  {
   "cell_type": "code",
   "execution_count": 74,
   "metadata": {},
   "outputs": [
    {
     "name": "stdout",
     "output_type": "stream",
     "text": [
      "HelloGuys\n"
     ]
    }
   ],
   "source": [
    "# String concatenation\n",
    "s1 = \"Hello\"\n",
    "s2 = \"Guys\"\n",
    "s3 = s1 + s2\n",
    "print(s3)"
   ]
  },
  {
   "cell_type": "code",
   "execution_count": 75,
   "metadata": {},
   "outputs": [
    {
     "name": "stdout",
     "output_type": "stream",
     "text": [
      "Hello Guys\n"
     ]
    }
   ],
   "source": [
    "# String concatenation\n",
    "s1 = \"Hello\"\n",
    "s2 = \"Guys\"\n",
    "s3 = s1 + \" \" + s2\n",
    "print(s3)"
   ]
  },
  {
   "cell_type": "markdown",
   "metadata": {},
   "source": [
    "##### Iterating through a String"
   ]
  },
  {
   "cell_type": "code",
   "execution_count": 76,
   "metadata": {},
   "outputs": [],
   "source": [
    "mystr1 = \"Hello\""
   ]
  },
  {
   "cell_type": "code",
   "execution_count": 77,
   "metadata": {},
   "outputs": [
    {
     "name": "stdout",
     "output_type": "stream",
     "text": [
      "H\n",
      "e\n",
      "l\n",
      "l\n",
      "o\n"
     ]
    }
   ],
   "source": [
    "# Iteration\n",
    "'''\n",
    "A 'for' loop in Python is used for iterating over a sequence (such as a list, tuple, string, or range) or other iterable objects.\n",
    "Will be discussing it latter in the detail.\n",
    "'''\n",
    "for i in mystr1:\n",
    "    print(i)"
   ]
  },
  {
   "cell_type": "code",
   "execution_count": 78,
   "metadata": {},
   "outputs": [
    {
     "name": "stdout",
     "output_type": "stream",
     "text": [
      "(0, 'H')\n",
      "(1, 'e')\n",
      "(2, 'l')\n",
      "(3, 'l')\n",
      "(4, 'o')\n"
     ]
    }
   ],
   "source": [
    "'''\n",
    "Enumerate method adds a counter to an iterable and returns tuples containing the index and corresponding elements. \n",
    "It allows for iteration over both the index and elements of the iterable simultaneously, \n",
    "providing a convenient way to access both values during a loop iteration.\n",
    "'''\n",
    "for i in enumerate(mystr1):\n",
    "    print(i)"
   ]
  },
  {
   "cell_type": "markdown",
   "metadata": {},
   "source": [
    "##### String Membership\n",
    "\n",
    "String membership in Python refers to the ability to check whether a specific substring or character is present within a given string. The in keyword is used for this purpose."
   ]
  },
  {
   "cell_type": "code",
   "execution_count": 79,
   "metadata": {},
   "outputs": [
    {
     "name": "stdout",
     "output_type": "stream",
     "text": [
      "True\n",
      "True\n",
      "False\n"
     ]
    }
   ],
   "source": [
    "# String membership\n",
    "mystr1 = \"Hello Everyone\"\n",
    "print ('Hello' in mystr1)  # Checks whether substring \"Hello\" is present in mystr1\n",
    "print ('Everyone' in mystr1)   # Checks whether substring \"Everyone\" is present in mystr1\n",
    "print ('Hi' in mystr1)   # Checks whether substring \"Hi\" is present in mystr1"
   ]
  },
  {
   "cell_type": "markdown",
   "metadata": {},
   "source": [
    "##### String Partitioning\n",
    "\n",
    "String partitioning in Python refers to the process of splitting a string into three parts based on a specified separator. The partition() method is used for this purpose."
   ]
  },
  {
   "cell_type": "code",
   "execution_count": 80,
   "metadata": {},
   "outputs": [
    {
     "data": {
      "text/plain": [
       "('apple', '|', 'banana|cherry')"
      ]
     },
     "execution_count": 80,
     "metadata": {},
     "output_type": "execute_result"
    }
   ],
   "source": [
    "'''\n",
    "In this example, result will be a tuple containing three elements:\n",
    "\n",
    "The portion of the string before the first occurrence of the separator ('apple').\n",
    "The separator itself ('|').\n",
    "The portion of the string after the first occurrence of the separator ('banana|cherry').\n",
    "'''\n",
    "\n",
    "string = \"apple|banana|cherry\"\n",
    "result = string.partition('|')\n",
    "result"
   ]
  },
  {
   "cell_type": "markdown",
   "metadata": {},
   "source": [
    "##### String Functions:\n",
    "\n",
    "String functions in Python are methods or operations that can be applied to strings to manipulate, analyze, or modify them. Here are some commonly used string functions:"
   ]
  },
  {
   "cell_type": "code",
   "execution_count": 81,
   "metadata": {},
   "outputs": [
    {
     "data": {
      "text/plain": [
       "6"
      ]
     },
     "execution_count": 81,
     "metadata": {},
     "output_type": "execute_result"
    }
   ],
   "source": [
    "# len() -> Returns the length (number of characters) of a string.\n",
    "string = \"Python\"\n",
    "length = len(string)  # length will be 6\n",
    "length"
   ]
  },
  {
   "cell_type": "code",
   "execution_count": 82,
   "metadata": {},
   "outputs": [
    {
     "data": {
      "text/plain": [
       "'42'"
      ]
     },
     "execution_count": 82,
     "metadata": {},
     "output_type": "execute_result"
    }
   ],
   "source": [
    "# str(): Converts a value to a string.\n",
    "\n",
    "number = 42\n",
    "string_number = str(number)  # string_number will be \"42\"\n",
    "string_number\n"
   ]
  },
  {
   "cell_type": "code",
   "execution_count": 83,
   "metadata": {},
   "outputs": [
    {
     "data": {
      "text/plain": [
       "'PYTHON'"
      ]
     },
     "execution_count": 83,
     "metadata": {},
     "output_type": "execute_result"
    }
   ],
   "source": [
    "# upper(): Converts all characters in a string to uppercase.\n",
    "string = \"python\"\n",
    "uppercase_string = string.upper()  # uppercase_string will be \"PYTHON\"\n",
    "uppercase_string\n"
   ]
  },
  {
   "cell_type": "code",
   "execution_count": 84,
   "metadata": {},
   "outputs": [
    {
     "data": {
      "text/plain": [
       "'python'"
      ]
     },
     "execution_count": 84,
     "metadata": {},
     "output_type": "execute_result"
    }
   ],
   "source": [
    "# lower(): Converts all characters in a string to lowercase.\n",
    "string = \"PYTHON\"\n",
    "lowercase_string = string.lower()  # lowercase_string will be \"python\"\n",
    "lowercase_string"
   ]
  },
  {
   "cell_type": "code",
   "execution_count": 85,
   "metadata": {},
   "outputs": [
    {
     "data": {
      "text/plain": [
       "'Python'"
      ]
     },
     "execution_count": 85,
     "metadata": {},
     "output_type": "execute_result"
    }
   ],
   "source": [
    "# capitalize():Converts the first character of a string to uppercase.\n",
    "string = \"python\"\n",
    "capitalized_string = string.capitalize()  # capitalized_string will be \"Python\"\n",
    "capitalized_string"
   ]
  },
  {
   "cell_type": "code",
   "execution_count": 86,
   "metadata": {},
   "outputs": [
    {
     "data": {
      "text/plain": [
       "'Python Programming'"
      ]
     },
     "execution_count": 86,
     "metadata": {},
     "output_type": "execute_result"
    }
   ],
   "source": [
    "# title(): Converts the first character of each word to uppercase.\n",
    "string = \"python programming\"\n",
    "title_case_string = string.title()  # title_case_string will be \"Python Programming\"\n",
    "title_case_string"
   ]
  },
  {
   "cell_type": "code",
   "execution_count": 87,
   "metadata": {},
   "outputs": [
    {
     "data": {
      "text/plain": [
       "'Python'"
      ]
     },
     "execution_count": 87,
     "metadata": {},
     "output_type": "execute_result"
    }
   ],
   "source": [
    "# strip(): Removes leading and trailing whitespaces.\n",
    "string = \"  Python  \"\n",
    "stripped_string = string.strip()  # stripped_string will be \"Python\"\n",
    "stripped_string"
   ]
  },
  {
   "cell_type": "code",
   "execution_count": 88,
   "metadata": {},
   "outputs": [
    {
     "data": {
      "text/plain": [
       "['apple', 'banana', 'cherry']"
      ]
     },
     "execution_count": 88,
     "metadata": {},
     "output_type": "execute_result"
    }
   ],
   "source": [
    "# split(): Splits a string into a list of substrings based on a specified delimiter.\n",
    "string = \"apple,banana,cherry\"\n",
    "substrings = string.split(',')  # substrings will be ['apple', 'banana', 'cherry']\n",
    "substrings\n"
   ]
  },
  {
   "cell_type": "code",
   "execution_count": 89,
   "metadata": {},
   "outputs": [
    {
     "data": {
      "text/plain": [
       "'apple,banana,cherry'"
      ]
     },
     "execution_count": 89,
     "metadata": {},
     "output_type": "execute_result"
    }
   ],
   "source": [
    "# join(): Joins elements of a sequence (e.g., a list) into a string using a specified delimiter.\n",
    "words = ['apple', 'banana', 'cherry']\n",
    "joined_string = ','.join(words)  # joined_string will be \"apple,banana,cherry\"\n",
    "joined_string"
   ]
  },
  {
   "cell_type": "code",
   "execution_count": 90,
   "metadata": {},
   "outputs": [
    {
     "data": {
      "text/plain": [
       "7"
      ]
     },
     "execution_count": 90,
     "metadata": {},
     "output_type": "execute_result"
    }
   ],
   "source": [
    "# find(): Returns the lowest index of a substring within the string. Returns -1 if not found.\n",
    "string = \"Python is powerful\"\n",
    "index = string.find(\"is\")  # index will be 7\n",
    "index"
   ]
  },
  {
   "cell_type": "code",
   "execution_count": 91,
   "metadata": {},
   "outputs": [
    {
     "data": {
      "text/plain": [
       "'I like bananas'"
      ]
     },
     "execution_count": 91,
     "metadata": {},
     "output_type": "execute_result"
    }
   ],
   "source": [
    "# replace():Replaces occurrences of a specified substring with another substring.\n",
    "string = \"I like apples\"\n",
    "new_string = string.replace(\"apples\", \"bananas\")  # new_string will be \"I like bananas\"\n",
    "new_string"
   ]
  },
  {
   "cell_type": "code",
   "execution_count": 92,
   "metadata": {},
   "outputs": [
    {
     "data": {
      "text/plain": [
       "True"
      ]
     },
     "execution_count": 92,
     "metadata": {},
     "output_type": "execute_result"
    }
   ],
   "source": [
    "# startswith():Returns True if a string starts with a specified prefix; otherwise, returns False.\n",
    "string = \"Python is powerful\"\n",
    "starts_with_python = string.startswith(\"Python\")  # starts_with_python will be True\n",
    "starts_with_python"
   ]
  },
  {
   "cell_type": "code",
   "execution_count": 93,
   "metadata": {},
   "outputs": [
    {
     "data": {
      "text/plain": [
       "True"
      ]
     },
     "execution_count": 93,
     "metadata": {},
     "output_type": "execute_result"
    }
   ],
   "source": [
    "# endswith():Returns True if a string ends with a specified suffix; otherwise, returns False.\n",
    "string = \"Python is powerful\"\n",
    "ends_with_powerful = string.endswith(\"powerful\")  # ends_with_powerful will be True\n",
    "ends_with_powerful"
   ]
  },
  {
   "cell_type": "code",
   "execution_count": 94,
   "metadata": {},
   "outputs": [
    {
     "data": {
      "text/plain": [
       "2"
      ]
     },
     "execution_count": 94,
     "metadata": {},
     "output_type": "execute_result"
    }
   ],
   "source": [
    "# count():Returns the number of occurrences of a specified substring in a string.\n",
    "string = \"apple, banana, cherry, banana\"\n",
    "banana_count = string.count(\"banana\")  # banana_count will be 2\n",
    "banana_count"
   ]
  },
  {
   "cell_type": "code",
   "execution_count": 95,
   "metadata": {},
   "outputs": [
    {
     "data": {
      "text/plain": [
       "True"
      ]
     },
     "execution_count": 95,
     "metadata": {},
     "output_type": "execute_result"
    }
   ],
   "source": [
    "# isalpha():Returns True if all characters in a string are alphabetic (letters); otherwise, returns False.\n",
    "alpha_string = \"Python\"\n",
    "is_alpha = alpha_string.isalpha()  # is_alpha will be True\n",
    "is_alpha"
   ]
  },
  {
   "cell_type": "code",
   "execution_count": 96,
   "metadata": {},
   "outputs": [
    {
     "data": {
      "text/plain": [
       "True"
      ]
     },
     "execution_count": 96,
     "metadata": {},
     "output_type": "execute_result"
    }
   ],
   "source": [
    "# isdigit():Returns True if all characters in a string are digits; otherwise, returns False.\n",
    "digit_string = \"12345\"\n",
    "is_digit = digit_string.isdigit()  # is_digit will be True\n",
    "is_digit"
   ]
  },
  {
   "cell_type": "code",
   "execution_count": 97,
   "metadata": {},
   "outputs": [
    {
     "data": {
      "text/plain": [
       "True"
      ]
     },
     "execution_count": 97,
     "metadata": {},
     "output_type": "execute_result"
    }
   ],
   "source": [
    "# isalnum():Returns True if all characters in a string are alphanumeric; otherwise, returns False.\n",
    "alphanumeric_string = \"Python3\"\n",
    "is_alnum = alphanumeric_string.isalnum()  # is_alnum will be True\n",
    "is_alnum"
   ]
  },
  {
   "cell_type": "code",
   "execution_count": 98,
   "metadata": {},
   "outputs": [
    {
     "data": {
      "text/plain": [
       "True"
      ]
     },
     "execution_count": 98,
     "metadata": {},
     "output_type": "execute_result"
    }
   ],
   "source": [
    "# isspace(): Returns True if all characters in a string are whitespace characters; otherwise, returns False.\n",
    "space_string = \"    \"\n",
    "is_space = space_string.isspace()  # is_space will be True\n",
    "is_space"
   ]
  },
  {
   "cell_type": "markdown",
   "metadata": {},
   "source": [
    "##### Using Escape Character\n",
    "\n",
    "An escape character in Python is a backslash (\\) used to represent special characters within a string. It allows the inclusion of characters that would otherwise be difficult to include directly."
   ]
  },
  {
   "cell_type": "code",
   "execution_count": 99,
   "metadata": {},
   "outputs": [
    {
     "name": "stdout",
     "output_type": "stream",
     "text": [
      "This is a newline \n",
      "and this is a tab \tcharacter.\n"
     ]
    }
   ],
   "source": [
    "'''\n",
    "In this example, \\n represents a newline character, and \\t represents a tab character. \n",
    "The backslash serves as an escape character, indicating that the character following it has a special meaning.\n",
    "'''\n",
    "special_string = \"This is a newline \\nand this is a tab \\tcharacter.\"\n",
    "print(special_string)"
   ]
  },
  {
   "cell_type": "markdown",
   "metadata": {},
   "source": [
    "#### List\n",
    "\n",
    "A list in Python is a mutable, ordered collection of elements, where each element can be of any data type. Lists are defined by square brackets [ ] and can store multiple items, allowing for easy manipulation and access.\n",
    "\n",
    "List creation"
   ]
  },
  {
   "cell_type": "code",
   "execution_count": 100,
   "metadata": {},
   "outputs": [],
   "source": [
    "list1 = [] # Empty List"
   ]
  },
  {
   "cell_type": "code",
   "execution_count": 101,
   "metadata": {},
   "outputs": [
    {
     "name": "stdout",
     "output_type": "stream",
     "text": [
      "<class 'list'>\n"
     ]
    }
   ],
   "source": [
    "print(type(list1))"
   ]
  },
  {
   "cell_type": "code",
   "execution_count": 102,
   "metadata": {},
   "outputs": [],
   "source": [
    "list2 = [10,30,60] # List of integers numbers\n",
    "list3 = [10.77,30.66,60.89] # List of float numbers\n",
    "list4 = ['one','two' , \"three\"] # List of strings\n",
    "list5 = ['Jha', 25 ,[50, 100],[150, 90]] # Nested Lists\n",
    "list6 = ['Jha', 25 ,[50, 100],[150, 90] , {'John' , 'David'}]\n",
    "list7 = [1, 2, 3, 'Jha', 5.0]  # List of mixed data types\n",
    "\n",
    "# list constructor\n",
    "my_string = 'hello'\n",
    "list8 = list(my_string)  # Result: ['h', 'e', 'l', 'l', 'o']\n"
   ]
  },
  {
   "cell_type": "code",
   "execution_count": 103,
   "metadata": {},
   "outputs": [
    {
     "data": {
      "text/plain": [
       "5"
      ]
     },
     "execution_count": 103,
     "metadata": {},
     "output_type": "execute_result"
    }
   ],
   "source": [
    "len(list6) #Length of list"
   ]
  },
  {
   "cell_type": "markdown",
   "metadata": {},
   "source": [
    "##### List Indexing\n",
    "\n",
    "List indexing in Python allows you to access individual elements within a list. The index starts at 0 for the first element and increases by 1 for each subsequent element. Negative indexing allows you to access elements from the end of the list, with -1 representing the last element."
   ]
  },
  {
   "cell_type": "code",
   "execution_count": 104,
   "metadata": {},
   "outputs": [
    {
     "data": {
      "text/plain": [
       "10"
      ]
     },
     "execution_count": 104,
     "metadata": {},
     "output_type": "execute_result"
    }
   ],
   "source": [
    "list2[0] # Retreive first element of the list"
   ]
  },
  {
   "cell_type": "code",
   "execution_count": 105,
   "metadata": {},
   "outputs": [
    {
     "data": {
      "text/plain": [
       "'one'"
      ]
     },
     "execution_count": 105,
     "metadata": {},
     "output_type": "execute_result"
    }
   ],
   "source": [
    "list4[0] # Retreive first element of the list"
   ]
  },
  {
   "cell_type": "code",
   "execution_count": 106,
   "metadata": {},
   "outputs": [
    {
     "data": {
      "text/plain": [
       "'J'"
      ]
     },
     "execution_count": 106,
     "metadata": {},
     "output_type": "execute_result"
    }
   ],
   "source": [
    "list5[0][0] # Nested indexing - Access the first character of the first list element."
   ]
  },
  {
   "cell_type": "code",
   "execution_count": 107,
   "metadata": {},
   "outputs": [
    {
     "data": {
      "text/plain": [
       "'three'"
      ]
     },
     "execution_count": 107,
     "metadata": {},
     "output_type": "execute_result"
    }
   ],
   "source": [
    "list4[-1] # Last item of the list : Negative Indexing"
   ]
  },
  {
   "cell_type": "code",
   "execution_count": 108,
   "metadata": {},
   "outputs": [
    {
     "data": {
      "text/plain": [
       "[150, 90]"
      ]
     },
     "execution_count": 108,
     "metadata": {},
     "output_type": "execute_result"
    }
   ],
   "source": [
    "list5[-1] # Last item of the list"
   ]
  },
  {
   "cell_type": "markdown",
   "metadata": {},
   "source": [
    "##### List slicing\n",
    "\n",
    "List slicing in Python allows you to extract a portion (or a subsequence) of a list. It is done using the colon (:) operator. The general syntax for slicing is start:stop:step."
   ]
  },
  {
   "cell_type": "code",
   "execution_count": 109,
   "metadata": {},
   "outputs": [],
   "source": [
    "mylist = ['one' , 'two' , 'three' , 'four' , 'five']"
   ]
  },
  {
   "cell_type": "code",
   "execution_count": 110,
   "metadata": {},
   "outputs": [
    {
     "data": {
      "text/plain": [
       "['one', 'two', 'three']"
      ]
     },
     "execution_count": 110,
     "metadata": {},
     "output_type": "execute_result"
    }
   ],
   "source": [
    "mylist[0:3]"
   ]
  },
  {
   "cell_type": "code",
   "execution_count": 111,
   "metadata": {},
   "outputs": [
    {
     "data": {
      "text/plain": [
       "['three', 'four', 'five']"
      ]
     },
     "execution_count": 111,
     "metadata": {},
     "output_type": "execute_result"
    }
   ],
   "source": [
    "mylist[2:5]"
   ]
  },
  {
   "cell_type": "code",
   "execution_count": 112,
   "metadata": {},
   "outputs": [
    {
     "data": {
      "text/plain": [
       "['one', 'two', 'three']"
      ]
     },
     "execution_count": 112,
     "metadata": {},
     "output_type": "execute_result"
    }
   ],
   "source": [
    "mylist[:3] # Return first three items"
   ]
  },
  {
   "cell_type": "code",
   "execution_count": 113,
   "metadata": {},
   "outputs": [
    {
     "data": {
      "text/plain": [
       "['three', 'four', 'five']"
      ]
     },
     "execution_count": 113,
     "metadata": {},
     "output_type": "execute_result"
    }
   ],
   "source": [
    "mylist[-3:] # Return last three items"
   ]
  },
  {
   "cell_type": "code",
   "execution_count": 114,
   "metadata": {},
   "outputs": [
    {
     "data": {
      "text/plain": [
       "['four', 'five']"
      ]
     },
     "execution_count": 114,
     "metadata": {},
     "output_type": "execute_result"
    }
   ],
   "source": [
    "mylist[-2:] # Return last two items"
   ]
  },
  {
   "cell_type": "code",
   "execution_count": 115,
   "metadata": {},
   "outputs": [
    {
     "data": {
      "text/plain": [
       "['one', 'two', 'three', 'four', 'five']"
      ]
     },
     "execution_count": 115,
     "metadata": {},
     "output_type": "execute_result"
    }
   ],
   "source": [
    "mylist[:] # Return whole list"
   ]
  },
  {
   "cell_type": "code",
   "execution_count": 116,
   "metadata": {},
   "outputs": [
    {
     "data": {
      "text/plain": [
       "['five', 'four', 'three', 'two', 'one']"
      ]
     },
     "execution_count": 116,
     "metadata": {},
     "output_type": "execute_result"
    }
   ],
   "source": [
    "mylist[::-1] # Reverse the whole list"
   ]
  },
  {
   "cell_type": "markdown",
   "metadata": {},
   "source": [
    "##### Add , Remove & Change List Items"
   ]
  },
  {
   "cell_type": "code",
   "execution_count": 117,
   "metadata": {},
   "outputs": [
    {
     "data": {
      "text/plain": [
       "['one', 'two', 'three', 'four', 'five']"
      ]
     },
     "execution_count": 117,
     "metadata": {},
     "output_type": "execute_result"
    }
   ],
   "source": [
    "mylist"
   ]
  },
  {
   "cell_type": "code",
   "execution_count": 118,
   "metadata": {},
   "outputs": [
    {
     "data": {
      "text/plain": [
       "['one', 'two', 'three', 'four', 'five', 'six']"
      ]
     },
     "execution_count": 118,
     "metadata": {},
     "output_type": "execute_result"
    }
   ],
   "source": [
    "mylist.append('six') # Add an item to the end of the list\n",
    "mylist"
   ]
  },
  {
   "cell_type": "code",
   "execution_count": 119,
   "metadata": {},
   "outputs": [
    {
     "data": {
      "text/plain": [
       "['one', 'two', 'three', 'four', 'five', 'six', 'seven']"
      ]
     },
     "execution_count": 119,
     "metadata": {},
     "output_type": "execute_result"
    }
   ],
   "source": [
    "mylist.insert(7,'seven') # Add item at index location 9\n",
    "mylist"
   ]
  },
  {
   "cell_type": "code",
   "execution_count": 120,
   "metadata": {},
   "outputs": [
    {
     "data": {
      "text/plain": [
       "['one', 'ONE', 'two', 'three', 'four', 'five', 'six', 'seven']"
      ]
     },
     "execution_count": 120,
     "metadata": {},
     "output_type": "execute_result"
    }
   ],
   "source": [
    "mylist.insert(1,'ONE') # Add item at index location 1\n",
    "mylist"
   ]
  },
  {
   "cell_type": "code",
   "execution_count": 121,
   "metadata": {},
   "outputs": [
    {
     "data": {
      "text/plain": [
       "['one', 'two', 'three', 'four', 'five', 'six', 'seven']"
      ]
     },
     "execution_count": 121,
     "metadata": {},
     "output_type": "execute_result"
    }
   ],
   "source": [
    "mylist.remove('ONE') # Remove item \"ONE\"\n",
    "mylist"
   ]
  },
  {
   "cell_type": "code",
   "execution_count": 122,
   "metadata": {},
   "outputs": [
    {
     "data": {
      "text/plain": [
       "['one', 'two', 'three', 'four', 'five', 'six']"
      ]
     },
     "execution_count": 122,
     "metadata": {},
     "output_type": "execute_result"
    }
   ],
   "source": [
    "mylist.pop() # Remove last item of the list\n",
    "mylist"
   ]
  },
  {
   "cell_type": "code",
   "execution_count": 123,
   "metadata": {},
   "outputs": [
    {
     "data": {
      "text/plain": [
       "['one', 'two', 'three', 'four', 'five', 'six']"
      ]
     },
     "execution_count": 123,
     "metadata": {},
     "output_type": "execute_result"
    }
   ],
   "source": [
    "mylist"
   ]
  },
  {
   "cell_type": "code",
   "execution_count": 124,
   "metadata": {},
   "outputs": [
    {
     "data": {
      "text/plain": [
       "['one', 'two', 'three', 'four', 'five']"
      ]
     },
     "execution_count": 124,
     "metadata": {},
     "output_type": "execute_result"
    }
   ],
   "source": [
    "mylist.pop(5) # Remove item at index location 5\n",
    "mylist"
   ]
  },
  {
   "cell_type": "code",
   "execution_count": 125,
   "metadata": {},
   "outputs": [
    {
     "data": {
      "text/plain": [
       "['one', 'two', 'three', 'four']"
      ]
     },
     "execution_count": 125,
     "metadata": {},
     "output_type": "execute_result"
    }
   ],
   "source": [
    "del mylist[4] # Remove item at index location 7\n",
    "mylist"
   ]
  },
  {
   "cell_type": "code",
   "execution_count": 126,
   "metadata": {},
   "outputs": [
    {
     "data": {
      "text/plain": [
       "[1, 2, 3, 'four']"
      ]
     },
     "execution_count": 126,
     "metadata": {},
     "output_type": "execute_result"
    }
   ],
   "source": [
    "# Change value of the list\n",
    "mylist[0] = 1\n",
    "mylist[1] = 2\n",
    "mylist[2] = 3\n",
    "mylist"
   ]
  },
  {
   "cell_type": "code",
   "execution_count": 127,
   "metadata": {},
   "outputs": [
    {
     "data": {
      "text/plain": [
       "[]"
      ]
     },
     "execution_count": 127,
     "metadata": {},
     "output_type": "execute_result"
    }
   ],
   "source": [
    "mylist.clear() # Empty List / Delete all items in the list\n",
    "mylist"
   ]
  },
  {
   "cell_type": "code",
   "execution_count": 128,
   "metadata": {},
   "outputs": [],
   "source": [
    "del mylist # Delete the whole list\n"
   ]
  },
  {
   "cell_type": "markdown",
   "metadata": {},
   "source": [
    "##### Join Lists"
   ]
  },
  {
   "cell_type": "code",
   "execution_count": 129,
   "metadata": {},
   "outputs": [
    {
     "data": {
      "text/plain": [
       "['one', 'two', 'three', 'four', 'five', 'six', 'seven', 'eight']"
      ]
     },
     "execution_count": 129,
     "metadata": {},
     "output_type": "execute_result"
    }
   ],
   "source": [
    "list1 = ['one', 'two', 'three', 'four']\n",
    "list2 = ['five', 'six', 'seven', 'eight']\n",
    "\n",
    "list3 = list1 + list2 # Join two lists by '+' operator\n",
    "list3"
   ]
  },
  {
   "cell_type": "code",
   "execution_count": 130,
   "metadata": {},
   "outputs": [
    {
     "data": {
      "text/plain": [
       "['one', 'two', 'three', 'four', 'five', 'six', 'seven', 'eight']"
      ]
     },
     "execution_count": 130,
     "metadata": {},
     "output_type": "execute_result"
    }
   ],
   "source": [
    "list1.extend(list2) #Append list2 with list1\n",
    "list1"
   ]
  },
  {
   "cell_type": "markdown",
   "metadata": {},
   "source": [
    "##### List Membership\n",
    "\n",
    "List membership in Python refers to checking whether a particular element is present in a list. It is done using the 'in' operator."
   ]
  },
  {
   "cell_type": "code",
   "execution_count": 131,
   "metadata": {},
   "outputs": [
    {
     "data": {
      "text/plain": [
       "True"
      ]
     },
     "execution_count": 131,
     "metadata": {},
     "output_type": "execute_result"
    }
   ],
   "source": [
    "'''\n",
    "In this example, 3 in 'my_list' evaluates to True because the value 3 is present in the list 'my_list'. \n",
    "If the element is not present, the expression evaluates to False.\n",
    "'''\n",
    "my_list = [1, 2, 3, 4, 5]\n",
    "is_present = 3 in my_list  # True\n",
    "is_present"
   ]
  },
  {
   "cell_type": "markdown",
   "metadata": {},
   "source": [
    "##### Reverse & Sort List"
   ]
  },
  {
   "cell_type": "code",
   "execution_count": 132,
   "metadata": {},
   "outputs": [
    {
     "data": {
      "text/plain": [
       "['one', 'two', 'three', 'four', 'five', 'six', 'seven', 'eight']"
      ]
     },
     "execution_count": 132,
     "metadata": {},
     "output_type": "execute_result"
    }
   ],
   "source": [
    "list1"
   ]
  },
  {
   "cell_type": "code",
   "execution_count": 133,
   "metadata": {},
   "outputs": [
    {
     "data": {
      "text/plain": [
       "['eight', 'seven', 'six', 'five', 'four', 'three', 'two', 'one']"
      ]
     },
     "execution_count": 133,
     "metadata": {},
     "output_type": "execute_result"
    }
   ],
   "source": [
    "list1.reverse() # Reverse the list using reverse()\n",
    "list1"
   ]
  },
  {
   "cell_type": "code",
   "execution_count": 134,
   "metadata": {},
   "outputs": [
    {
     "data": {
      "text/plain": [
       "['one', 'two', 'three', 'four', 'five', 'six', 'seven', 'eight']"
      ]
     },
     "execution_count": 134,
     "metadata": {},
     "output_type": "execute_result"
    }
   ],
   "source": [
    "list1 = list1[::-1] # Reverse the list using indexing\n",
    "list1"
   ]
  },
  {
   "cell_type": "code",
   "execution_count": 135,
   "metadata": {},
   "outputs": [
    {
     "data": {
      "text/plain": [
       "[2, 5, 9, 12, 34, 88, 99]"
      ]
     },
     "execution_count": 135,
     "metadata": {},
     "output_type": "execute_result"
    }
   ],
   "source": [
    "mylist3 = [9,5,2,99,12,88,34]\n",
    "mylist3.sort() # Sort list in ascending order\n",
    "mylist3"
   ]
  },
  {
   "cell_type": "code",
   "execution_count": 136,
   "metadata": {},
   "outputs": [
    {
     "data": {
      "text/plain": [
       "[99, 88, 34, 12, 9, 5, 2]"
      ]
     },
     "execution_count": 136,
     "metadata": {},
     "output_type": "execute_result"
    }
   ],
   "source": [
    "mylist3 = [9,5,2,99,12,88,34]\n",
    "mylist3.sort(reverse=True) # Sort list in descending order\n",
    "mylist3"
   ]
  },
  {
   "cell_type": "code",
   "execution_count": 137,
   "metadata": {},
   "outputs": [
    {
     "data": {
      "text/plain": [
       "[11, 21, 33, 65, 88, 98]"
      ]
     },
     "execution_count": 137,
     "metadata": {},
     "output_type": "execute_result"
    }
   ],
   "source": [
    "mylist4 = [88,65,33,21,11,98]\n",
    "sorted(mylist4)  # Returns a new sorted list and doesn't change the original list in place."
   ]
  },
  {
   "cell_type": "markdown",
   "metadata": {},
   "source": [
    "##### Loop through a list"
   ]
  },
  {
   "cell_type": "code",
   "execution_count": 138,
   "metadata": {},
   "outputs": [
    {
     "data": {
      "text/plain": [
       "['one', 'two', 'three', 'four', 'five', 'six', 'seven', 'eight']"
      ]
     },
     "execution_count": 138,
     "metadata": {},
     "output_type": "execute_result"
    }
   ],
   "source": [
    "list1"
   ]
  },
  {
   "cell_type": "code",
   "execution_count": 139,
   "metadata": {},
   "outputs": [
    {
     "name": "stdout",
     "output_type": "stream",
     "text": [
      "one\n",
      "two\n",
      "three\n",
      "four\n",
      "five\n",
      "six\n",
      "seven\n",
      "eight\n"
     ]
    }
   ],
   "source": [
    "for i in list1:\n",
    "    print(i)"
   ]
  },
  {
   "cell_type": "code",
   "execution_count": 140,
   "metadata": {},
   "outputs": [
    {
     "name": "stdout",
     "output_type": "stream",
     "text": [
      "(0, 'one')\n",
      "(1, 'two')\n",
      "(2, 'three')\n",
      "(3, 'four')\n",
      "(4, 'five')\n",
      "(5, 'six')\n",
      "(6, 'seven')\n",
      "(7, 'eight')\n"
     ]
    }
   ],
   "source": [
    "for i in enumerate(list1):\n",
    "    print(i)"
   ]
  },
  {
   "cell_type": "markdown",
   "metadata": {},
   "source": [
    "##### Count()\n",
    "\n",
    "The count() method in Python is used to count the number of occurrences of a specific element within a list."
   ]
  },
  {
   "cell_type": "code",
   "execution_count": 141,
   "metadata": {},
   "outputs": [
    {
     "data": {
      "text/plain": [
       "3"
      ]
     },
     "execution_count": 141,
     "metadata": {},
     "output_type": "execute_result"
    }
   ],
   "source": [
    "'''\n",
    "In this example, 'count_of_ones' will be equal to 3 because the value 1 appears three times in the list my_list.\n",
    "The count() method is helpful when you want to determine how many times a particular element occurs in a list.\n",
    "'''\n",
    "my_list = [1, 2, 3, 1, 4, 1, 5]\n",
    "count_of_ones = my_list.count(1)  # Result: 3\n",
    "count_of_ones"
   ]
  },
  {
   "cell_type": "markdown",
   "metadata": {},
   "source": [
    "##### All / Any\n",
    "\n",
    "The all() method returns:\n",
    "- True - If all elements in a list are true\n",
    "- False - If any element in a list is false\n",
    "\n",
    "The any() function returns True if any element in the list is True. If not, any() returns False."
   ]
  },
  {
   "cell_type": "code",
   "execution_count": 142,
   "metadata": {},
   "outputs": [
    {
     "data": {
      "text/plain": [
       "False"
      ]
     },
     "execution_count": 142,
     "metadata": {},
     "output_type": "execute_result"
    }
   ],
   "source": [
    "L1 = [1,2,3,4,0]\n",
    "all(L1) # Will Return false as one value is false (Value 0)"
   ]
  },
  {
   "cell_type": "code",
   "execution_count": 143,
   "metadata": {},
   "outputs": [
    {
     "data": {
      "text/plain": [
       "True"
      ]
     },
     "execution_count": 143,
     "metadata": {},
     "output_type": "execute_result"
    }
   ],
   "source": [
    "any(L1) # Will Return True as we have items in the list with True value"
   ]
  },
  {
   "cell_type": "code",
   "execution_count": 144,
   "metadata": {},
   "outputs": [
    {
     "data": {
      "text/plain": [
       "False"
      ]
     },
     "execution_count": 144,
     "metadata": {},
     "output_type": "execute_result"
    }
   ],
   "source": [
    "L2 = [1,2,3,4,True,False]\n",
    "all(L2) # Returns false as one value is false"
   ]
  },
  {
   "cell_type": "code",
   "execution_count": 145,
   "metadata": {},
   "outputs": [
    {
     "data": {
      "text/plain": [
       "True"
      ]
     },
     "execution_count": 145,
     "metadata": {},
     "output_type": "execute_result"
    }
   ],
   "source": [
    "any(L2) # Will Return True as we have items in the list with True value"
   ]
  },
  {
   "cell_type": "code",
   "execution_count": 146,
   "metadata": {},
   "outputs": [
    {
     "data": {
      "text/plain": [
       "True"
      ]
     },
     "execution_count": 146,
     "metadata": {},
     "output_type": "execute_result"
    }
   ],
   "source": [
    "L3 = [1,2,3,True]\n",
    "all(L3) # Will return True as all items in the list are True"
   ]
  },
  {
   "cell_type": "code",
   "execution_count": 147,
   "metadata": {},
   "outputs": [
    {
     "data": {
      "text/plain": [
       "True"
      ]
     },
     "execution_count": 147,
     "metadata": {},
     "output_type": "execute_result"
    }
   ],
   "source": [
    "any(L3) # Will Return True as we have items in the list with True value"
   ]
  },
  {
   "cell_type": "markdown",
   "metadata": {},
   "source": [
    "##### List Comprehensions\n",
    "\n",
    "List comprehensions in Python provide a concise way to create lists. They consist of a single expression followed by at least one for clause and zero or more if clauses. List comprehensions offer a readable and efficient way to generate lists based on existing iterables.\n",
    "\n",
    "    Syntax: \n",
    "    new_list = [expression for item in iterable if condition]"
   ]
  },
  {
   "cell_type": "code",
   "execution_count": 148,
   "metadata": {},
   "outputs": [
    {
     "data": {
      "text/plain": [
       "['W', 'E', 'L', 'C', 'O', 'M', 'E']"
      ]
     },
     "execution_count": 148,
     "metadata": {},
     "output_type": "execute_result"
    }
   ],
   "source": [
    "mystring = \"WELCOME\"\n",
    "mylist = [ i for i in mystring ] # Iterating through a string Using List Comprehension\n",
    "mylist"
   ]
  },
  {
   "cell_type": "code",
   "execution_count": 149,
   "metadata": {},
   "outputs": [
    {
     "data": {
      "text/plain": [
       "[0, 2, 4, 6, 8, 10, 12, 14, 16, 18, 20, 22, 24, 26, 28, 30, 32, 34, 36, 38]"
      ]
     },
     "execution_count": 149,
     "metadata": {},
     "output_type": "execute_result"
    }
   ],
   "source": [
    "mylist1 = [ i for i in range(40) if i % 2 == 0] # Display all even numbers between 0-40\n",
    "mylist1"
   ]
  },
  {
   "cell_type": "code",
   "execution_count": 150,
   "metadata": {},
   "outputs": [
    {
     "data": {
      "text/plain": [
       "[1, 3, 5, 7, 9, 11, 13, 15, 17, 19, 21, 23, 25, 27, 29, 31, 33, 35, 37, 39]"
      ]
     },
     "execution_count": 150,
     "metadata": {},
     "output_type": "execute_result"
    }
   ],
   "source": [
    "mylist2 = [ i for i in range(40) if i % 2 == 1] # Display all odd numbers between 0-40\n",
    "mylist2"
   ]
  },
  {
   "cell_type": "code",
   "execution_count": 151,
   "metadata": {},
   "outputs": [
    {
     "data": {
      "text/plain": [
       "[0, 1, 4, 9, 16, 25, 36, 49, 64, 81]"
      ]
     },
     "execution_count": 151,
     "metadata": {},
     "output_type": "execute_result"
    }
   ],
   "source": [
    "mylist3 = [num**2 for num in range(10)] # calculate square of all numbers between 0-10\n",
    "mylist3"
   ]
  },
  {
   "cell_type": "code",
   "execution_count": 152,
   "metadata": {},
   "outputs": [
    {
     "data": {
      "text/plain": [
       "[10, 15, 20, 25, 30, 35, 40]"
      ]
     },
     "execution_count": 152,
     "metadata": {},
     "output_type": "execute_result"
    }
   ],
   "source": [
    "# Multiple whole list by 5\n",
    "list1 = [2,3,4,5,6,7,8]\n",
    "list1 = [i*5 for i in list1]\n",
    "list1"
   ]
  },
  {
   "cell_type": "code",
   "execution_count": 153,
   "metadata": {},
   "outputs": [
    {
     "data": {
      "text/plain": [
       "[0, 36, 72, 108, 144, 180]"
      ]
     },
     "execution_count": 153,
     "metadata": {},
     "output_type": "execute_result"
    }
   ],
   "source": [
    "#List all numbers divisible by 3 , 9 & 12 using nested \"if\" with List Comprehension\n",
    "mylist4 = [i for i in range(200) if i % 3 == 0 if i % 9 == 0 if i % 12 == 0]\n",
    "mylist4"
   ]
  },
  {
   "cell_type": "code",
   "execution_count": 154,
   "metadata": {},
   "outputs": [
    {
     "name": "stdout",
     "output_type": "stream",
     "text": [
      "0 is Even Number\n",
      "1 is odd number\n",
      "2 is Even Number\n",
      "3 is odd number\n",
      "4 is Even Number\n",
      "5 is odd number\n",
      "6 is Even Number\n",
      "7 is odd number\n",
      "8 is Even Number\n",
      "9 is odd number\n"
     ]
    }
   ],
   "source": [
    "# Odd even test\n",
    "l1 = [print(\"{} is Even Number\".format(i)) if i % 2 == 0 else print(\"{} is odd number\".format(i)) for i in range(10)]\n"
   ]
  },
  {
   "cell_type": "code",
   "execution_count": 155,
   "metadata": {},
   "outputs": [
    {
     "data": {
      "text/plain": [
       "['1', '2', '3', '4', '5', '6', '7', '8', '9']"
      ]
     },
     "execution_count": 155,
     "metadata": {},
     "output_type": "execute_result"
    }
   ],
   "source": [
    "# Extract numbers from a string\n",
    "mystr = \"One 1 two 2 three 3 four 4 five 5 six 6789\"\n",
    "numbers = [i for i in mystr if i.isdigit()]\n",
    "numbers"
   ]
  },
  {
   "cell_type": "code",
   "execution_count": 156,
   "metadata": {},
   "outputs": [
    {
     "data": {
      "text/plain": [
       "['One', 'two', 'three', 'four', 'five', 'six']"
      ]
     },
     "execution_count": 156,
     "metadata": {},
     "output_type": "execute_result"
    }
   ],
   "source": [
    "# Extract letters from a string\n",
    "'''\n",
    "- Splits the string into a list of words using mystr.split().\n",
    "- Checks if each word is alphabetic using word.isalpha().\n",
    "- Joins the alphabetic characters of each word using ''.join(word).\n",
    "'''\n",
    "mystr = \"One 1 two 2 three 3 four 4 five 5 six 6789\"\n",
    "numbers = [''.join(word) for word in mystr.split() if word.isalpha()]\n",
    "numbers"
   ]
  },
  {
   "cell_type": "markdown",
   "metadata": {},
   "source": [
    "#### Tuples:\n",
    "\n",
    "In Python, a tuple is a collection of ordered and immutable elements. Tuples are defined using parentheses () and can contain elements of different data types. Once a tuple is created, its elements cannot be modified, added, or removed.\n",
    "\n",
    "- Immutable: Once a tuple is created, its elements cannot be changed. You cannot add, remove, or modify elements in a tuple.\n",
    "- Ordered: Elements in a tuple maintain the order in which they are defined. Indexing and slicing can be used to access elements.\n",
    "- Heterogeneous: Tuples can contain elements of different data types.\n",
    "- Tuple Packing and Unpacking: You can create a tuple by placing comma-separated values within parentheses. Tuple unpacking allows assigning multiple variables at once."
   ]
  },
  {
   "cell_type": "code",
   "execution_count": 157,
   "metadata": {},
   "outputs": [],
   "source": [
    "# Tuple Creation\n",
    "\n",
    "tup1 = () # Empty tuple\n",
    "tup2 = (10,30,60) # tuple of integers numbers\n",
    "tup3 = (10.77,30.66,60.89) # tuple of float numbers\n",
    "tup4 = ('one','two' , \"three\") # tuple of strings\n",
    "tup5 = ('Jha', 25 ,(50, 100),(150, 90)) # Nested tuples\n",
    "tup6 = (100, 'Jha', 17.765) # Tuple of mixed data types\n",
    "tup7 = ('Jha', 25 ,[50, 100],[150, 90] , {'John' , 'David'} , (99,22,33))"
   ]
  },
  {
   "cell_type": "code",
   "execution_count": 158,
   "metadata": {},
   "outputs": [
    {
     "data": {
      "text/plain": [
       "6"
      ]
     },
     "execution_count": 158,
     "metadata": {},
     "output_type": "execute_result"
    }
   ],
   "source": [
    "len(tup7) #Length of list"
   ]
  },
  {
   "cell_type": "markdown",
   "metadata": {},
   "source": [
    "##### Tuple Indexing\n",
    "\n",
    "Tuple indexing in Python allows you to access individual elements within a tuple using their position or index. The indexing starts at 0 for the first element, 1 for the second, and so on. Negative indexing is also supported, allowing you to access elements from the end of the tuple."
   ]
  },
  {
   "cell_type": "code",
   "execution_count": 159,
   "metadata": {},
   "outputs": [
    {
     "name": "stdout",
     "output_type": "stream",
     "text": [
      "apple\n",
      "banana\n",
      "cherry\n"
     ]
    }
   ],
   "source": [
    "my_tuple = (\"apple\", \"banana\", \"cherry\", \"date\")\n",
    "\n",
    "first_element = my_tuple[0]  # \"apple\"\n",
    "second_element = my_tuple[1]  # \"banana\"\n",
    "third_element = my_tuple[2]   # \"cherry\"\n",
    "print(first_element)\n",
    "print(second_element)\n",
    "print(third_element)"
   ]
  },
  {
   "cell_type": "code",
   "execution_count": 160,
   "metadata": {},
   "outputs": [
    {
     "name": "stdout",
     "output_type": "stream",
     "text": [
      "Original Tuple: ('apple', 'banana', 'cherry', 'date')\n",
      "last_element: date\n",
      "second_last_element: cherry\n"
     ]
    }
   ],
   "source": [
    "# Negative indexing: It allows you to access elements from the end of the tuple. -1 represents the last element, -2 the second last, and so on.\n",
    "print('Original Tuple:', my_tuple)\n",
    "last_element = my_tuple[-1]   # \"date\"\n",
    "second_last_element = my_tuple[-2]  # \"cherry\"\n",
    "print('last_element:', last_element)\n",
    "print('second_last_element:', second_last_element)"
   ]
  },
  {
   "cell_type": "markdown",
   "metadata": {},
   "source": [
    "##### Tuple Slicing\n",
    "\n",
    "Tuple slicing in Python allows you to extract a portion or subsequence of elements from a tuple. It is done using the colon (:) operator, specifying the start, stop, and step values. The result is a new tuple containing the specified elements."
   ]
  },
  {
   "cell_type": "code",
   "execution_count": 161,
   "metadata": {},
   "outputs": [
    {
     "data": {
      "text/plain": [
       "(1, 2, 3)"
      ]
     },
     "execution_count": 161,
     "metadata": {},
     "output_type": "execute_result"
    }
   ],
   "source": [
    "# In this example, sliced_elements contains elements from index 1 to 3 (not including 4) in the tuple my_tuple.\n",
    "my_tuple = (0, 1, 2, 3, 4, 5)\n",
    "sliced_elements = my_tuple[1:4]  # (1, 2, 3)\n",
    "sliced_elements"
   ]
  },
  {
   "cell_type": "code",
   "execution_count": 162,
   "metadata": {},
   "outputs": [
    {
     "name": "stdout",
     "output_type": "stream",
     "text": [
      "partial_tuple: (0, 1, 2)\n",
      "end_partial_tuple: (2, 3, 4, 5)\n"
     ]
    }
   ],
   "source": [
    "# Omitting the start index defaults to the beginning of the tuple, while omitting the stop index defaults to the end.\n",
    "partial_tuple = my_tuple[:3]  # (0, 1, 2)\n",
    "end_partial_tuple = my_tuple[2:]  # (2, 3, 4, 5)\n",
    "print('partial_tuple:',partial_tuple)\n",
    "print('end_partial_tuple:', end_partial_tuple)\n"
   ]
  },
  {
   "cell_type": "code",
   "execution_count": 163,
   "metadata": {},
   "outputs": [
    {
     "data": {
      "text/plain": [
       "(5, 4, 3, 2, 1, 0)"
      ]
     },
     "execution_count": 163,
     "metadata": {},
     "output_type": "execute_result"
    }
   ],
   "source": [
    "# Negative indexing can be used in slicing to reverse the order of elements in the tuple.\n",
    "reversed_tuple = my_tuple[::-1]  # (5, 4, 3, 2, 1, 0)\n",
    "reversed_tuple"
   ]
  },
  {
   "cell_type": "code",
   "execution_count": 164,
   "metadata": {},
   "outputs": [
    {
     "data": {
      "text/plain": [
       "(0, 2, 4)"
      ]
     },
     "execution_count": 164,
     "metadata": {},
     "output_type": "execute_result"
    }
   ],
   "source": [
    "# Including a step value allows you to skip elements in the slice.\n",
    "even_indices = my_tuple[::2]  # (0, 2, 4)\n",
    "even_indices"
   ]
  },
  {
   "cell_type": "markdown",
   "metadata": {},
   "source": [
    "##### Remove & Change Items\n",
    "\n",
    "In Python, tuples are immutable, which means their elements cannot be changed or modified once the tuple is created. Therefore, you cannot directly remove or change items in a tuple."
   ]
  },
  {
   "cell_type": "code",
   "execution_count": 165,
   "metadata": {},
   "outputs": [
    {
     "data": {
      "text/plain": [
       "('one', 'two', 'three', 'four', 'five', 'six', 'seven', 'eight')"
      ]
     },
     "execution_count": 165,
     "metadata": {},
     "output_type": "execute_result"
    }
   ],
   "source": [
    "mytuple = ('one' , 'two' , 'three' , 'four' , 'five' , 'six' , 'seven' , 'eight')\n",
    "mytuple"
   ]
  },
  {
   "cell_type": "code",
   "execution_count": 166,
   "metadata": {},
   "outputs": [
    {
     "ename": "TypeError",
     "evalue": "'tuple' object doesn't support item deletion",
     "output_type": "error",
     "traceback": [
      "\u001b[0;31m---------------------------------------------------------------------------\u001b[0m",
      "\u001b[0;31mTypeError\u001b[0m                                 Traceback (most recent call last)",
      "Cell \u001b[0;32mIn[166], line 1\u001b[0m\n\u001b[0;32m----> 1\u001b[0m \u001b[38;5;28;01mdel\u001b[39;00m \u001b[43mmytuple\u001b[49m\u001b[43m[\u001b[49m\u001b[38;5;241;43m0\u001b[39;49m\u001b[43m]\u001b[49m \u001b[38;5;66;03m# Tuples are immutable which means we can't DELETE tuple items\u001b[39;00m\n",
      "\u001b[0;31mTypeError\u001b[0m: 'tuple' object doesn't support item deletion"
     ]
    }
   ],
   "source": [
    "del mytuple[0] # Tuples are immutable which means we can't DELETE tuple items"
   ]
  },
  {
   "cell_type": "code",
   "execution_count": 167,
   "metadata": {},
   "outputs": [
    {
     "ename": "TypeError",
     "evalue": "'tuple' object does not support item assignment",
     "output_type": "error",
     "traceback": [
      "\u001b[0;31m---------------------------------------------------------------------------\u001b[0m",
      "\u001b[0;31mTypeError\u001b[0m                                 Traceback (most recent call last)",
      "Cell \u001b[0;32mIn[167], line 1\u001b[0m\n\u001b[0;32m----> 1\u001b[0m \u001b[43mmytuple\u001b[49m\u001b[43m[\u001b[49m\u001b[38;5;241;43m0\u001b[39;49m\u001b[43m]\u001b[49m \u001b[38;5;241m=\u001b[39m \u001b[38;5;241m1\u001b[39m \u001b[38;5;66;03m# Tuples are immutable which means we can't CHANGE tuple items\u001b[39;00m\n",
      "\u001b[0;31mTypeError\u001b[0m: 'tuple' object does not support item assignment"
     ]
    }
   ],
   "source": [
    "mytuple[0] = 1 # Tuples are immutable which means we can't CHANGE tuple items"
   ]
  },
  {
   "cell_type": "markdown",
   "metadata": {},
   "source": [
    "However, you can create a new tuple by concatenating or slicing the existing tuple to achieve the desired result."
   ]
  },
  {
   "cell_type": "code",
   "execution_count": 168,
   "metadata": {},
   "outputs": [
    {
     "data": {
      "text/plain": [
       "(1, 2, 4, 5)"
      ]
     },
     "execution_count": 168,
     "metadata": {},
     "output_type": "execute_result"
    }
   ],
   "source": [
    "# Removing Items: If you want to \"remove\" an item from a tuple, you create a new tuple without that item.\n",
    "original_tuple = (1, 2, 3, 4, 5)\n",
    "item_to_remove = 3\n",
    "\n",
    "new_tuple = tuple(item for item in original_tuple if item != item_to_remove)\n",
    "# new_tuple is now (1, 2, 4, 5)\n",
    "new_tuple\n"
   ]
  },
  {
   "cell_type": "code",
   "execution_count": 169,
   "metadata": {},
   "outputs": [
    {
     "data": {
      "text/plain": [
       "(1, 2, 10, 4, 5)"
      ]
     },
     "execution_count": 169,
     "metadata": {},
     "output_type": "execute_result"
    }
   ],
   "source": [
    "# Changing Items: If you want to \"change\" an item, you need to create a new tuple with the updated values.\n",
    "original_tuple = (1, 2, 3, 4, 5)\n",
    "index_to_change = 2\n",
    "new_value = 10\n",
    "\n",
    "new_tuple = tuple(new_value if i == index_to_change else item for i, item in enumerate(original_tuple))\n",
    "# new_tuple is now (1, 2, 10, 4, 5)\n",
    "new_tuple"
   ]
  },
  {
   "cell_type": "code",
   "execution_count": 170,
   "metadata": {},
   "outputs": [],
   "source": [
    "del mytuple # Deleting entire tuple object is possible"
   ]
  },
  {
   "cell_type": "code",
   "execution_count": 171,
   "metadata": {},
   "outputs": [],
   "source": [
    "mytuple = ('one' , 'two' , 'three' , 'four' , 'five')"
   ]
  },
  {
   "cell_type": "code",
   "execution_count": 172,
   "metadata": {},
   "outputs": [
    {
     "name": "stdout",
     "output_type": "stream",
     "text": [
      "one\n",
      "two\n",
      "three\n",
      "four\n",
      "five\n"
     ]
    }
   ],
   "source": [
    "for i in mytuple:\n",
    "    print(i)"
   ]
  },
  {
   "cell_type": "code",
   "execution_count": 173,
   "metadata": {},
   "outputs": [
    {
     "name": "stdout",
     "output_type": "stream",
     "text": [
      "(0, 'one')\n",
      "(1, 'two')\n",
      "(2, 'three')\n",
      "(3, 'four')\n",
      "(4, 'five')\n"
     ]
    }
   ],
   "source": [
    "for i in enumerate(mytuple):\n",
    "    print(i)"
   ]
  },
  {
   "cell_type": "markdown",
   "metadata": {},
   "source": [
    "##### Count Tuple Elements\n",
    "\n",
    "The count() method in Python is used to count the number of occurrences of a specific element within a tuple."
   ]
  },
  {
   "cell_type": "code",
   "execution_count": 174,
   "metadata": {},
   "outputs": [
    {
     "data": {
      "text/plain": [
       "3"
      ]
     },
     "execution_count": 174,
     "metadata": {},
     "output_type": "execute_result"
    }
   ],
   "source": [
    "'''\n",
    "In this example, 'count_of_ones' will be equal to 3 because the value 1 appears three times in the tuple 'my_tuple'.\n",
    "The count() method is helpful when you want to determine how many times a particular element occurs in a tuple.\n",
    "'''\n",
    "my_tuple = (1, 2, 3, 1, 4, 1, 5)\n",
    "count_of_ones = my_tuple.count(1)  # Result: 3\n",
    "count_of_ones"
   ]
  },
  {
   "cell_type": "markdown",
   "metadata": {},
   "source": [
    "##### Tuple Membership\n",
    "\n",
    "Tuple membership in Python refers to checking whether a specific element is present in a tuple. You can use the in and not in operators to perform membership tests."
   ]
  },
  {
   "cell_type": "code",
   "execution_count": 175,
   "metadata": {},
   "outputs": [
    {
     "name": "stdout",
     "output_type": "stream",
     "text": [
      "is_present: True\n",
      "is_not_present: True\n"
     ]
    }
   ],
   "source": [
    "'''\n",
    "In this example, is_present evaluates to True because the element 3 is present in the tuple, \n",
    "while is_not_present evaluates to True because the element 6 is not present.\n",
    "\n",
    "'''\n",
    "my_tuple = (1, 2, 3, 4, 5)\n",
    "\n",
    "# Membership test\n",
    "is_present = 3 in my_tuple  # True\n",
    "is_not_present = 6 not in my_tuple  # True\n",
    "print('is_present:',is_present)\n",
    "print('is_not_present:',is_not_present)\n"
   ]
  },
  {
   "cell_type": "markdown",
   "metadata": {},
   "source": [
    "##### Index Position\n",
    "\n",
    "In Python, you can find the index position of a specific element in a tuple using the index() method. The index() method returns the index of the first occurrence of the specified element."
   ]
  },
  {
   "cell_type": "code",
   "execution_count": 176,
   "metadata": {},
   "outputs": [
    {
     "name": "stdout",
     "output_type": "stream",
     "text": [
      "('one', 'two', 'three', 'four', 'five')\n"
     ]
    },
    {
     "data": {
      "text/plain": [
       "2"
      ]
     },
     "execution_count": 176,
     "metadata": {},
     "output_type": "execute_result"
    }
   ],
   "source": [
    "print(mytuple)\n",
    "mytuple.index('three') # Index of 3rd element equal to '2'"
   ]
  },
  {
   "cell_type": "markdown",
   "metadata": {},
   "source": [
    "It's important to note that if the specified element is not present in the tuple, the index() method will raise a ValueError."
   ]
  },
  {
   "cell_type": "code",
   "execution_count": 177,
   "metadata": {},
   "outputs": [
    {
     "ename": "ValueError",
     "evalue": "tuple.index(x): x not in tuple",
     "output_type": "error",
     "traceback": [
      "\u001b[0;31m---------------------------------------------------------------------------\u001b[0m",
      "\u001b[0;31mValueError\u001b[0m                                Traceback (most recent call last)",
      "Cell \u001b[0;32mIn[177], line 1\u001b[0m\n\u001b[0;32m----> 1\u001b[0m index_position \u001b[38;5;241m=\u001b[39m \u001b[43mmy_tuple\u001b[49m\u001b[38;5;241;43m.\u001b[39;49m\u001b[43mindex\u001b[49m\u001b[43m(\u001b[49m\u001b[38;5;124;43m'\u001b[39;49m\u001b[38;5;124;43mgrape\u001b[39;49m\u001b[38;5;124;43m'\u001b[39;49m\u001b[43m)\u001b[49m\n\u001b[1;32m      2\u001b[0m \u001b[38;5;28mprint\u001b[39m(index_position)\n",
      "\u001b[0;31mValueError\u001b[0m: tuple.index(x): x not in tuple"
     ]
    }
   ],
   "source": [
    "index_position = my_tuple.index('grape')\n",
    "print(index_position)"
   ]
  },
  {
   "cell_type": "markdown",
   "metadata": {},
   "source": [
    "To handle this situation, you can use a try-except block as below:"
   ]
  },
  {
   "cell_type": "code",
   "execution_count": 178,
   "metadata": {},
   "outputs": [
    {
     "name": "stdout",
     "output_type": "stream",
     "text": [
      "Element not found in the tuple\n"
     ]
    }
   ],
   "source": [
    "# Will be discussing try-except block in Exception handeling in detail.\n",
    "try:\n",
    "    index_position = my_tuple.index('grape')\n",
    "    print(index_position)\n",
    "except ValueError:\n",
    "    print('Element not found in the tuple')\n"
   ]
  },
  {
   "cell_type": "markdown",
   "metadata": {},
   "source": [
    "##### Tuple Sorting"
   ]
  },
  {
   "cell_type": "code",
   "execution_count": 179,
   "metadata": {},
   "outputs": [
    {
     "data": {
      "text/plain": [
       "[6, 12, 43, 67, 67, 90, 99]"
      ]
     },
     "execution_count": 179,
     "metadata": {},
     "output_type": "execute_result"
    }
   ],
   "source": [
    "mytuple2 = (43,67,99,12,6,90,67)\n",
    "sorted(mytuple2) # Returns a new sorted list and doesn't change original tuple"
   ]
  },
  {
   "cell_type": "code",
   "execution_count": 180,
   "metadata": {},
   "outputs": [
    {
     "data": {
      "text/plain": [
       "[99, 90, 67, 67, 43, 12, 6]"
      ]
     },
     "execution_count": 180,
     "metadata": {},
     "output_type": "execute_result"
    }
   ],
   "source": [
    "sorted(mytuple2, reverse=True) # Sort in descending order"
   ]
  },
  {
   "cell_type": "markdown",
   "metadata": {},
   "source": [
    "#### Sets:\n",
    "\n",
    "In Python, a set is an unordered collection of unique elements. Sets are defined using curly braces {} or the set() constructor. They are commonly used for tasks that involve membership testing, removing duplicates from a sequence, and performing mathematical set operations."
   ]
  },
  {
   "cell_type": "code",
   "execution_count": 181,
   "metadata": {},
   "outputs": [
    {
     "data": {
      "text/plain": [
       "{1, 2, 3, 4, 5}"
      ]
     },
     "execution_count": 181,
     "metadata": {},
     "output_type": "execute_result"
    }
   ],
   "source": [
    "# Sets creation\n",
    "myset = {1,2,3,4,5} # Set of numbers\n",
    "myset"
   ]
  },
  {
   "cell_type": "code",
   "execution_count": 182,
   "metadata": {},
   "outputs": [
    {
     "data": {
      "text/plain": [
       "5"
      ]
     },
     "execution_count": 182,
     "metadata": {},
     "output_type": "execute_result"
    }
   ],
   "source": [
    "len(myset) #Length of the set"
   ]
  },
  {
   "cell_type": "code",
   "execution_count": 183,
   "metadata": {},
   "outputs": [
    {
     "data": {
      "text/plain": [
       "{1, 2, 3, 4, 5}"
      ]
     },
     "execution_count": 183,
     "metadata": {},
     "output_type": "execute_result"
    }
   ],
   "source": [
    "my_set = {1,1,2,2,3,4,5,5}\n",
    "my_set # Duplicate elements are not allowed."
   ]
  },
  {
   "cell_type": "code",
   "execution_count": 184,
   "metadata": {},
   "outputs": [
    {
     "data": {
      "text/plain": [
       "{1.79, 2.08, 3.99, 4.56, 5.45}"
      ]
     },
     "execution_count": 184,
     "metadata": {},
     "output_type": "execute_result"
    }
   ],
   "source": [
    "myset1 = {1.79,2.08,3.99,4.56,5.45} # Set of float numbers\n",
    "myset1"
   ]
  },
  {
   "cell_type": "code",
   "execution_count": 185,
   "metadata": {},
   "outputs": [
    {
     "data": {
      "text/plain": [
       "{'Don', 'Jha', 'John'}"
      ]
     },
     "execution_count": 185,
     "metadata": {},
     "output_type": "execute_result"
    }
   ],
   "source": [
    "myset2 = {'Jha' , 'John' , 'Don'} # Set of Strings\n",
    "myset2"
   ]
  },
  {
   "cell_type": "code",
   "execution_count": 186,
   "metadata": {},
   "outputs": [
    {
     "data": {
      "text/plain": [
       "{(11, 22, 32), 10, 20, 'Hola'}"
      ]
     },
     "execution_count": 186,
     "metadata": {},
     "output_type": "execute_result"
    }
   ],
   "source": [
    "myset3 = {10,20, \"Hola\", (11, 22, 32)} # Mixed datatypes\n",
    "myset3"
   ]
  },
  {
   "cell_type": "code",
   "execution_count": 187,
   "metadata": {},
   "outputs": [
    {
     "ename": "TypeError",
     "evalue": "unhashable type: 'list'",
     "output_type": "error",
     "traceback": [
      "\u001b[0;31m---------------------------------------------------------------------------\u001b[0m",
      "\u001b[0;31mTypeError\u001b[0m                                 Traceback (most recent call last)",
      "Cell \u001b[0;32mIn[187], line 1\u001b[0m\n\u001b[0;32m----> 1\u001b[0m myset3 \u001b[38;5;241m=\u001b[39m {\u001b[38;5;241m10\u001b[39m,\u001b[38;5;241m20\u001b[39m, \u001b[38;5;124m\"\u001b[39m\u001b[38;5;124mHola\u001b[39m\u001b[38;5;124m\"\u001b[39m, [\u001b[38;5;241m11\u001b[39m, \u001b[38;5;241m22\u001b[39m, \u001b[38;5;241m32\u001b[39m]} \u001b[38;5;66;03m# set doesn't allow mutable items like list ([11,22,32])\u001b[39;00m\n\u001b[1;32m      2\u001b[0m myset3\n",
      "\u001b[0;31mTypeError\u001b[0m: unhashable type: 'list'"
     ]
    }
   ],
   "source": [
    "myset3 = {10,20, \"Hola\", [11, 22, 32]} # set doesn't allow mutable items like list ([11,22,32])\n",
    "myset3"
   ]
  },
  {
   "cell_type": "code",
   "execution_count": 188,
   "metadata": {},
   "outputs": [
    {
     "data": {
      "text/plain": [
       "{(11, 22, 32), 10, 20, 'Hola'}"
      ]
     },
     "execution_count": 188,
     "metadata": {},
     "output_type": "execute_result"
    }
   ],
   "source": [
    "myset3 = {10,20, \"Hola\", (11, 22, 32)} # set does allow items like tuple (11,22,32)\n",
    "myset3"
   ]
  },
  {
   "cell_type": "code",
   "execution_count": 189,
   "metadata": {},
   "outputs": [
    {
     "name": "stdout",
     "output_type": "stream",
     "text": [
      "<class 'set'>\n"
     ]
    }
   ],
   "source": [
    "# creating set through set() - constructor\n",
    "myset4 = set() # Create an empty set\n",
    "print(type(myset4))"
   ]
  },
  {
   "cell_type": "code",
   "execution_count": 190,
   "metadata": {},
   "outputs": [
    {
     "data": {
      "text/plain": [
       "{'four', 'one', 'three', 'two'}"
      ]
     },
     "execution_count": 190,
     "metadata": {},
     "output_type": "execute_result"
    }
   ],
   "source": [
    "my_set1 = set(('one' , 'two' , 'three' , 'four'))\n",
    "my_set1"
   ]
  },
  {
   "cell_type": "markdown",
   "metadata": {},
   "source": [
    "##### Loop through a Set"
   ]
  },
  {
   "cell_type": "code",
   "execution_count": 191,
   "metadata": {},
   "outputs": [
    {
     "name": "stdout",
     "output_type": "stream",
     "text": [
      "one\n",
      "five\n",
      "four\n",
      "two\n",
      "three\n"
     ]
    }
   ],
   "source": [
    "myset = {'one', 'two', 'three', 'four', 'five'}\n",
    "for i in myset:\n",
    "    print(i)"
   ]
  },
  {
   "cell_type": "code",
   "execution_count": 192,
   "metadata": {},
   "outputs": [
    {
     "name": "stdout",
     "output_type": "stream",
     "text": [
      "(0, 'one')\n",
      "(1, 'five')\n",
      "(2, 'four')\n",
      "(3, 'two')\n",
      "(4, 'three')\n"
     ]
    }
   ],
   "source": [
    "for i in enumerate(myset):\n",
    "    print(i)"
   ]
  },
  {
   "cell_type": "markdown",
   "metadata": {},
   "source": [
    "##### Set Membership"
   ]
  },
  {
   "cell_type": "code",
   "execution_count": 193,
   "metadata": {},
   "outputs": [
    {
     "data": {
      "text/plain": [
       "{'five', 'four', 'one', 'three', 'two'}"
      ]
     },
     "execution_count": 193,
     "metadata": {},
     "output_type": "execute_result"
    }
   ],
   "source": [
    "myset"
   ]
  },
  {
   "cell_type": "code",
   "execution_count": 194,
   "metadata": {},
   "outputs": [
    {
     "name": "stdout",
     "output_type": "stream",
     "text": [
      "is_present: False\n",
      "is_not_present: True\n"
     ]
    }
   ],
   "source": [
    "'''\n",
    "In this example, is_present evaluates to True because the element 3 is present in the set, \n",
    "while is_not_present evaluates to True because the element 6 is not present.\n",
    "\n",
    "'''\n",
    "# Membership test\n",
    "is_present = 3 in myset  # True\n",
    "is_not_present = 6 not in myset  # True\n",
    "print('is_present:',is_present)\n",
    "print('is_not_present:',is_not_present)\n"
   ]
  },
  {
   "cell_type": "markdown",
   "metadata": {},
   "source": [
    "##### Add & Remove Items from Sets"
   ]
  },
  {
   "cell_type": "code",
   "execution_count": 195,
   "metadata": {},
   "outputs": [
    {
     "data": {
      "text/plain": [
       "{'five', 'four', 'one', 'three', 'two'}"
      ]
     },
     "execution_count": 195,
     "metadata": {},
     "output_type": "execute_result"
    }
   ],
   "source": [
    "myset"
   ]
  },
  {
   "cell_type": "code",
   "execution_count": 196,
   "metadata": {},
   "outputs": [
    {
     "data": {
      "text/plain": [
       "{'SIX', 'five', 'four', 'one', 'three', 'two'}"
      ]
     },
     "execution_count": 196,
     "metadata": {},
     "output_type": "execute_result"
    }
   ],
   "source": [
    "myset.add('SIX') # Add item to a set using add() method\n",
    "myset"
   ]
  },
  {
   "cell_type": "code",
   "execution_count": 197,
   "metadata": {},
   "outputs": [
    {
     "data": {
      "text/plain": [
       "{'EIGHT', 'NINE', 'SEVEN', 'SIX', 'five', 'four', 'one', 'three', 'two'}"
      ]
     },
     "execution_count": 197,
     "metadata": {},
     "output_type": "execute_result"
    }
   ],
   "source": [
    "myset.update(['SEVEN' , 'EIGHT' , 'NINE']) # Add multiple item to a set using update()\n",
    "myset"
   ]
  },
  {
   "cell_type": "code",
   "execution_count": 198,
   "metadata": {},
   "outputs": [
    {
     "data": {
      "text/plain": [
       "{'EIGHT', 'SEVEN', 'SIX', 'five', 'four', 'one', 'three', 'two'}"
      ]
     },
     "execution_count": 198,
     "metadata": {},
     "output_type": "execute_result"
    }
   ],
   "source": [
    "myset.remove('NINE') # remove item in a set using remove() method\n",
    "myset"
   ]
  },
  {
   "cell_type": "code",
   "execution_count": 199,
   "metadata": {},
   "outputs": [
    {
     "data": {
      "text/plain": [
       "{'SEVEN', 'SIX', 'five', 'four', 'one', 'three', 'two'}"
      ]
     },
     "execution_count": 199,
     "metadata": {},
     "output_type": "execute_result"
    }
   ],
   "source": [
    "myset.discard('EIGHT') # remove item from a set using discard() method\n",
    "myset"
   ]
  },
  {
   "cell_type": "code",
   "execution_count": 200,
   "metadata": {},
   "outputs": [
    {
     "data": {
      "text/plain": [
       "set()"
      ]
     },
     "execution_count": 200,
     "metadata": {},
     "output_type": "execute_result"
    }
   ],
   "source": [
    "myset.clear() # Delete all items in a set\n",
    "myset"
   ]
  },
  {
   "cell_type": "code",
   "execution_count": 201,
   "metadata": {},
   "outputs": [],
   "source": [
    "del myset # Delete the set object"
   ]
  },
  {
   "cell_type": "markdown",
   "metadata": {},
   "source": [
    "##### Set Operations:"
   ]
  },
  {
   "cell_type": "code",
   "execution_count": 202,
   "metadata": {},
   "outputs": [
    {
     "name": "stdout",
     "output_type": "stream",
     "text": [
      "set1: {1, 2, 3, 4}\n",
      "set2: {3, 4, 5, 6}\n",
      "Union: {1, 2, 3, 4, 5, 6}\n",
      "Intersection: {3, 4}\n",
      "Difference: {1, 2}\n",
      "Symmetric Difference: {1, 2, 5, 6}\n",
      "Is Subset: False\n",
      "Is Superset: False\n",
      "Are Disjoint: False\n"
     ]
    }
   ],
   "source": [
    "# Sample Sets\n",
    "set1 = {1, 2, 3, 4}\n",
    "set2 = {3, 4, 5, 6}\n",
    "print('set1:', set1)\n",
    "print('set2:', set2)\n",
    "\n",
    "# Union (|): Combines elements from both sets, excluding duplicates.\n",
    "union_set = set1 | set2\n",
    "print(\"Union:\", union_set)  # Output: {1, 2, 3, 4, 5, 6}\n",
    "\n",
    "# Intersection (&): Contains elements common to both sets.\n",
    "intersection_set = set1 & set2\n",
    "print(\"Intersection:\", intersection_set)  # Output: {3, 4}\n",
    "\n",
    "# Difference (-): Contains elements present in the first set but not in the second.\n",
    "difference_set = set1 - set2\n",
    "print(\"Difference:\", difference_set)  # Output: {1, 2}\n",
    "\n",
    "# SSymmetric Difference (^): Contains elements not common to both sets.\n",
    "symmetric_difference_set = set1 ^ set2\n",
    "print(\"Symmetric Difference:\", symmetric_difference_set)  # Output: {1, 2, 5, 6}\n",
    "\n",
    "# Subset (<=) and Superset (>=): Checks if one set is a subset or superset of another.\n",
    "is_subset = set1 <= set2\n",
    "is_superset = set1 >= set2\n",
    "print(\"Is Subset:\", is_subset)  # Output: False\n",
    "print(\"Is Superset:\", is_superset)  # Output: False\n",
    "\n",
    "# Disjoint Sets: Sets are disjoint if they have no elements in common.\n",
    "are_disjoint = set1.isdisjoint(set2)\n",
    "print(\"Are Disjoint:\", are_disjoint)  # Output: False\n"
   ]
  },
  {
   "cell_type": "code",
   "execution_count": 203,
   "metadata": {},
   "outputs": [
    {
     "name": "stdout",
     "output_type": "stream",
     "text": [
      "Copied set A from set1: {1, 2, 3, 4}\n",
      "Sum of Set Elements: 10\n",
      "Maximum number from the set: 4\n",
      "Minimum Number form the set: 1\n",
      "Length of Set A: 4\n",
      "(Index,Elements) of set: [(0, 1), (1, 2), (2, 3), (3, 4)]\n",
      "Sorted and reversed set: [4, 3, 2, 1]\n",
      "Only Sorted, not reversed: [1, 2, 3, 4]\n"
     ]
    }
   ],
   "source": [
    "# Other Builtin functions\n",
    "A = set1.copy() \n",
    "print('Copied set A from set1:', A)\n",
    "print('Sum of Set Elements:',sum(A))\n",
    "print('Maximum number from the set:',max(A))\n",
    "print('Minimum Number form the set:',min(A))\n",
    "print('Length of Set A:', len(A))\n",
    "print('(Index,Elements) of set:', list(enumerate(A)))\n",
    "print('Sorted and reversed set:', sorted(A,reverse=True))\n",
    "print('Only Sorted, not reversed:', sorted(A))"
   ]
  },
  {
   "cell_type": "markdown",
   "metadata": {},
   "source": [
    "#### Dictionary:\n",
    "\n",
    "In Python, a dictionary is a collection of key-value pairs, where each key must be unique but duplicate values are allowed. Dictionaries are defined using curly braces {} and consist of comma-separated key-value pairs. It is a mutable data type in Python.\n",
    "\n",
    "Syntax: \n",
    "\n",
    "mydict = {'A':'One','B':'two','C':'three','D':'four'}"
   ]
  },
  {
   "cell_type": "code",
   "execution_count": 204,
   "metadata": {},
   "outputs": [
    {
     "data": {
      "text/plain": [
       "{}"
      ]
     },
     "execution_count": 204,
     "metadata": {},
     "output_type": "execute_result"
    }
   ],
   "source": [
    "# Create Dictionary\n",
    "mydict = dict() # empty dictionary\n",
    "mydict"
   ]
  },
  {
   "cell_type": "code",
   "execution_count": 205,
   "metadata": {},
   "outputs": [
    {
     "data": {
      "text/plain": [
       "dict"
      ]
     },
     "execution_count": 205,
     "metadata": {},
     "output_type": "execute_result"
    }
   ],
   "source": [
    "mydict1 = {} # empty dictionary\n",
    "type(mydict1)"
   ]
  },
  {
   "cell_type": "code",
   "execution_count": 206,
   "metadata": {},
   "outputs": [
    {
     "data": {
      "text/plain": [
       "{1: 'one', 2: 'two', 3: 'three'}"
      ]
     },
     "execution_count": 206,
     "metadata": {},
     "output_type": "execute_result"
    }
   ],
   "source": [
    "mydict = {1:'one' , 2:'two' , 3:'three'} # dictionary with integer keys\n",
    "mydict"
   ]
  },
  {
   "cell_type": "code",
   "execution_count": 207,
   "metadata": {},
   "outputs": [
    {
     "data": {
      "text/plain": [
       "{1: 'one', 2: 'two', 3: 'three'}"
      ]
     },
     "execution_count": 207,
     "metadata": {},
     "output_type": "execute_result"
    }
   ],
   "source": [
    "mydict = dict({1:'one' , 2:'two' , 3:'three'}) # Create dictionary using dict()\n",
    "mydict"
   ]
  },
  {
   "cell_type": "code",
   "execution_count": 208,
   "metadata": {},
   "outputs": [
    {
     "data": {
      "text/plain": [
       "dict_keys([1, 2, 3])"
      ]
     },
     "execution_count": 208,
     "metadata": {},
     "output_type": "execute_result"
    }
   ],
   "source": [
    "mydict.keys() # Return Dictionary Keys using keys() method"
   ]
  },
  {
   "cell_type": "code",
   "execution_count": 209,
   "metadata": {},
   "outputs": [
    {
     "data": {
      "text/plain": [
       "dict_values(['one', 'two', 'three'])"
      ]
     },
     "execution_count": 209,
     "metadata": {},
     "output_type": "execute_result"
    }
   ],
   "source": [
    "mydict.values() # Return Dictionary Values using values() method"
   ]
  },
  {
   "cell_type": "code",
   "execution_count": 210,
   "metadata": {},
   "outputs": [
    {
     "data": {
      "text/plain": [
       "dict_items([(1, 'one'), (2, 'two'), (3, 'three')])"
      ]
     },
     "execution_count": 210,
     "metadata": {},
     "output_type": "execute_result"
    }
   ],
   "source": [
    "mydict.items() # Access each key-value pair within a dictionary"
   ]
  },
  {
   "cell_type": "code",
   "execution_count": 211,
   "metadata": {},
   "outputs": [
    {
     "data": {
      "text/plain": [
       "{'a': None, 'd': None, 'c': None, 'b': None}"
      ]
     },
     "execution_count": 211,
     "metadata": {},
     "output_type": "execute_result"
    }
   ],
   "source": [
    "keys = {'a' , 'b' , 'c' , 'd'}\n",
    "mydict3 = dict.fromkeys(keys) # Create a dictionary from a sequence of keys\n",
    "mydict3"
   ]
  },
  {
   "cell_type": "code",
   "execution_count": 212,
   "metadata": {},
   "outputs": [
    {
     "data": {
      "text/plain": [
       "{'a': 10, 'd': 10, 'c': 10, 'b': 10}"
      ]
     },
     "execution_count": 212,
     "metadata": {},
     "output_type": "execute_result"
    }
   ],
   "source": [
    "keys = {'a' , 'b' , 'c' , 'd'}\n",
    "value = 10\n",
    "mydict3 = dict.fromkeys(keys , value) # Create a dictionary from a sequence of key-value\n",
    "mydict3"
   ]
  },
  {
   "cell_type": "code",
   "execution_count": 213,
   "metadata": {},
   "outputs": [
    {
     "data": {
      "text/plain": [
       "{'a': [10, 20, 30], 'd': [10, 20, 30], 'c': [10, 20, 30], 'b': [10, 20, 30]}"
      ]
     },
     "execution_count": 213,
     "metadata": {},
     "output_type": "execute_result"
    }
   ],
   "source": [
    "keys = {'a' , 'b' , 'c' , 'd'}\n",
    "value = [10,20,30]\n",
    "mydict3 = dict.fromkeys(keys , value) # Create a dictionary from a sequence of key-value\n",
    "mydict3"
   ]
  },
  {
   "cell_type": "code",
   "execution_count": 214,
   "metadata": {},
   "outputs": [
    {
     "data": {
      "text/plain": [
       "{'a': [10, 20, 30, 40],\n",
       " 'd': [10, 20, 30, 40],\n",
       " 'c': [10, 20, 30, 40],\n",
       " 'b': [10, 20, 30, 40]}"
      ]
     },
     "execution_count": 214,
     "metadata": {},
     "output_type": "execute_result"
    }
   ],
   "source": [
    "value.append(40)\n",
    "mydict3"
   ]
  },
  {
   "cell_type": "code",
   "execution_count": 215,
   "metadata": {},
   "outputs": [
    {
     "name": "stdout",
     "output_type": "stream",
     "text": [
      "mydict: {1: 'one', 2: 'two', 3: 'three', 4: 'four'}\n"
     ]
    },
    {
     "data": {
      "text/plain": [
       "'one'"
      ]
     },
     "execution_count": 215,
     "metadata": {},
     "output_type": "execute_result"
    }
   ],
   "source": [
    "# Accessing Items\n",
    "mydict = {1:'one' , 2:'two' , 3:'three' , 4:'four'}\n",
    "print('mydict:', mydict)\n",
    "mydict[1] # Access item using key"
   ]
  },
  {
   "cell_type": "code",
   "execution_count": 216,
   "metadata": {},
   "outputs": [
    {
     "data": {
      "text/plain": [
       "'one'"
      ]
     },
     "execution_count": 216,
     "metadata": {},
     "output_type": "execute_result"
    }
   ],
   "source": [
    "mydict.get(1) # Access item using get() method"
   ]
  },
  {
   "cell_type": "code",
   "execution_count": 217,
   "metadata": {},
   "outputs": [
    {
     "data": {
      "text/plain": [
       "{'Name': 'ABCD', 'ID': '010101', 'DOB': 1993, 'job': 'DataScientist'}"
      ]
     },
     "execution_count": 217,
     "metadata": {},
     "output_type": "execute_result"
    }
   ],
   "source": [
    "mydict1 = {'Name':'ABCD' , 'ID': '010101' , 'DOB': 1993 , 'job' :'DataScientist'}\n",
    "mydict1"
   ]
  },
  {
   "cell_type": "code",
   "execution_count": 218,
   "metadata": {},
   "outputs": [
    {
     "data": {
      "text/plain": [
       "'ABCD'"
      ]
     },
     "execution_count": 218,
     "metadata": {},
     "output_type": "execute_result"
    }
   ],
   "source": [
    "mydict1['Name'] # Access item using key"
   ]
  },
  {
   "cell_type": "code",
   "execution_count": 219,
   "metadata": {},
   "outputs": [
    {
     "data": {
      "text/plain": [
       "'DataScientist'"
      ]
     },
     "execution_count": 219,
     "metadata": {},
     "output_type": "execute_result"
    }
   ],
   "source": [
    "mydict1.get('job') # Access item using get() method"
   ]
  },
  {
   "cell_type": "markdown",
   "metadata": {},
   "source": [
    "##### Add, Remove & Change Items\n"
   ]
  },
  {
   "cell_type": "code",
   "execution_count": 220,
   "metadata": {},
   "outputs": [
    {
     "data": {
      "text/plain": [
       "{'Name': 'ABCD',\n",
       " 'ID': '010101',\n",
       " 'DOB': 1993,\n",
       " 'job': 'DataScientist',\n",
       " 'Address': 'XYZ'}"
      ]
     },
     "execution_count": 220,
     "metadata": {},
     "output_type": "execute_result"
    }
   ],
   "source": [
    "mydict1 = {'Name':'ABCD' , 'ID': '010101' , 'DOB': 1993 , 'job' :'DataScientist', 'Address': 'XYZ'}\n",
    "mydict1"
   ]
  },
  {
   "cell_type": "code",
   "execution_count": 221,
   "metadata": {},
   "outputs": [
    {
     "data": {
      "text/plain": [
       "{'Name': 'ABCD',\n",
       " 'ID': '010101',\n",
       " 'DOB': 1992,\n",
       " 'job': 'DataScientist',\n",
       " 'Address': 'BGLR'}"
      ]
     },
     "execution_count": 221,
     "metadata": {},
     "output_type": "execute_result"
    }
   ],
   "source": [
    "mydict1['DOB'] = 1992 # Changing Dictionary Items\n",
    "mydict1['Address'] = 'BGLR'\n",
    "mydict1"
   ]
  },
  {
   "cell_type": "code",
   "execution_count": 222,
   "metadata": {},
   "outputs": [
    {
     "data": {
      "text/plain": [
       "{'Name': 'ABCD',\n",
       " 'ID': '010101',\n",
       " 'DOB': 1995,\n",
       " 'job': 'DataScientist',\n",
       " 'Address': 'BGLR'}"
      ]
     },
     "execution_count": 222,
     "metadata": {},
     "output_type": "execute_result"
    }
   ],
   "source": [
    "# Changing Dictionary Items through update()\n",
    "dict1 = {'DOB':1995}\n",
    "mydict1.update(dict1)\n",
    "mydict1"
   ]
  },
  {
   "cell_type": "code",
   "execution_count": 223,
   "metadata": {},
   "outputs": [
    {
     "data": {
      "text/plain": [
       "{'Name': 'ABCD',\n",
       " 'ID': '010101',\n",
       " 'DOB': 1995,\n",
       " 'job': 'DataScientist',\n",
       " 'Address': 'BGLR',\n",
       " 'NewKey': 'NewValue'}"
      ]
     },
     "execution_count": 223,
     "metadata": {},
     "output_type": "execute_result"
    }
   ],
   "source": [
    "mydict1['NewKey'] = 'NewValue' # Adding items in the dictionary\n",
    "mydict1"
   ]
  },
  {
   "cell_type": "code",
   "execution_count": 224,
   "metadata": {},
   "outputs": [
    {
     "data": {
      "text/plain": [
       "{'Name': 'ABCD',\n",
       " 'ID': '010101',\n",
       " 'DOB': 1995,\n",
       " 'job': 'DataScientist',\n",
       " 'Address': 'BGLR'}"
      ]
     },
     "execution_count": 224,
     "metadata": {},
     "output_type": "execute_result"
    }
   ],
   "source": [
    "mydict1.pop('NewKey') # Removing items in the dictionary using Pop method\n",
    "mydict1"
   ]
  },
  {
   "cell_type": "code",
   "execution_count": 225,
   "metadata": {},
   "outputs": [
    {
     "data": {
      "text/plain": [
       "('Address', 'BGLR')"
      ]
     },
     "execution_count": 225,
     "metadata": {},
     "output_type": "execute_result"
    }
   ],
   "source": [
    "mydict1.popitem() # A random item is removed"
   ]
  },
  {
   "cell_type": "code",
   "execution_count": 226,
   "metadata": {},
   "outputs": [
    {
     "data": {
      "text/plain": [
       "{'Name': 'ABCD', 'ID': '010101', 'DOB': 1995, 'job': 'DataScientist'}"
      ]
     },
     "execution_count": 226,
     "metadata": {},
     "output_type": "execute_result"
    }
   ],
   "source": [
    "mydict1"
   ]
  },
  {
   "cell_type": "code",
   "execution_count": 227,
   "metadata": {},
   "outputs": [
    {
     "data": {
      "text/plain": [
       "{'Name': 'ABCD', 'DOB': 1995, 'job': 'DataScientist'}"
      ]
     },
     "execution_count": 227,
     "metadata": {},
     "output_type": "execute_result"
    }
   ],
   "source": [
    "del[mydict1['ID']] # Removing item using del method\n",
    "mydict1"
   ]
  },
  {
   "cell_type": "code",
   "execution_count": 228,
   "metadata": {},
   "outputs": [
    {
     "data": {
      "text/plain": [
       "{}"
      ]
     },
     "execution_count": 228,
     "metadata": {},
     "output_type": "execute_result"
    }
   ],
   "source": [
    "mydict1.clear() # Delete all items of the dictionary using clear method\n",
    "mydict1"
   ]
  },
  {
   "cell_type": "code",
   "execution_count": 229,
   "metadata": {},
   "outputs": [],
   "source": [
    "del mydict1 # Delete the dictionary object"
   ]
  },
  {
   "cell_type": "markdown",
   "metadata": {},
   "source": [
    "##### Loop through a Dictionary"
   ]
  },
  {
   "cell_type": "code",
   "execution_count": 230,
   "metadata": {},
   "outputs": [
    {
     "data": {
      "text/plain": [
       "{'Name': 'ABCD',\n",
       " 'ID': '010101',\n",
       " 'DOB': 1993,\n",
       " 'job': 'DataScientist',\n",
       " 'Address': 'XYZ'}"
      ]
     },
     "execution_count": 230,
     "metadata": {},
     "output_type": "execute_result"
    }
   ],
   "source": [
    "mydict1 = {'Name':'ABCD' , 'ID': '010101' , 'DOB': 1993 , 'job' :'DataScientist', 'Address': 'XYZ'}\n",
    "mydict1"
   ]
  },
  {
   "cell_type": "code",
   "execution_count": 231,
   "metadata": {},
   "outputs": [
    {
     "name": "stdout",
     "output_type": "stream",
     "text": [
      "Name : ABCD\n",
      "ID : 010101\n",
      "DOB : 1993\n",
      "job : DataScientist\n",
      "Address : XYZ\n"
     ]
    }
   ],
   "source": [
    "for i in mydict1:\n",
    "    print(i , ':' , mydict1[i]) # Key & value pair"
   ]
  },
  {
   "cell_type": "code",
   "execution_count": 232,
   "metadata": {},
   "outputs": [
    {
     "name": "stdout",
     "output_type": "stream",
     "text": [
      "ABCD\n",
      "010101\n",
      "1993\n",
      "DataScientist\n",
      "XYZ\n"
     ]
    }
   ],
   "source": [
    "for i in mydict1:\n",
    "    print(mydict1[i]) # Dictionary items"
   ]
  },
  {
   "cell_type": "markdown",
   "metadata": {},
   "source": [
    "##### Dictionary Membership"
   ]
  },
  {
   "cell_type": "code",
   "execution_count": 233,
   "metadata": {},
   "outputs": [
    {
     "data": {
      "text/plain": [
       "{'Name': 'ABCD',\n",
       " 'ID': '010101',\n",
       " 'DOB': 1993,\n",
       " 'job': 'DataScientist',\n",
       " 'Address': 'XYZ'}"
      ]
     },
     "execution_count": 233,
     "metadata": {},
     "output_type": "execute_result"
    }
   ],
   "source": [
    "mydict1"
   ]
  },
  {
   "cell_type": "code",
   "execution_count": 234,
   "metadata": {},
   "outputs": [
    {
     "name": "stdout",
     "output_type": "stream",
     "text": [
      "True\n",
      "False\n"
     ]
    }
   ],
   "source": [
    "print('Name' in mydict1 ) # Test if a key is in a dictionary or not.\n",
    "print('Name' not in mydict1 )"
   ]
  },
  {
   "cell_type": "code",
   "execution_count": 235,
   "metadata": {},
   "outputs": [
    {
     "data": {
      "text/plain": [
       "True"
      ]
     },
     "execution_count": 235,
     "metadata": {},
     "output_type": "execute_result"
    }
   ],
   "source": [
    "all(mydict1) # Will Return false as one value is false (Value 0)"
   ]
  },
  {
   "cell_type": "code",
   "execution_count": 236,
   "metadata": {},
   "outputs": [
    {
     "data": {
      "text/plain": [
       "True"
      ]
     },
     "execution_count": 236,
     "metadata": {},
     "output_type": "execute_result"
    }
   ],
   "source": [
    "any(mydict1) # Will Return True as we have items in the dictionary with True value"
   ]
  },
  {
   "cell_type": "markdown",
   "metadata": {},
   "source": [
    "##### Dictionary Methods\n",
    "\n",
    "- keys(): Returns a list of all keys in the dictionary.\n",
    "- values(): Returns a list of all values in the dictionary.\n",
    "- items(): Returns a list of key-value tuples.\n",
    "- get(key, default): Returns the value for a given key; if the key is not present, returns the default value."
   ]
  },
  {
   "cell_type": "code",
   "execution_count": 237,
   "metadata": {},
   "outputs": [
    {
     "name": "stdout",
     "output_type": "stream",
     "text": [
      "Alice\n",
      "Unknown\n",
      "name: Alice\n",
      "age: 30\n",
      "occupation: Teacher\n"
     ]
    }
   ],
   "source": [
    "person = {'name': 'Alice', 'age': 30, 'occupation': 'Teacher'}\n",
    "\n",
    "print(person['name'])  # Output: Alice\n",
    "print(person.get('city', 'Unknown'))  # Output: Unknown\n",
    "\n",
    "# Iterating through the dictionary\n",
    "for key, value in person.items():\n",
    "    print(f\"{key}: {value}\")\n"
   ]
  },
  {
   "cell_type": "markdown",
   "metadata": {},
   "source": [
    "##### Dictionary Comprehension\n",
    "Dictionary comprehension is a concise way to create dictionaries in Python. It allows you to generate dictionaries using a single line of code, similar to list comprehensions. The basic syntax is {key_expression: value_expression for item in iterable}."
   ]
  },
  {
   "cell_type": "code",
   "execution_count": 238,
   "metadata": {},
   "outputs": [
    {
     "data": {
      "text/plain": [
       "{0: 0, 1: 2, 2: 4, 3: 6, 4: 8, 5: 10, 6: 12, 7: 14, 8: 16, 9: 18}"
      ]
     },
     "execution_count": 238,
     "metadata": {},
     "output_type": "execute_result"
    }
   ],
   "source": [
    "double = {i:i*2 for i in range(10)} #double each value using dict comprehension\n",
    "double"
   ]
  },
  {
   "cell_type": "code",
   "execution_count": 239,
   "metadata": {},
   "outputs": [
    {
     "data": {
      "text/plain": [
       "{0: 0, 1: 1, 2: 4, 3: 9, 4: 16, 5: 25, 6: 36, 7: 49, 8: 64, 9: 81}"
      ]
     },
     "execution_count": 239,
     "metadata": {},
     "output_type": "execute_result"
    }
   ],
   "source": [
    "square = {i:i**2 for i in range(10)}\n",
    "square"
   ]
  },
  {
   "cell_type": "code",
   "execution_count": 240,
   "metadata": {},
   "outputs": [
    {
     "data": {
      "text/plain": [
       "{'one': 1, 'two': 2, 'three': 3, 'four': 4, 'five': 5}"
      ]
     },
     "execution_count": 240,
     "metadata": {},
     "output_type": "execute_result"
    }
   ],
   "source": [
    "key = ['one' , 'two' , 'three' , 'four' , 'five']\n",
    "value = [1,2,3,4,5]\n",
    "mydict = {k:v for (k,v) in zip(key,value)} # using dict comprehension to create dictionary\n",
    "mydict"
   ]
  },
  {
   "cell_type": "code",
   "execution_count": 241,
   "metadata": {},
   "outputs": [
    {
     "data": {
      "text/plain": [
       "{'a': 1.0, 'b': 2.0, 'c': 3.0, 'd': 4.0, 'e': 5.0}"
      ]
     },
     "execution_count": 241,
     "metadata": {},
     "output_type": "execute_result"
    }
   ],
   "source": [
    "mydict1 = {'a':10 , 'b':20 , 'c':30 , 'd':40 , 'e':50}\n",
    "mydict1 = {k:v/10 for (k,v) in mydict1.items()} # Divide all values in a dictionary by 10\n",
    "mydict1"
   ]
  },
  {
   "cell_type": "code",
   "execution_count": 242,
   "metadata": {},
   "outputs": [
    {
     "data": {
      "text/plain": [
       "{0: 'D',\n",
       " 1: 'i',\n",
       " 2: 'c',\n",
       " 3: 't',\n",
       " 4: 'i',\n",
       " 5: 'o',\n",
       " 6: 'n',\n",
       " 7: 'a',\n",
       " 8: 'r',\n",
       " 9: 'y'}"
      ]
     },
     "execution_count": 242,
     "metadata": {},
     "output_type": "execute_result"
    }
   ],
   "source": [
    "str1 = \"Dictionary\"\n",
    "mydict2 = {k:v for (k,v) in enumerate(str1)} # Store enumerated values in a dictionary\n",
    "mydict2"
   ]
  },
  {
   "cell_type": "code",
   "execution_count": 243,
   "metadata": {},
   "outputs": [
    {
     "data": {
      "text/plain": [
       "{'a': 'A',\n",
       " 'b': 'B',\n",
       " 'c': 'C',\n",
       " 'd': 'D',\n",
       " 'e': 'E',\n",
       " 'f': 'F',\n",
       " 'g': 'G',\n",
       " 'h': 'H'}"
      ]
     },
     "execution_count": 243,
     "metadata": {},
     "output_type": "execute_result"
    }
   ],
   "source": [
    "str1 = \"abcdefgh\"\n",
    "mydict3 = {i:i.upper() for i in str1} # Lower to Upper Case\n",
    "mydict3"
   ]
  },
  {
   "cell_type": "code",
   "execution_count": 244,
   "metadata": {},
   "outputs": [
    {
     "data": {
      "text/plain": [
       "['M', 'O', 'E', 'W', 'C', 'L']"
      ]
     },
     "execution_count": 244,
     "metadata": {},
     "output_type": "execute_result"
    }
   ],
   "source": [
    "mylist1 = set(mylist) # Unique values in a list\n",
    "mylist1 = list (mylist1)\n",
    "mylist1"
   ]
  },
  {
   "cell_type": "code",
   "execution_count": 245,
   "metadata": {},
   "outputs": [
    {
     "name": "stdout",
     "output_type": "stream",
     "text": [
      "apple: 3\n",
      "banana: 2\n",
      "orange: 1\n",
      "pear: 1\n"
     ]
    }
   ],
   "source": [
    "'''\n",
    "To calculate the frequency of each word in a dictionary, you can iterate through a \n",
    "list of words and update the count in the dictionary. Here's an example:\n",
    "'''\n",
    "\n",
    "# Sample list of words\n",
    "word_list = [\"apple\", \"banana\", \"apple\", \"orange\", \"banana\", \"apple\", \"pear\"]\n",
    "\n",
    "# Initialize an empty dictionary to store word frequencies\n",
    "word_freq = {}\n",
    "\n",
    "# Calculate word frequencies\n",
    "for word in word_list:\n",
    "    # If the word is not in the dictionary, add it with a count of 1\n",
    "    if word not in word_freq:\n",
    "        word_freq[word] = 1\n",
    "    else:\n",
    "        # If the word is already in the dictionary, increment its count\n",
    "        word_freq[word] += 1\n",
    "\n",
    "# Print the word frequencies\n",
    "for word, count in word_freq.items():\n",
    "    print(f\"{word}: {count}\")\n"
   ]
  },
  {
   "cell_type": "markdown",
   "metadata": {},
   "source": [
    "#### Operators\n",
    "In Python, operators are special symbols or keywords that perform operations on variables and values. Here's an overview of different types of operators in Python:"
   ]
  },
  {
   "cell_type": "code",
   "execution_count": 246,
   "metadata": {},
   "outputs": [
    {
     "name": "stdout",
     "output_type": "stream",
     "text": [
      "Arithmetic Operators\n",
      "\n",
      "Addition: 15\n",
      "Subtraction: 5\n",
      "Multiplication: 50\n",
      "Division: 2.0\n",
      "Modulus: 0\n",
      "Exponentiation: 100000\n",
      "Comparison Operators\n",
      "\n",
      "Equal: False\n",
      "Not Equal: True\n",
      "Greater Than: True\n",
      "Less Than: False\n",
      "Greater Than Equal: True\n",
      "Less Than Equal: False\n",
      "Logical Operator\n",
      "\n",
      "Logical AND: False\n",
      "Logical OR: True\n",
      "Logical NOT: False\n",
      "Assignment Operator\n",
      "\n",
      "Updated Value of x: 15\n",
      "identity Operator\n",
      "\n",
      "Identity (is): True\n",
      "Identity (is not): False\n",
      "membership Operator\n",
      "\n",
      "Membership (in): True\n",
      "Membership (not in): True\n",
      "Bitwise Operator\n",
      "\n",
      "Bitwise AND: 1\n",
      "Bitwise OR: 7\n",
      "Bitwise XOR: 6\n"
     ]
    }
   ],
   "source": [
    "# 1. Arithmetic Operators: Perform basic arithmetic operations.\n",
    "a = 10\n",
    "b = 5\n",
    "print('Arithmetic Operators\\n')\n",
    "print(\"Addition:\", a + b)  # 15\n",
    "print(\"Subtraction:\", a - b)  # 5\n",
    "print(\"Multiplication:\", a * b)  # 50\n",
    "print(\"Division:\", a / b)  # 2.0\n",
    "print(\"Modulus:\", a % b)  # 0\n",
    "print(\"Exponentiation:\", a ** b)  # 100000\n",
    "\n",
    "# 2. Comparison Operators: Compare values and return Boolean results.\n",
    "x = 10\n",
    "y = 5\n",
    "print('Comparison Operators\\n')\n",
    "print(\"Equal:\", x == y)  # False\n",
    "print(\"Not Equal:\", x != y)  # True\n",
    "print(\"Greater Than:\", x > y)  # True\n",
    "print(\"Less Than:\", x < y)  # False\n",
    "print(\"Greater Than Equal:\", x >= y)  # True\n",
    "print(\"Less Than Equal:\", x <= y)  # False\n",
    "\n",
    "# 3. Logical Operators: Combine multiple conditions.\n",
    "a = True\n",
    "b = False\n",
    "print('Logical Operator\\n')\n",
    "print(\"Logical AND:\", a and b)  # False\n",
    "print(\"Logical OR:\", a or b)  # True\n",
    "print(\"Logical NOT:\", not a)  # False\n",
    "\n",
    "# 4. Assignment Operators: Assign values to variables.\n",
    "x = 10\n",
    "x += 5  # x = x + 5\n",
    "print('Assignment Operator\\n')\n",
    "print(\"Updated Value of x:\", x)\n",
    "\n",
    "# 5. Identity Operators: Check if two variables refer to the same object.\n",
    "print('identity Operator\\n')\n",
    "a = [1, 2, 3]\n",
    "b = a\n",
    "print(\"Identity (is):\", a is b)  # True\n",
    "print(\"Identity (is not):\", a is not b)  # False\n",
    "\n",
    "# 6. Membership Operators: Check if a value exists in a sequence (lists, tuples, strings, etc.).\n",
    "print('membership Operator\\n')\n",
    "numbers = [1, 2, 3, 4, 5]\n",
    "print(\"Membership (in):\", 3 in numbers)  # True\n",
    "print(\"Membership (not in):\", 6 not in numbers)  # True\n",
    "\n",
    "# 7. Bitwise Operators: Perform bit-level operations on integers.\n",
    "print('Bitwise Operator\\n')\n",
    "x = 5  # Binary: 0101\n",
    "y = 3  # Binary: 0011\n",
    "print(\"Bitwise AND:\", x & y)  # 1 (Binary: 0001)\n",
    "print(\"Bitwise OR:\", x | y)  # 7 (Binary: 0111)\n",
    "print(\"Bitwise XOR:\", x ^ y)  # 6 (Binary: 0110)\n",
    "\n"
   ]
  },
  {
   "cell_type": "markdown",
   "metadata": {},
   "source": [
    "#### if, else, and elif statement in python\n",
    "- In Python, if, else, and elif are control flow statements used for conditional execution. Here's an explanation of each:\n",
    "\n",
    "##### Key Points:\n",
    "- Use if for the primary condition.\n",
    "- Use else to specify what happens when the primary condition is false.\n",
    "- Use elif for additional conditions to be checked in order.\n",
    "##### if Statement: \n",
    "- The if statement is used to execute a block of code only if a specified condition is true.\n"
   ]
  },
  {
   "cell_type": "code",
   "execution_count": 247,
   "metadata": {},
   "outputs": [
    {
     "name": "stdout",
     "output_type": "stream",
     "text": [
      "x is greater than 5\n"
     ]
    }
   ],
   "source": [
    "# In this example, the print statement is executed only if the condition x > 5 is true.\n",
    "x = 10\n",
    "\n",
    "if x > 5:\n",
    "    print(\"x is greater than 5\")\n"
   ]
  },
  {
   "cell_type": "markdown",
   "metadata": {},
   "source": [
    "##### else Statement:\n",
    "The else statement is used in conjunction with an if statement to specify a block of code that should be executed when the condition of the if statement is false."
   ]
  },
  {
   "cell_type": "code",
   "execution_count": 248,
   "metadata": {},
   "outputs": [
    {
     "name": "stdout",
     "output_type": "stream",
     "text": [
      "x is not greater than 5\n"
     ]
    }
   ],
   "source": [
    "# In this example, if the condition x > 5 is false, the code inside the else block is executed.\n",
    "x = 3\n",
    "\n",
    "if x > 5:\n",
    "    print(\"x is greater than 5\")\n",
    "else:\n",
    "    print(\"x is not greater than 5\")\n"
   ]
  },
  {
   "cell_type": "markdown",
   "metadata": {},
   "source": [
    "##### elif Statement:\n",
    "The elif statement (short for \"else if\") allows you to check multiple conditions in a sequence. It is used after an initial if statement."
   ]
  },
  {
   "cell_type": "code",
   "execution_count": 249,
   "metadata": {},
   "outputs": [
    {
     "name": "stdout",
     "output_type": "stream",
     "text": [
      "x is greater than 5 but not greater than 10\n"
     ]
    }
   ],
   "source": [
    "'''\n",
    "In this example, the first condition x > 10 is checked. If it's true, the corresponding code is executed. \n",
    "If it's false, the elif condition x > 5 is checked, and if true, its code is executed. \n",
    "If both conditions are false, the code in the else block is executed.\n",
    "'''\n",
    "x = 7\n",
    "\n",
    "if x > 10:\n",
    "    print(\"x is greater than 10\")\n",
    "elif x > 5:\n",
    "    print(\"x is greater than 5 but not greater than 10\")\n",
    "else:\n",
    "    print(\"x is 5 or less\")\n"
   ]
  },
  {
   "cell_type": "markdown",
   "metadata": {},
   "source": [
    "In Python, you can nest if, else, and elif statements inside each other to create more complex conditional structures. This is known as nested if-else-elif statements. Here's an example:"
   ]
  },
  {
   "cell_type": "code",
   "execution_count": 250,
   "metadata": {},
   "outputs": [
    {
     "name": "stdout",
     "output_type": "stream",
     "text": [
      "x is greater than 10\n",
      "x is not greater than 20\n"
     ]
    }
   ],
   "source": [
    "'''\n",
    "In this example:\n",
    "\n",
    "The outer if statement checks if x is greater than 10.\n",
    "If true, it prints a message and enters another nested if-else structure.\n",
    "The nested if checks if x is greater than 20 and prints a message accordingly.\n",
    "The nested else is executed if x is not greater than 20.\n",
    "If the outer if condition is false, it moves to the next elif condition.\n",
    "The elif checks if x is equal to 10.\n",
    "The final else block is executed if none of the previous conditions are true.\n",
    "Nested if-else-elif statements allow you to handle more intricate decision-making scenarios where multiple conditions need to be checked in a hierarchical manner. \n",
    "'''\n",
    "x = 15\n",
    "\n",
    "if x > 10:\n",
    "    print(\"x is greater than 10\")\n",
    "    \n",
    "    if x > 20:\n",
    "        print(\"x is also greater than 20\")\n",
    "    else:\n",
    "        print(\"x is not greater than 20\")\n",
    "\n",
    "elif x == 10:\n",
    "    print(\"x is equal to 10\")\n",
    "\n",
    "else:\n",
    "    print(\"x is less than 10\")\n"
   ]
  },
  {
   "cell_type": "markdown",
   "metadata": {},
   "source": [
    "#### Loops in Python\n",
    "\n",
    "In Python, loops are used to repeatedly execute a block of code. There are two main types of loops: for and while. Here are examples of both:\n",
    "\n",
    "##### for Loop:\n",
    "- The for loop is used to iterate over a sequence (such as a list, tuple, string, or range) or other iterable objects."
   ]
  },
  {
   "cell_type": "code",
   "execution_count": 251,
   "metadata": {},
   "outputs": [
    {
     "name": "stdout",
     "output_type": "stream",
     "text": [
      "apple\n",
      "banana\n",
      "cherry\n",
      "1\n",
      "2\n",
      "3\n",
      "P\n",
      "y\n",
      "t\n",
      "h\n",
      "o\n",
      "n\n"
     ]
    }
   ],
   "source": [
    "# Example:\n",
    "\n",
    "# Iterating over a list\n",
    "fruits = [\"apple\", \"banana\", \"cherry\"]\n",
    "for fruit in fruits:\n",
    "    print(fruit)\n",
    "\n",
    "# Iterating over a range\n",
    "for i in range(1, 4):\n",
    "    print(i)\n",
    "\n",
    "# Iterating over characters in a string\n",
    "word = \"Python\"\n",
    "for char in word:\n",
    "    print(char)\n"
   ]
  },
  {
   "cell_type": "markdown",
   "metadata": {},
   "source": [
    "##### while Loop:\n",
    "- The while loop continues executing a block of code as long as a specified condition is true."
   ]
  },
  {
   "cell_type": "code",
   "execution_count": 252,
   "metadata": {},
   "outputs": [
    {
     "name": "stdout",
     "output_type": "stream",
     "text": [
      "1\n",
      "2\n",
      "3\n",
      "2\n",
      "4\n",
      "8\n",
      "16\n"
     ]
    }
   ],
   "source": [
    "# Example:\n",
    "\n",
    "# Using a while loop to print numbers from 1 to 3\n",
    "count = 1\n",
    "while count <= 3:\n",
    "    print(count)\n",
    "    count += 1\n",
    "\n",
    "# Using a while loop to find the first power of 2 greater than 10\n",
    "power_of_two = 1\n",
    "while power_of_two <= 10:\n",
    "    power_of_two *= 2\n",
    "    print(power_of_two)\n"
   ]
  },
  {
   "cell_type": "markdown",
   "metadata": {},
   "source": [
    "##### Loop Control Statements: break and continue\n",
    "- Python also provides loop control statements like break and continue:"
   ]
  },
  {
   "cell_type": "code",
   "execution_count": 253,
   "metadata": {},
   "outputs": [
    {
     "name": "stdout",
     "output_type": "stream",
     "text": [
      "0\n",
      "1\n",
      "2\n",
      "0\n",
      "1\n",
      "3\n",
      "4\n"
     ]
    }
   ],
   "source": [
    "# Example:\n",
    "\n",
    "# Using break to exit a loop early\n",
    "for i in range(5):\n",
    "    if i == 3:\n",
    "        break\n",
    "    print(i)\n",
    "\n",
    "# Using continue to skip the rest of the code and move to the next iteration\n",
    "for i in range(5):\n",
    "    if i == 2:\n",
    "        continue\n",
    "    print(i)\n"
   ]
  },
  {
   "cell_type": "markdown",
   "metadata": {},
   "source": [
    "### 4. Function in Python\n",
    "\n",
    "In Python, a function is a block of reusable code that performs a specific task. Functions help organize code into manageable and modular pieces, promoting code reuse and maintainability. Here's a detailed explanation with an example:"
   ]
  },
  {
   "cell_type": "markdown",
   "metadata": {},
   "source": [
    "##### Syntax of Function:\n",
    "\n",
    "    def function_name(parameters):\n",
    "    \"\"\"\n",
    "    Docstring: Optional documentation describing the function.\n",
    "    \"\"\"\n",
    "    # Function body: Code that performs the task.\n",
    "    # The result can be returned using the 'return' statement.\n",
    "\n",
    "    ->Function call\n",
    "    result = function_name(arguments)\n"
   ]
  },
  {
   "cell_type": "code",
   "execution_count": 254,
   "metadata": {},
   "outputs": [
    {
     "name": "stdout",
     "output_type": "stream",
     "text": [
      "The square of 5 is 25\n"
     ]
    }
   ],
   "source": [
    "# Example Function:\n",
    "# Let's create a simple function that calculates the square of a number.\n",
    "\n",
    "'''\n",
    "In this example:\n",
    "\n",
    "The function square_number takes a parameter x.\n",
    "Inside the function, it calculates the square of x using the exponentiation operator **.\n",
    "The result is returned using the return statement.\n",
    "The function is then called with an argument (number = 5), and the result is stored in square_result.\n",
    "Finally, the result is printed using the print() function.\n",
    "\n",
    "'''\n",
    "def square_number(x):\n",
    "    \"\"\"\n",
    "    Calculate the square of a number.\n",
    "    \n",
    "    Parameters:\n",
    "    - x (int): The number to be squared.\n",
    "    \n",
    "    Returns:\n",
    "    int: The square of the input number.\n",
    "    \"\"\"\n",
    "    result = x ** 2\n",
    "    return result\n",
    "\n",
    "# Function call\n",
    "number = 5\n",
    "square_result = square_number(number)\n",
    "\n",
    "# Print the result\n",
    "print(f\"The square of {number} is {square_result}\")\n"
   ]
  },
  {
   "cell_type": "markdown",
   "metadata": {},
   "source": [
    "Key Concepts:\n",
    "- Defining a Function:\n",
    "Use the def keyword followed by the function name and parameters.\n",
    "\n",
    "- Function Body:\n",
    "Contains the code that performs the task. Indentation is crucial in Python.\n",
    "\n",
    "- Parameters:\n",
    "Input values passed to the function. Specified inside the parentheses.\n",
    "\n",
    "- Return Statement:\n",
    "Optional; returns a value from the function. If omitted, the function returns None.\n",
    "\n",
    "- Function Call:\n",
    "Execute the function by providing the required arguments.\n",
    "\n",
    "- Docstring:\n",
    "Optional documentation enclosed in triple quotes, providing information about the function."
   ]
  },
  {
   "cell_type": "markdown",
   "metadata": {},
   "source": [
    "##### More example function"
   ]
  },
  {
   "cell_type": "code",
   "execution_count": 255,
   "metadata": {},
   "outputs": [
    {
     "data": {
      "text/plain": [
       "(10, 20)"
      ]
     },
     "execution_count": 255,
     "metadata": {},
     "output_type": "execute_result"
    }
   ],
   "source": [
    "# Swap of two number\n",
    "def swap(a,b):\n",
    "    temp = a\n",
    "    a = b\n",
    "    b = temp \n",
    "a = 10\n",
    "b = 20\n",
    "swap(a,b)\n",
    "a,b"
   ]
  },
  {
   "cell_type": "code",
   "execution_count": 256,
   "metadata": {},
   "outputs": [
    {
     "data": {
      "text/plain": [
       "24"
      ]
     },
     "execution_count": 256,
     "metadata": {},
     "output_type": "execute_result"
    }
   ],
   "source": [
    "def factorial(num): # Calculate factorial of a number using recursive function \n",
    "    if num <=1 :\n",
    "        return 1\n",
    "    else:\n",
    "        return num * factorial(num-1)\n",
    "factorial(4)"
   ]
  },
  {
   "cell_type": "code",
   "execution_count": 257,
   "metadata": {},
   "outputs": [
    {
     "data": {
      "text/plain": [
       "15"
      ]
     },
     "execution_count": 257,
     "metadata": {},
     "output_type": "execute_result"
    }
   ],
   "source": [
    "def add(num): # Sum of first n natural numbers\n",
    "    if num == 0:\n",
    "        return 0\n",
    "    else:\n",
    "        return num + add(num-1)\n",
    "add(5) # Sum of first five natural numbers (1,2,3,4,5)"
   ]
  },
  {
   "cell_type": "code",
   "execution_count": 258,
   "metadata": {},
   "outputs": [
    {
     "name": "stdout",
     "output_type": "stream",
     "text": [
      "0\n",
      "1\n",
      "1\n",
      "2\n",
      "3\n",
      "5\n",
      "8\n",
      "13\n",
      "21\n"
     ]
    }
   ],
   "source": [
    "def fiboacci(num):\n",
    "    if num <= 1:\n",
    "        return num\n",
    "    if num == 2:\n",
    "        return 1\n",
    "    else:\n",
    "        return(fiboacci(num-1) + fiboacci(num-2))\n",
    "nums = int(input(\"How many fibonacci numbers you want to generate -\"))\n",
    "for i in range(nums):\n",
    "    print(fiboacci(i)) # Generate Fibonacci series"
   ]
  },
  {
   "cell_type": "markdown",
   "metadata": {},
   "source": [
    "#### args & kwargs\n",
    "In Python, *args and **kwargs are used to pass a variable number of arguments to a function. They allow you to handle arbitrary numbers of positional and keyword arguments, respectively.\n",
    "\n",
    "\n",
    "##### *args (Arbitrary Positional Arguments):\n",
    "The *args syntax allows a function to accept any number of positional arguments. The term \"args\" is a convention, and you can use any name preceded by a single asterisk.\n",
    "- When we are not sure about the number of arguments being passed to a function then we can\n",
    "use *args as function parameter.\n",
    "- *args allow us to pass the variable number of Non Keyword Arguments to function.\n",
    "- We can simply use an asterisk * before the parameter name to pass variable length\n",
    "arguments.\n",
    "- The arguments are always passed as a tuple.\n",
    "- We can rename it to anything as long as it is preceded by a single asterisk (*). It's best\n",
    "- practice to keep naming it args to make it immediately recognizable."
   ]
  },
  {
   "cell_type": "code",
   "execution_count": 259,
   "metadata": {},
   "outputs": [
    {
     "name": "stdout",
     "output_type": "stream",
     "text": [
      "1\n",
      "2\n",
      "hello\n",
      "[3, 4]\n"
     ]
    }
   ],
   "source": [
    "'''\n",
    "In this example, the function print_args accepts any number of positional arguments. \n",
    "The *args collects these arguments into a tuple, and the function prints each argument.\n",
    "'''\n",
    "def print_args(*args):\n",
    "    for arg in args:\n",
    "        print(arg)\n",
    "\n",
    "# Function call with multiple arguments\n",
    "print_args(1, 2, 'hello', [3, 4])\n"
   ]
  },
  {
   "cell_type": "markdown",
   "metadata": {},
   "source": [
    "##### **kwargs (Arbitrary Keyword Arguments):\n",
    "The **kwargs syntax allows a function to accept any number of keyword arguments. The term \"kwargs\" is a convention, and you can use any name preceded by double asterisks.\n",
    "\n",
    "- **kwargs allows us to pass the variable number of Keyword Arguments to the function.\n",
    "- We can simply use an double asterisk ** before the parameter name to pass variable length\n",
    "arguments.\n",
    "- The arguments are passed as a dictionary.\n",
    "- We can rename it to anything as long as it is preceded by a double asterisk (**). It's best\n",
    "- practice to keep naming it kwargs to make it immediately recognizable."
   ]
  },
  {
   "cell_type": "code",
   "execution_count": 260,
   "metadata": {},
   "outputs": [
    {
     "name": "stdout",
     "output_type": "stream",
     "text": [
      "name: John\n",
      "age: 25\n",
      "city: New York\n"
     ]
    }
   ],
   "source": [
    "'''\n",
    "In this example, the function print_kwargs accepts any number of keyword arguments. \n",
    "The **kwargs collects these arguments into a dictionary, and the function prints each key-value pair.\n",
    "'''\n",
    "def print_kwargs(**kwargs):\n",
    "    for key, value in kwargs.items():\n",
    "        print(f\"{key}: {value}\")\n",
    "\n",
    "# Function call with keyword arguments\n",
    "print_kwargs(name='John', age=25, city='New York')\n"
   ]
  },
  {
   "cell_type": "markdown",
   "metadata": {},
   "source": [
    "##### Using Both *args and **kwargs:\n",
    "You can use both *args and **kwargs in the same function definition to handle any combination of positional and keyword arguments."
   ]
  },
  {
   "cell_type": "code",
   "execution_count": 261,
   "metadata": {},
   "outputs": [
    {
     "name": "stdout",
     "output_type": "stream",
     "text": [
      "1\n",
      "2\n",
      "name: Alice\n",
      "age: 30\n"
     ]
    }
   ],
   "source": [
    "'''\n",
    "In this example, the function print_args_and_kwargs accepts a mix of positional and keyword arguments. \n",
    "The *args collects positional arguments into a tuple, and **kwargs collects keyword arguments into a dictionary.\n",
    "'''\n",
    "def print_args_and_kwargs(*args, **kwargs):\n",
    "    for arg in args:\n",
    "        print(arg)\n",
    "    for key, value in kwargs.items():\n",
    "        print(f\"{key}: {value}\")\n",
    "\n",
    "# Function call with a mix of positional and keyword arguments\n",
    "print_args_and_kwargs(1, 2, name='Alice', age=30)\n"
   ]
  },
  {
   "cell_type": "markdown",
   "metadata": {},
   "source": [
    "##### Some more Example"
   ]
  },
  {
   "cell_type": "code",
   "execution_count": 262,
   "metadata": {},
   "outputs": [
    {
     "name": "stdout",
     "output_type": "stream",
     "text": [
      "arg_1: 1\n",
      "arg_2: 2\n",
      "arg_3: 3\n"
     ]
    }
   ],
   "source": [
    "def some_args(arg_1, arg_2, arg_3):\n",
    "    print(\"arg_1:\", arg_1)\n",
    "    print(\"arg_2:\", arg_2)\n",
    "    print(\"arg_3:\", arg_3)\n",
    "my_list = [2, 3]\n",
    "some_args(1,*my_list)"
   ]
  },
  {
   "cell_type": "code",
   "execution_count": 263,
   "metadata": {},
   "outputs": [
    {
     "name": "stdout",
     "output_type": "stream",
     "text": [
      "6\n",
      "10\n",
      "15\n",
      "21\n",
      "28\n"
     ]
    }
   ],
   "source": [
    "def add1(*args):\n",
    "    return sum(args)\n",
    "\n",
    "print(add1(1, 2, 3))  # args will take a dynamic argument list, allowing the add1() function to handle an arbitrary number of positional arguments. \n",
    "print(add1(1, 2, 3, 4))\n",
    "print(add1(1, 2, 3, 4, 5))\n",
    "print(add1(1, 2, 3, 4, 5, 6))\n",
    "print(add1(1, 2, 3, 4, 5, 6, 7))\n"
   ]
  },
  {
   "cell_type": "code",
   "execution_count": 264,
   "metadata": {},
   "outputs": [
    {
     "data": {
      "text/plain": [
       "(28, 28)"
      ]
     },
     "execution_count": 264,
     "metadata": {},
     "output_type": "execute_result"
    }
   ],
   "source": [
    "list1 = [1,2,3,4,5,6,7]\n",
    "tuple1 = (1,2,3,4,5,6,7)\n",
    "add1(*list1) , add1(*tuple1) #tuple & list items will be passed as argument list"
   ]
  },
  {
   "cell_type": "code",
   "execution_count": 265,
   "metadata": {},
   "outputs": [
    {
     "data": {
      "text/plain": [
       "112"
      ]
     },
     "execution_count": 265,
     "metadata": {},
     "output_type": "execute_result"
    }
   ],
   "source": [
    "list1 = [1,2,3,4,5,6,7]\n",
    "list2 = [1,2,3,4,5,6,7]\n",
    "list3 = [1,2,3,4,5,6,7]\n",
    "list4 = [1,2,3,4,5,6,7]\n",
    "add1(*list1 ,*list2 ,*list3 ,*list4 ) #All four lists are unpacked "
   ]
  },
  {
   "cell_type": "code",
   "execution_count": 266,
   "metadata": {},
   "outputs": [
    {
     "name": "stdout",
     "output_type": "stream",
     "text": [
      "('ABCD', 1234, 4567, 30, 'India')\n"
     ]
    },
    {
     "data": {
      "text/plain": [
       "' For the above example we have no idea about the parameters passed e.g 1234 ,\\nIn such cases we can take help of Keyworded arguments (**kwargs) '"
      ]
     },
     "execution_count": 266,
     "metadata": {},
     "output_type": "execute_result"
    }
   ],
   "source": [
    "def UserDetails(*args):\n",
    "    print(args)\n",
    "UserDetails('ABCD' , 1234 , 4567 , 30 , 'India')\n",
    "\n",
    "''' For the above example we have no idea about the parameters passed e.g 1234 ,\n",
    "In such cases we can take help of Keyworded arguments (**kwargs) '''"
   ]
  },
  {
   "cell_type": "code",
   "execution_count": 267,
   "metadata": {},
   "outputs": [
    {
     "name": "stdout",
     "output_type": "stream",
     "text": [
      "{'Name': 'ABCD', 'ID': 1234, 'Pincode': 4567, 'Age': 30, 'Country': 'India'}\n"
     ]
    }
   ],
   "source": [
    "def UserDetails(**kwargs):\n",
    "    print(kwargs)\n",
    "UserDetails(Name='ABCD' , ID=1234 , Pincode=4567 , Age= 30 , Country= 'India')"
   ]
  },
  {
   "cell_type": "code",
   "execution_count": 268,
   "metadata": {},
   "outputs": [
    {
     "name": "stdout",
     "output_type": "stream",
     "text": [
      "Name :- ABCD\n",
      "ID :- 1234\n",
      "Pincode :- 4567\n",
      "Age :- 30\n",
      "Country :- India\n"
     ]
    }
   ],
   "source": [
    "def UserDetails(**kwargs):\n",
    "    for key,val in kwargs.items():\n",
    "        print(\"{} :- {}\".format(key,val))\n",
    "UserDetails(Name='ABCD' , ID=1234 , Pincode=4567 , Age= 30 , Country= 'India')"
   ]
  },
  {
   "cell_type": "markdown",
   "metadata": {},
   "source": [
    "#### Lambda, Filter, Map and Reduce in python\n",
    "\n",
    "##### lambda Function:\n",
    "The lambda function is used to create small anonymous functions. It is often employed for short-term operations where a full function definition is not necessary."
   ]
  },
  {
   "cell_type": "code",
   "execution_count": 269,
   "metadata": {},
   "outputs": [
    {
     "name": "stdout",
     "output_type": "stream",
     "text": [
      "25\n",
      "[2, 4, 6]\n"
     ]
    }
   ],
   "source": [
    "# Example\n",
    "\n",
    "# Using lambda to create a function that squares its input\n",
    "square = lambda x: x ** 2\n",
    "print(square(5))  # Output: 25\n",
    "\n",
    "# Using lambda in a list comprehension to filter even numbers\n",
    "numbers = [1, 2, 3, 4, 5, 6]\n",
    "even_numbers = list(filter(lambda x: x % 2 == 0, numbers))\n",
    "print(even_numbers)  # Output: [2, 4, 6]\n"
   ]
  },
  {
   "cell_type": "markdown",
   "metadata": {},
   "source": [
    "##### filter() Function:\n",
    "The filter() function is used to construct an iterator from elements of an iterable for which a function returns true."
   ]
  },
  {
   "cell_type": "code",
   "execution_count": 270,
   "metadata": {},
   "outputs": [
    {
     "name": "stdout",
     "output_type": "stream",
     "text": [
      "[2, 4, 6]\n"
     ]
    }
   ],
   "source": [
    "# Example:\n",
    "\n",
    "# Using filter to get even numbers from a list\n",
    "numbers = [1, 2, 3, 4, 5, 6]\n",
    "even_numbers = list(filter(lambda x: x % 2 == 0, numbers))\n",
    "print(even_numbers)  # Output: [2, 4, 6]"
   ]
  },
  {
   "cell_type": "markdown",
   "metadata": {},
   "source": [
    "##### map() Function:\n",
    "The map() function applies a given function to all items in an iterable (list, tuple, etc.) and returns an iterator of the results."
   ]
  },
  {
   "cell_type": "code",
   "execution_count": 271,
   "metadata": {},
   "outputs": [
    {
     "name": "stdout",
     "output_type": "stream",
     "text": [
      "[1, 4, 9, 16, 25]\n"
     ]
    }
   ],
   "source": [
    "# Example\n",
    "\n",
    "# Using map to square each element in a list\n",
    "numbers = [1, 2, 3, 4, 5]\n",
    "squared_numbers = list(map(lambda x: x ** 2, numbers))\n",
    "print(squared_numbers)  # Output: [1, 4, 9, 16, 25]\n"
   ]
  },
  {
   "cell_type": "markdown",
   "metadata": {},
   "source": [
    "##### reduce() Function:\n",
    "The reduce() function is used to apply a rolling computation to sequential pairs of values in an iterable."
   ]
  },
  {
   "cell_type": "code",
   "execution_count": 272,
   "metadata": {},
   "outputs": [
    {
     "name": "stdout",
     "output_type": "stream",
     "text": [
      "120\n"
     ]
    }
   ],
   "source": [
    "from functools import reduce\n",
    "\n",
    "# Using reduce to find the product of all elements in a list\n",
    "numbers = [2, 3, 4, 5]\n",
    "product = reduce(lambda x, y: x * y, numbers)\n",
    "print(product)  # Output: 120\n"
   ]
  },
  {
   "cell_type": "markdown",
   "metadata": {},
   "source": [
    "Note that, the map() and filter() functions return iterable objects, and to see the results or use them as lists, it's necessary to convert them to a list using the list() constructor."
   ]
  },
  {
   "cell_type": "code",
   "execution_count": 273,
   "metadata": {},
   "outputs": [
    {
     "name": "stdout",
     "output_type": "stream",
     "text": [
      "Its a iterable object, to access its output use list(): <map object at 0x1059c9270>\n",
      "[1, 4, 9, 16, 25]\n"
     ]
    }
   ],
   "source": [
    "# Using map to square each element in a list\n",
    "numbers = [1, 2, 3, 4, 5]\n",
    "squared_numbers = map(lambda x: x ** 2, numbers)\n",
    "print('Its a iterable object, to access its output use list():',squared_numbers)\n",
    "# Convert the result to a list\n",
    "squared_numbers_list = list(squared_numbers)\n",
    "print(squared_numbers_list)  # Output: [1, 4, 9, 16, 25]\n"
   ]
  },
  {
   "cell_type": "code",
   "execution_count": 274,
   "metadata": {},
   "outputs": [
    {
     "name": "stdout",
     "output_type": "stream",
     "text": [
      "Its a iterable object, to access its output use list():  <filter object at 0x1059c8c40>\n",
      "[2, 4, 6]\n"
     ]
    }
   ],
   "source": [
    "# Using filter to get even numbers from a list\n",
    "numbers = [1, 2, 3, 4, 5, 6]\n",
    "even_numbers = filter(lambda x: x % 2 == 0, numbers)\n",
    "print('Its a iterable object, to access its output use list(): ',even_numbers)\n",
    "# Convert the result to a list\n",
    "even_numbers_list = list(even_numbers)\n",
    "print(even_numbers_list)  # Output: [2, 4, 6]\n"
   ]
  },
  {
   "cell_type": "markdown",
   "metadata": {},
   "source": [
    "### 5. Object-Oriented Programming (OOP):\n",
    "\n",
    "\n",
    "#### Classes & Objects\n",
    "\n",
    "- A Class is an object constructor or a \"blueprint\" for creating objects.\n",
    "- Objects are nothing but an encapsulation of variables and functions into a single entity.\n",
    "- Objects get their variables and functions from classes.\n",
    "- To create a class we use the keyword 'class'.\n",
    "- The first string inside the class is called docstring which gives the brief description about the\n",
    "  class.\n",
    "- All classes have a function called which is always executed when the class is\n",
    "  being initiated.\n",
    "- We can use function to assign values to object properties or other operations\n",
    "  that are necessary to perform when the object is being created\n",
    "- The 'self' parameter is a reference to the current instance of the class and is used to access\n",
    "  class variables and it must be the first parameter of any function in the class\n",
    "- The 'super()' builtin function returns a temporary object of the superclass that allows us to\n",
    "  access methods of the base class.\n",
    "- 'super()' allows us to avoid using the base class name explicitly and to enable multiple\n",
    "  inheritance.\n",
    "- '__init__' is a special method (sometimes referred to as a \"dunder\" method, short for \"double underscore\") that is used for initializing an object. It is called automatically when an object is created from a class. The '__init__ 'method allows to set initial values for the attributes of the object.\n",
    "\n",
    "\n",
    "#### Syntax:"
   ]
  },
  {
   "cell_type": "code",
   "execution_count": 275,
   "metadata": {},
   "outputs": [
    {
     "data": {
      "text/plain": [
       "'\\nExplanation of elements:\\n\\nClass Declaration: class ClassName: begins the class definition.\\nClass Attributes: Variables declared within the class body but outside any methods are class attributes. They are shared among all instances of the class.\\nConstructor (__init__ Method): This special method is called when an object is created. It initializes instance attributes.\\nInstance Attributes: These are variables specific to each instance of the class. They are defined in the __init__ method using self.\\nMethods: Functions defined within the class body are methods. They operate on the class and its instances.\\nCreating an Instance: object_name = ClassName(arg1, arg2) creates an instance of the class with specific attribute values.\\nAccessing Attributes and Methods: object_name.attribute1 accesses instance attributes, and object_name.method1() calls a method.\\nRemember that self is a reference to the instance of the class and is passed automatically when calling methods or accessing attributes within the class.\\n\\n'"
      ]
     },
     "execution_count": 275,
     "metadata": {},
     "output_type": "execute_result"
    }
   ],
   "source": [
    "class ClassName:\n",
    "    # Class attributes (optional)\n",
    "    class_variable = \"some_value\"\n",
    "\n",
    "    # Constructor (__init__ method)\n",
    "    def __init__(self, parameter1, parameter2):\n",
    "        # Instance attributes\n",
    "        self.attribute1 = parameter1\n",
    "        self.attribute2 = parameter2\n",
    "\n",
    "    # Other methods\n",
    "    def method1(self):\n",
    "        # Code for method1\n",
    "        pass\n",
    "\n",
    "    def method2(self, parameter):\n",
    "        # Code for method2\n",
    "        pass\n",
    "\n",
    "# Creating an instance of the class\n",
    "object_name = ClassName(2, 3)  # ClassName(arg1, arg2) \n",
    "\n",
    "# Accessing attributes and calling methods\n",
    "object_name.attribute1\n",
    "object_name.method1()\n",
    "\n",
    "\n",
    "\n",
    "'''\n",
    "Explanation of elements:\n",
    "\n",
    "Class Declaration: class ClassName: begins the class definition.\n",
    "Class Attributes: Variables declared within the class body but outside any methods are class attributes. They are shared among all instances of the class.\n",
    "Constructor (__init__ Method): This special method is called when an object is created. It initializes instance attributes.\n",
    "Instance Attributes: These are variables specific to each instance of the class. They are defined in the __init__ method using self.\n",
    "Methods: Functions defined within the class body are methods. They operate on the class and its instances.\n",
    "Creating an Instance: object_name = ClassName(arg1, arg2) creates an instance of the class with specific attribute values.\n",
    "Accessing Attributes and Methods: object_name.attribute1 accesses instance attributes, and object_name.method1() calls a method.\n",
    "Remember that self is a reference to the instance of the class and is passed automatically when calling methods or accessing attributes within the class.\n",
    "\n",
    "'''"
   ]
  },
  {
   "cell_type": "code",
   "execution_count": 276,
   "metadata": {},
   "outputs": [
    {
     "name": "stdout",
     "output_type": "stream",
     "text": [
      "10\n"
     ]
    }
   ],
   "source": [
    "# Create a class with property \"var1\"\n",
    "class myclass:\n",
    "    var1 = 10\n",
    "obj1 = myclass() # Create an object of class \"myclass()\"\n",
    "print(obj1.var1)"
   ]
  },
  {
   "cell_type": "code",
   "execution_count": 277,
   "metadata": {},
   "outputs": [
    {
     "name": "stdout",
     "output_type": "stream",
     "text": [
      "Name :-  ABCD\n",
      "Employee ID :-  34163\n",
      "How its going ABCD!!\n"
     ]
    }
   ],
   "source": [
    "# Create an employee class\n",
    "class Employee:\n",
    "    def __init__(self, name, empid):\n",
    "        self.name = name\n",
    "        self.empid = empid\n",
    "    def greet(self): # Class Method\n",
    "        print(\"How its going {}!!\".format(self.name))\n",
    "emp1 = Employee(\"ABCD\", 34163) # Create an employee object\n",
    "print('Name :- ',emp1.name)\n",
    "print('Employee ID :- ',emp1.empid)\n",
    "emp1.greet()"
   ]
  },
  {
   "cell_type": "code",
   "execution_count": 278,
   "metadata": {},
   "outputs": [
    {
     "name": "stdout",
     "output_type": "stream",
     "text": [
      "Name :-  Michael\n",
      "Employee ID :-  34162\n",
      "How its going Michael!!\n"
     ]
    }
   ],
   "source": [
    "emp2 = Employee(\"Michael\", 34162) # Create an employee object\n",
    "print('Name :- ',emp2.name)\n",
    "print('Employee ID :- ',emp2.empid)\n",
    "emp2.greet()"
   ]
  },
  {
   "cell_type": "markdown",
   "metadata": {},
   "source": [
    "#### Inheritance in Python\n",
    "\n",
    "Inheritance is a fundamental concept in object-oriented programming that allows a new class (called a subclass or derived class) to inherit attributes and methods from an existing class (called a superclass or base class). This promotes code reuse and the creation of a hierarchy of classes. \n",
    "\n",
    "- The child class inherits data definitions and methods from the parent class which facilitates the\n",
    "  reuse of features already available. The child class can add few more definitions or redefine a\n",
    "  base class method.\n",
    "- Inheritance comes into picture when a new class possesses the 'IS A' relationship with an\n",
    "  existing class. E.g Student is a person. Hence person is the base class and student is derived\n",
    "  class."
   ]
  },
  {
   "cell_type": "code",
   "execution_count": 279,
   "metadata": {},
   "outputs": [
    {
     "name": "stdout",
     "output_type": "stream",
     "text": [
      "Generic Animal\n",
      "Generic animal sound\n",
      "Buddy\n",
      "Labrador\n",
      "Buddy says Woof!\n",
      "Whiskers\n",
      "Whiskers says Meow!\n"
     ]
    },
    {
     "data": {
      "text/plain": [
       "'\\nIn this example:\\n\\nThe Animal class is the base class with a constructor (__init__) and a method (speak).\\nThe Dog and Cat classes are derived from the Animal class. They inherit the attributes and methods of Animal and can also have their own additional attributes and methods.\\nThe super() function is used in the Dog class to call the constructor of the base class (Animal) to initialize the name attribute.\\nThis demonstrates the concept of inheritance, where the Dog and Cat classes reuse and extend the functionality of the base class Animal.\\n'"
      ]
     },
     "execution_count": 279,
     "metadata": {},
     "output_type": "execute_result"
    }
   ],
   "source": [
    "# Base class (superclass)\n",
    "class Animal:\n",
    "    def __init__(self, name):\n",
    "        self.name = name\n",
    "\n",
    "    def speak(self):\n",
    "        print(\"Generic animal sound\")\n",
    "\n",
    "# Derived class (subclass) inheriting from Animal\n",
    "class Dog(Animal):\n",
    "    def __init__(self, name, breed):\n",
    "        # Call the constructor of the base class using super()\n",
    "        super().__init__(name)\n",
    "        self.breed = breed\n",
    "\n",
    "    # Override the speak method for dogs\n",
    "    def speak(self):\n",
    "        print(f\"{self.name} says Woof!\")\n",
    "\n",
    "# Another derived class inheriting from Animal\n",
    "class Cat(Animal):\n",
    "    # No need to define a constructor; it will inherit from Animal\n",
    "\n",
    "    # Override the speak method for cats\n",
    "    def speak(self):\n",
    "        print(f\"{self.name} says Meow!\")\n",
    "\n",
    "# Creating instances of the classes\n",
    "generic_animal = Animal(\"Generic Animal\")\n",
    "my_dog = Dog(\"Buddy\", \"Labrador\")\n",
    "my_cat = Cat(\"Whiskers\")\n",
    "\n",
    "# Accessing attributes and calling methods\n",
    "print(generic_animal.name)  # Output: Generic Animal\n",
    "generic_animal.speak()      # Output: Generic animal sound\n",
    "\n",
    "print(my_dog.name)          # Output: Buddy\n",
    "print(my_dog.breed)         # Output: Labrador\n",
    "my_dog.speak()              # Output: Buddy says Woof!\n",
    "\n",
    "print(my_cat.name)          # Output: Whiskers\n",
    "my_cat.speak()              # Output: Whiskers says Meow!\n",
    "\n",
    "'''\n",
    "In this example:\n",
    "\n",
    "The Animal class is the base class with a constructor (__init__) and a method (speak).\n",
    "The Dog and Cat classes are derived from the Animal class. They inherit the attributes and methods of Animal and can also have their own additional attributes and methods.\n",
    "The super() function is used in the Dog class to call the constructor of the base class (Animal) to initialize the name attribute.\n",
    "This demonstrates the concept of inheritance, where the Dog and Cat classes reuse and extend the functionality of the base class Animal.\n",
    "'''\n"
   ]
  },
  {
   "cell_type": "markdown",
   "metadata": {},
   "source": [
    "In Python, there are several types of inheritance:\n",
    "##### Single Inheritance:\n",
    "A subclass inherits from only one superclass.\n",
    "\n",
    "Example:"
   ]
  },
  {
   "cell_type": "code",
   "execution_count": 280,
   "metadata": {},
   "outputs": [
    {
     "name": "stdout",
     "output_type": "stream",
     "text": [
      "Generic animal sound\n"
     ]
    }
   ],
   "source": [
    "class Animal:\n",
    "    def speak(self):\n",
    "        print(\"Generic animal sound\")\n",
    "\n",
    "class Dog(Animal):\n",
    "    def bark(self):\n",
    "        print(\"Woof!\")\n",
    "\n",
    "my_dog = Dog()\n",
    "my_dog.speak()  # Accessing method from the base class\n"
   ]
  },
  {
   "cell_type": "markdown",
   "metadata": {},
   "source": [
    "##### Multiple Inheritance:\n",
    "A subclass inherits from more than one superclass.\n",
    "\n",
    "Example:"
   ]
  },
  {
   "cell_type": "code",
   "execution_count": 281,
   "metadata": {},
   "outputs": [
    {
     "name": "stdout",
     "output_type": "stream",
     "text": [
      "Flying high\n",
      "Swimming gracefully\n"
     ]
    }
   ],
   "source": [
    "class Flyable:\n",
    "    def fly(self):\n",
    "        print(\"Flying high\")\n",
    "\n",
    "class Swimmable:\n",
    "    def swim(self):\n",
    "        print(\"Swimming gracefully\")\n",
    "\n",
    "class FlyingFish(Flyable, Swimmable):\n",
    "    pass\n",
    "\n",
    "my_fish = FlyingFish()\n",
    "my_fish.fly()\n",
    "my_fish.swim()\n"
   ]
  },
  {
   "cell_type": "markdown",
   "metadata": {},
   "source": [
    "##### Multilevel Inheritance:\n",
    "A subclass is derived from another subclass, creating a chain of inheritance.\n",
    "\n",
    "Example:"
   ]
  },
  {
   "cell_type": "code",
   "execution_count": 282,
   "metadata": {},
   "outputs": [
    {
     "name": "stdout",
     "output_type": "stream",
     "text": [
      "Generic animal sound\n",
      "Giving birth to live young\n"
     ]
    }
   ],
   "source": [
    "class Animal:\n",
    "    def speak(self):\n",
    "        print(\"Generic animal sound\")\n",
    "\n",
    "class Mammal(Animal):\n",
    "    def give_birth(self):\n",
    "        print(\"Giving birth to live young\")\n",
    "\n",
    "class Dog(Mammal):\n",
    "    def bark(self):\n",
    "        print(\"Woof!\")\n",
    "\n",
    "my_dog = Dog()\n",
    "my_dog.speak()      # Accessing method from the grandparent class\n",
    "my_dog.give_birth()  # Accessing method from the parent class\n"
   ]
  },
  {
   "cell_type": "markdown",
   "metadata": {},
   "source": [
    "##### Hierarchical Inheritance:\n",
    "Multiple subclasses inherit from a single superclass.\n",
    "\n",
    "Example:"
   ]
  },
  {
   "cell_type": "code",
   "execution_count": 283,
   "metadata": {},
   "outputs": [
    {
     "name": "stdout",
     "output_type": "stream",
     "text": [
      "Generic animal sound\n",
      "Generic animal sound\n"
     ]
    }
   ],
   "source": [
    "class Animal:\n",
    "    def speak(self):\n",
    "        print(\"Generic animal sound\")\n",
    "\n",
    "class Dog(Animal):\n",
    "    def bark(self):\n",
    "        print(\"Woof!\")\n",
    "\n",
    "class Cat(Animal):\n",
    "    def meow(self):\n",
    "        print(\"Meow!\")\n",
    "\n",
    "my_dog = Dog()\n",
    "my_cat = Cat()\n",
    "my_dog.speak()  # Accessing method from the common superclass\n",
    "my_cat.speak()  # Accessing method from the common superclass\n"
   ]
  },
  {
   "cell_type": "markdown",
   "metadata": {},
   "source": [
    "##### Hybrid Inheritance:\n",
    "A combination of two or more types of inheritance.\n",
    "\n",
    "Example:"
   ]
  },
  {
   "cell_type": "code",
   "execution_count": 284,
   "metadata": {},
   "outputs": [
    {
     "name": "stdout",
     "output_type": "stream",
     "text": [
      "Generic animal sound\n",
      "Flying high\n",
      "Swimming gracefully\n"
     ]
    }
   ],
   "source": [
    "class Animal:\n",
    "    def speak(self):\n",
    "        print(\"Generic animal sound\")\n",
    "\n",
    "class Flyable(Animal):\n",
    "    def fly(self):\n",
    "        print(\"Flying high\")\n",
    "\n",
    "class Swimmable(Animal):\n",
    "    def swim(self):\n",
    "        print(\"Swimming gracefully\")\n",
    "\n",
    "class FlyingFish(Flyable, Swimmable):\n",
    "    pass\n",
    "\n",
    "my_fish = FlyingFish()\n",
    "my_fish.speak()  # Accessing method from the common superclass\n",
    "my_fish.fly()    # Accessing method from one of the superclasses\n",
    "my_fish.swim()   # Accessing method from one of the superclasses\n"
   ]
  },
  {
   "cell_type": "markdown",
   "metadata": {},
   "source": [
    "#### Polymorphism in Python:\n",
    "Polymorphism in Python refers to the ability of different objects or classes to be treated as instances of the same class, even if they have different types. This allows objects of different types to be used interchangeably in code, providing flexibility and reusability.\n",
    "\n",
    "There are two main types of polymorphism in Python:\n",
    "\n",
    "##### Compile-Time Polymorphism (Static Binding):\n",
    "\n",
    "- Also known as method overloading, it involves defining multiple methods in a class with the same name but different parameters or argument types.\n",
    "- Python doesn't support traditional method overloading with multiple method definitions, but it achieves a similar effect through default argument values and variable-length argument lists."
   ]
  },
  {
   "cell_type": "code",
   "execution_count": 285,
   "metadata": {},
   "outputs": [
    {
     "name": "stdout",
     "output_type": "stream",
     "text": [
      "1\n",
      "3\n",
      "6\n"
     ]
    }
   ],
   "source": [
    "class MathOperations:\n",
    "    def add(self, a, b=None, c=None):\n",
    "        if b is not None and c is not None:\n",
    "            return a + b + c\n",
    "        elif b is not None:\n",
    "            return a + b\n",
    "        else:\n",
    "            return a\n",
    "\n",
    "# Example usage\n",
    "math_obj = MathOperations()\n",
    "result1 = math_obj.add(1)\n",
    "result2 = math_obj.add(1, 2)\n",
    "result3 = math_obj.add(1, 2, 3)\n",
    "\n",
    "print(result1)  # Output: 1\n",
    "print(result2)  # Output: 3\n",
    "print(result3)  # Output: 6\n"
   ]
  },
  {
   "cell_type": "markdown",
   "metadata": {},
   "source": [
    "##### Run-Time Polymorphism (Dynamic Binding):\n",
    "\n",
    "- Also known as method overriding, it involves defining a method in the child class that is already present in the parent class.\n",
    "- The method in the child class provides a specific implementation for the same method name present in the parent class.\n",
    "- Python achieves run-time polymorphism through method overriding."
   ]
  },
  {
   "cell_type": "code",
   "execution_count": 286,
   "metadata": {},
   "outputs": [
    {
     "name": "stdout",
     "output_type": "stream",
     "text": [
      "Woof\n",
      "Meow\n"
     ]
    }
   ],
   "source": [
    "# Example:\n",
    "\n",
    "class Animal:\n",
    "    def sound(self):\n",
    "        pass\n",
    "\n",
    "class Dog(Animal):\n",
    "    def sound(self):\n",
    "        return \"Woof\"\n",
    "\n",
    "class Cat(Animal):\n",
    "    def sound(self):\n",
    "        return \"Meow\"\n",
    "\n",
    "# Example usage\n",
    "dog = Dog()\n",
    "cat = Cat()\n",
    "\n",
    "print(dog.sound())  # Output: Woof\n",
    "print(cat.sound())  # Output: Meow\n"
   ]
  },
  {
   "cell_type": "markdown",
   "metadata": {},
   "source": [
    "#### Encapsulation in Python:\n",
    "Encapsulation is one of the fundamental principles of object-oriented programming, and it involves bundling the data (attributes) and methods that operate on the data into a single unit known as a class. It restricts access to the internal details of a class and allows control over the visibility of attributes and methods. In Python, encapsulation is achieved through private and protected access modifiers."
   ]
  },
  {
   "cell_type": "code",
   "execution_count": 287,
   "metadata": {},
   "outputs": [
    {
     "name": "stdout",
     "output_type": "stream",
     "text": [
      "Account Holder: John Doe\n",
      "Balance: 1000\n",
      "Deposit of 500 successful. New balance: 1500\n",
      "Withdrawal of 200 successful. New balance: 1300\n"
     ]
    }
   ],
   "source": [
    "class BankAccount:\n",
    "\n",
    "    '''\n",
    "    The __account_holder attribute is private and can only be accessed within the class.\n",
    "    The _balance attribute is protected, indicating that it should not be accessed from outside the class, but it is still accessible.\n",
    "    Public methods (get_account_holder, get_balance, deposit, and withdraw) provide controlled access to the encapsulated attributes.\n",
    "\n",
    "    * Encapsulation helps in hiding the implementation details and exposing only the necessary functionality, enhancing code modularity and security.\n",
    "    '''\n",
    "    def __init__(self, account_holder, balance):\n",
    "        # Private attribute\n",
    "        self.__account_holder = account_holder\n",
    "        # Protected attribute\n",
    "        self._balance = balance\n",
    "\n",
    "    # Public method to access the private attribute\n",
    "    def get_account_holder(self):\n",
    "        return self.__account_holder\n",
    "\n",
    "    # Public method to access the protected attribute\n",
    "    def get_balance(self):\n",
    "        return self._balance\n",
    "\n",
    "    # Public method to perform a transaction (method encapsulation)\n",
    "    def deposit(self, amount):\n",
    "        if amount > 0:\n",
    "            self._balance += amount\n",
    "            print(f\"Deposit of {amount} successful. New balance: {self._balance}\")\n",
    "        else:\n",
    "            print(\"Invalid deposit amount.\")\n",
    "\n",
    "    # Public method to perform a transaction (method encapsulation)\n",
    "    def withdraw(self, amount):\n",
    "        if amount > 0 and amount <= self._balance:\n",
    "            self._balance -= amount\n",
    "            print(f\"Withdrawal of {amount} successful. New balance: {self._balance}\")\n",
    "        else:\n",
    "            print(\"Invalid withdrawal amount.\")\n",
    "\n",
    "# Creating an instance of the BankAccount class\n",
    "my_account = BankAccount(\"John Doe\", 1000)\n",
    "\n",
    "# Accessing attributes using public methods\n",
    "print(f\"Account Holder: {my_account.get_account_holder()}\")\n",
    "print(f\"Balance: {my_account.get_balance()}\")\n",
    "\n",
    "# Performing transactions using public methods\n",
    "my_account.deposit(500)\n",
    "my_account.withdraw(200)\n"
   ]
  },
  {
   "cell_type": "markdown",
   "metadata": {},
   "source": [
    "#### Abstraction in Python:\n",
    "Abstraction is a key concept in object-oriented programming that involves simplifying complex systems by modeling classes based on real-world entities and providing only relevant details while hiding unnecessary complexities. It allows developers to focus on essential features and properties of an object, making the code more understandable and maintainable."
   ]
  },
  {
   "cell_type": "code",
   "execution_count": 288,
   "metadata": {},
   "outputs": [
    {
     "name": "stdout",
     "output_type": "stream",
     "text": [
      "Circle Area: 78.5\n",
      "Circle Perimeter: 31.400000000000002\n",
      "Square Area: 16\n",
      "Square Perimeter: 16\n"
     ]
    }
   ],
   "source": [
    "from abc import ABC, abstractmethod\n",
    "\n",
    "'''\n",
    "In this Example:\n",
    "Shape is an abstract base class (ABC) representing the abstraction. It declares abstract methods area and perimeter.\n",
    "Circle and Square are concrete classes that implement the Shape abstraction. They provide specific implementations for the abstract methods.\n",
    "Objects of Circle and Square can be created and used, and they adhere to the abstraction provided by the Shape base class.\n",
    "'''\n",
    "# Abstract base class (Abstraction)\n",
    "class Shape(ABC):\n",
    "    @abstractmethod\n",
    "    def area(self):\n",
    "        pass\n",
    "\n",
    "    @abstractmethod\n",
    "    def perimeter(self):\n",
    "        pass\n",
    "\n",
    "# Concrete class implementing abstraction\n",
    "class Circle(Shape):\n",
    "    def __init__(self, radius):\n",
    "        self.radius = radius\n",
    "\n",
    "    def area(self):\n",
    "        return 3.14 * self.radius * self.radius\n",
    "\n",
    "    def perimeter(self):\n",
    "        return 2 * 3.14 * self.radius\n",
    "\n",
    "# Concrete class implementing abstraction\n",
    "class Square(Shape):\n",
    "    def __init__(self, side_length):\n",
    "        self.side_length = side_length\n",
    "\n",
    "    def area(self):\n",
    "        return self.side_length * self.side_length\n",
    "\n",
    "    def perimeter(self):\n",
    "        return 4 * self.side_length\n",
    "\n",
    "# Using abstraction to create objects\n",
    "circle_obj = Circle(radius=5)\n",
    "square_obj = Square(side_length=4)\n",
    "\n",
    "# Accessing abstract methods through concrete classes\n",
    "print(f\"Circle Area: {circle_obj.area()}\")\n",
    "print(f\"Circle Perimeter: {circle_obj.perimeter()}\")\n",
    "\n",
    "print(f\"Square Area: {square_obj.area()}\")\n",
    "print(f\"Square Perimeter: {square_obj.perimeter()}\")\n"
   ]
  },
  {
   "cell_type": "markdown",
   "metadata": {},
   "source": [
    "The example provided above demonstrates both abstraction and the use of an abstract class. In object-oriented programming, abstraction is often implemented through abstract classes. Let me clarify the concepts further:\n",
    "\n",
    "##### Abstraction:\n",
    "Abstraction is the process of simplifying complex systems by modeling classes based on real-world entities and providing only relevant details while hiding unnecessary complexities.\n",
    "It involves focusing on essential features and properties of an object to make the code more understandable and maintainable.\n",
    "##### Abstract Class:\n",
    "An abstract class is a class in Python that cannot be instantiated and may contain abstract methods, which are methods without a specific implementation.\n",
    "Abstract classes provide a common interface and structure for a group of related classes, ensuring that subclasses implement specific methods.\n",
    "\n",
    "\n",
    "Above example illustrates both abstraction (focusing on the common properties of shapes) and the use of an abstract class to define a common interface for related classes. \n"
   ]
  },
  {
   "cell_type": "markdown",
   "metadata": {},
   "source": [
    "### Apply OOP concepts in solving data science problems.\n",
    "\n",
    "These simple examples illustrate how OOP concepts can be applied in data science. Encapsulation helps organize code, inheritance facilitates code reuse, polymorphism allows flexibility in using different models, and abstraction simplifies complex processes. By incorporating OOP principles, data science projects can become more modular, scalable, and maintainable."
   ]
  },
  {
   "cell_type": "code",
   "execution_count": 289,
   "metadata": {},
   "outputs": [
    {
     "data": {
      "text/plain": [
       "'\\nclass DataLoader:\\n    def __init__(self, file_path):\\n        self.file_path = file_path\\n\\n    def load_data(self):\\n        # Implement data loading logic\\n\\nclass FeatureExtractor:\\n    def extract_features(self, data):\\n        # Implement feature extraction logic\\n\\nclass MLModel:\\n    def train_model(self, features, labels):\\n        # Implement model training logic\\n\\ndef data_processing_pipeline(file_path):\\n    data_loader = DataLoader(file_path)\\n    data = data_loader.load_data()\\n\\n    feature_extractor = FeatureExtractor()\\n    features = feature_extractor.extract_features(data)\\n\\n    ml_model = MLModel()\\n    ml_model.train_model(features, labels)\\n\\n'"
      ]
     },
     "execution_count": 289,
     "metadata": {},
     "output_type": "execute_result"
    }
   ],
   "source": [
    "# Encapsulation:\n",
    "# Application: Group related functions and data into classes.\n",
    "# Example:\n",
    "\n",
    "'''\n",
    "class DataProcessor:\n",
    "    def __init__(self, data):\n",
    "        self.data = data\n",
    "\n",
    "    def preprocess_data(self):\n",
    "        # Implement data preprocessing logic\n",
    "\n",
    "    def analyze_data(self):\n",
    "        # Implement data analysis logic\n",
    "'''\n",
    "\n",
    "# Inheritance:\n",
    "# Application: Create specialized classes that inherit from a base class.\n",
    "# Example:\n",
    "\n",
    "'''\n",
    "class BaseModel:\n",
    "    def __init__(self, data):\n",
    "        self.data = data\n",
    "\n",
    "    def preprocess_data(self):\n",
    "        # Implement common preprocessing logic\n",
    "\n",
    "class RegressionModel(BaseModel):\n",
    "    def train_model(self):\n",
    "        # Implement regression-specific training logic\n",
    "\n",
    "class ClassificationModel(BaseModel):\n",
    "    def train_model(self):\n",
    "        # Implement classification-specific training logic\n",
    "\n",
    "'''\n",
    "\n",
    "# Polymorphism:\n",
    "# Application: Use a common interface for different classes.\n",
    "# Example:\n",
    "\n",
    "'''\n",
    "def train_and_evaluate(model):\n",
    "    model.preprocess_data()\n",
    "    model.train_model()\n",
    "    # Add evaluation logic\n",
    "\n",
    "regression_model = RegressionModel(data)\n",
    "classification_model = ClassificationModel(data)\n",
    "\n",
    "train_and_evaluate(regression_model)\n",
    "train_and_evaluate(classification_model)\n",
    "'''\n",
    "\n",
    "# Abstraction:\n",
    "# Application: Hide implementation details and expose high-level functionalities.\n",
    "# Example:\n",
    "\n",
    "'''\n",
    "class DataLoader:\n",
    "    def __init__(self, file_path):\n",
    "        self.file_path = file_path\n",
    "\n",
    "    def load_data(self):\n",
    "        # Implement data loading logic\n",
    "\n",
    "class FeatureExtractor:\n",
    "    def extract_features(self, data):\n",
    "        # Implement feature extraction logic\n",
    "\n",
    "class MLModel:\n",
    "    def train_model(self, features, labels):\n",
    "        # Implement model training logic\n",
    "\n",
    "def data_processing_pipeline(file_path):\n",
    "    data_loader = DataLoader(file_path)\n",
    "    data = data_loader.load_data()\n",
    "\n",
    "    feature_extractor = FeatureExtractor()\n",
    "    features = feature_extractor.extract_features(data)\n",
    "\n",
    "    ml_model = MLModel()\n",
    "    ml_model.train_model(features, labels)\n",
    "\n",
    "'''\n"
   ]
  },
  {
   "cell_type": "markdown",
   "metadata": {},
   "source": [
    "### 6. NumPy and Pandas:"
   ]
  },
  {
   "cell_type": "markdown",
   "metadata": {},
   "source": [
    "#### NumPy:\n",
    "\n",
    "NumPy, short for Numerical Python, is a powerful library in Python for numerical and mathematical operations. It provides support for large, multi-dimensional arrays and matrices, along with a collection of mathematical functions to operate on these elements efficiently. NumPy is a fundamental library for data science, machine learning, and scientific computing.\n",
    "\n",
    "##### Importance in Data Science:\n",
    "\n",
    "1. Efficient Array Operations: NumPy's array operations are highly optimized, making it faster than traditional Python lists for numerical computations.\n",
    "2. Multi-dimensional Arrays: NumPy facilitates the creation and manipulation of multi-dimensional arrays, essential for handling data in various dimensions.\n",
    "3. Broadcasting: NumPy allows operations between arrays of different shapes and sizes through broadcasting, providing flexibility in computations.\n",
    "4. Mathematical Functions: The library includes a wide range of mathematical functions that are crucial for data analysis, statistics, and scientific computing.\n",
    "\n",
    "\n",
    "##### Installing NumPy:\n",
    "To install NumPy, you can use the following command in your Python environment:\n",
    "\n",
    "pip install numpy\n",
    "\n",
    "import numpy as np\n"
   ]
  },
  {
   "cell_type": "markdown",
   "metadata": {},
   "source": [
    "##### NumPy Arrays:\n",
    "\n",
    "- Creating NumPy Arrays using np.array():\n",
    "\n",
    "NumPy arrays can be created using the np.array() function. These arrays can be one-dimensional, two-dimensional, or multi-dimensional."
   ]
  },
  {
   "cell_type": "code",
   "execution_count": 290,
   "metadata": {},
   "outputs": [
    {
     "name": "stdout",
     "output_type": "stream",
     "text": [
      "1-D Array: [1 2 3 4 5]\n",
      "2-D Array: [[1 2 3]\n",
      " [4 5 6]\n",
      " [7 8 9]]\n"
     ]
    }
   ],
   "source": [
    "import numpy as np\n",
    "\n",
    "# Creating a one-dimensional array\n",
    "arr_1d = np.array([1, 2, 3, 4, 5])\n",
    "print('1-D Array:',arr_1d)\n",
    "# Creating a two-dimensional array\n",
    "arr_2d = np.array([[1, 2, 3], [4, 5, 6], [7, 8, 9]])\n",
    "print('2-D Array:', arr_2d)\n"
   ]
  },
  {
   "cell_type": "markdown",
   "metadata": {},
   "source": [
    "- Understanding Array Shapes and Dimensions:\n",
    "\n",
    "The shape of an array represents its dimensions. You can use the shape attribute to check the dimensions of an array."
   ]
  },
  {
   "cell_type": "code",
   "execution_count": 291,
   "metadata": {},
   "outputs": [
    {
     "name": "stdout",
     "output_type": "stream",
     "text": [
      "Shape of arr_1d: (5,)\n",
      "Shape of arr_2d: (3, 3)\n"
     ]
    }
   ],
   "source": [
    "# Checking the shape of arrays\n",
    "print(\"Shape of arr_1d:\", arr_1d.shape)  # Output: (5,)\n",
    "print(\"Shape of arr_2d:\", arr_2d.shape)  # Output: (3, 3)\n"
   ]
  },
  {
   "cell_type": "markdown",
   "metadata": {},
   "source": [
    "- Indexing and Slicing Arrays:\n",
    "\n",
    "NumPy arrays support indexing and slicing similar to Python lists. Indexing starts at 0, and negative indices represent elements from the end."
   ]
  },
  {
   "cell_type": "code",
   "execution_count": 292,
   "metadata": {},
   "outputs": [
    {
     "name": "stdout",
     "output_type": "stream",
     "text": [
      "Element at index 2 in arr_1d: 3\n",
      "First row of arr_2d: [1 2 3]\n"
     ]
    }
   ],
   "source": [
    "# Indexing and slicing\n",
    "print(\"Element at index 2 in arr_1d:\", arr_1d[2])  # Output: 3\n",
    "print(\"First row of arr_2d:\", arr_2d[0, :])        # Output: [1 2 3]\n"
   ]
  },
  {
   "cell_type": "markdown",
   "metadata": {},
   "source": [
    "- Array Operations and Element-wise Operations:\n",
    "\n",
    "NumPy supports various operations on arrays, including arithmetic operations and element-wise operations."
   ]
  },
  {
   "cell_type": "code",
   "execution_count": 293,
   "metadata": {},
   "outputs": [],
   "source": [
    "# Array operations\n",
    "sum_arr = arr_1d + arr_1d\n",
    "product_arr = arr_1d * 2\n",
    "\n",
    "# Element-wise operations\n",
    "exp_arr = np.exp(arr_1d)\n"
   ]
  },
  {
   "cell_type": "markdown",
   "metadata": {},
   "source": [
    "##### Array Initialization:\n",
    "\n",
    "- Creating Arrays with Specific Values:\n",
    "\n",
    "NumPy provides functions to create arrays with specific values, such as zeros or ones."
   ]
  },
  {
   "cell_type": "code",
   "execution_count": 294,
   "metadata": {},
   "outputs": [
    {
     "name": "stdout",
     "output_type": "stream",
     "text": [
      "Array of Zero:  [[0. 0. 0. 0.]\n",
      " [0. 0. 0. 0.]\n",
      " [0. 0. 0. 0.]]\n",
      "Array of One: [[1. 1. 1.]\n",
      " [1. 1. 1.]]\n"
     ]
    }
   ],
   "source": [
    "import numpy as np\n",
    "\n",
    "# Creating an array of zeros\n",
    "zeros_arr = np.zeros((3, 4))  # 3x4 array of zeros\n",
    "print('Array of Zero: ', zeros_arr)\n",
    "\n",
    "# Creating an array of ones\n",
    "ones_arr = np.ones((2, 3))    # 2x3 array of ones\n",
    "print('Array of One:', ones_arr)"
   ]
  },
  {
   "cell_type": "markdown",
   "metadata": {},
   "source": [
    "- Generating Arrays with a Range of Values:\n",
    "\n",
    "NumPy offers functions to generate arrays with a range of values using np.arange() or evenly spaced values using np.linspace()."
   ]
  },
  {
   "cell_type": "code",
   "execution_count": 295,
   "metadata": {},
   "outputs": [
    {
     "name": "stdout",
     "output_type": "stream",
     "text": [
      "Array with a range of values: [0 2 4 6 8]\n",
      "Array with evenly spaced values: [0.   0.25 0.5  0.75 1.  ]\n"
     ]
    }
   ],
   "source": [
    "# Creating an array with a range of values\n",
    "range_arr = np.arange(0, 10, 2)  # Values from 0 to 10 (exclusive) with a step of 2 (start,stop,step)\n",
    "print('Array with a range of values:', range_arr)\n",
    "\n",
    "# Creating an array with evenly spaced values\n",
    "linspace_arr = np.linspace(0, 1, 5)  # 5 evenly spaced values from 0 to 1\n",
    "print('Array with evenly spaced values:', linspace_arr)"
   ]
  },
  {
   "cell_type": "markdown",
   "metadata": {},
   "source": [
    "- Random Array Generation using np.random Module:\n",
    "\n",
    "NumPy's np.random module allows the generation of arrays with random values."
   ]
  },
  {
   "cell_type": "code",
   "execution_count": 296,
   "metadata": {},
   "outputs": [
    {
     "name": "stdout",
     "output_type": "stream",
     "text": [
      "Array with random values between 0 and 1 using np.random(): [[0.02857533 0.11503076]\n",
      " [0.53099157 0.3294849 ]\n",
      " [0.79203979 0.56529601]]\n",
      "Array with random values between 0 and 1 using np.empty(): [[0.02857533 0.11503076]\n",
      " [0.53099157 0.3294849 ]\n",
      " [0.79203979 0.56529601]]\n",
      "Array of random integers between 1 and 10: [[1 4 7]\n",
      " [4 9 1]]\n"
     ]
    }
   ],
   "source": [
    "# Creating an array with random values between 0 and 1 using np.random()\n",
    "random_arr = np.random.rand(3, 2)  # 3x2 array of random values\n",
    "print('Array with random values between 0 and 1 using np.random():',random_arr)\n",
    "\n",
    "# Creating an array with random values between 0 and 1 using np.empty()\n",
    "random_arr1 = np.empty((3,2)) # 3x2 array of random values\n",
    "print('Array with random values between 0 and 1 using np.empty():',random_arr1)\n",
    "\n",
    "# Creating an array with random integers within a range\n",
    "random_int_arr = np.random.randint(1, 10, size=(2, 3))  # 2x3 array of random integers between 1 and 10\n",
    "print('Array of random integers between 1 and 10:', random_int_arr)\n"
   ]
  },
  {
   "cell_type": "markdown",
   "metadata": {},
   "source": [
    "##### Array Operations:\n",
    "\n",
    "- Basic Arithmetic Operations:\n",
    "\n",
    "NumPy supports basic arithmetic operations on arrays, such as addition, subtraction, multiplication, and division."
   ]
  },
  {
   "cell_type": "code",
   "execution_count": 297,
   "metadata": {},
   "outputs": [
    {
     "name": "stdout",
     "output_type": "stream",
     "text": [
      "Addition: [[ 8 10 12]\n",
      " [14 16 18]]\n",
      "Subtraction: [[-6 -6 -6]\n",
      " [-6 -6 -6]]\n",
      "Multiplication: [[ 7 16 27]\n",
      " [40 55 72]]\n",
      "Division: [[0.14285714 0.25       0.33333333]\n",
      " [0.4        0.45454545 0.5       ]]\n"
     ]
    }
   ],
   "source": [
    "import numpy as np\n",
    "\n",
    "# Creating two arrays for demonstration\n",
    "arr1 = np.array([[1, 2, 3], [4, 5, 6]])\n",
    "arr2 = np.array([[7, 8, 9], [10, 11, 12]])\n",
    "\n",
    "# Addition\n",
    "add_result = arr1 + arr2\n",
    "print('Addition:', add_result)\n",
    "\n",
    "# Subtraction\n",
    "sub_result = arr1 - arr2\n",
    "print('Subtraction:', sub_result)\n",
    "\n",
    "# Multiplication\n",
    "mul_result = arr1 * arr2\n",
    "print('Multiplication:', mul_result)\n",
    "\n",
    "# Division\n",
    "div_result = arr1 / arr2\n",
    "print(\"Division:\", div_result)\n"
   ]
  },
  {
   "cell_type": "markdown",
   "metadata": {},
   "source": [
    "- Aggregation Functions:\n",
    "\n",
    "NumPy provides aggregation functions to perform operations on the entire array, such as sum, mean, minimum, and maximum."
   ]
  },
  {
   "cell_type": "code",
   "execution_count": 298,
   "metadata": {},
   "outputs": [
    {
     "name": "stdout",
     "output_type": "stream",
     "text": [
      "Example Array: [[1 2 3]\n",
      " [4 5 6]]\n",
      "Total Sum: 21\n",
      "mean_value: 3.5\n",
      "min_value: 1\n",
      "max_value: 6\n"
     ]
    }
   ],
   "source": [
    "# Aggregation functions\n",
    "\n",
    "print('Example Array:', arr1)\n",
    "\n",
    "total_sum = np.sum(arr1)\n",
    "print('Total Sum:',total_sum)\n",
    "\n",
    "mean_value = np.mean(arr1)\n",
    "print('mean_value:',mean_value)\n",
    "\n",
    "min_value = np.min(arr1)\n",
    "print('min_value:',min_value)\n",
    "\n",
    "max_value = np.max(arr1)\n",
    "print('max_value:',max_value)"
   ]
  },
  {
   "cell_type": "markdown",
   "metadata": {},
   "source": [
    "- Broadcasting:\n",
    "\n",
    "Broadcasting allows NumPy to perform operations on arrays of different shapes and sizes. The smaller array is \"broadcast\" across the larger array to make the shapes compatible."
   ]
  },
  {
   "cell_type": "code",
   "execution_count": 299,
   "metadata": {},
   "outputs": [
    {
     "name": "stdout",
     "output_type": "stream",
     "text": [
      "[[3 4 5]\n",
      " [6 7 8]]\n"
     ]
    }
   ],
   "source": [
    "# Broadcasting example\n",
    "scalar_value = 2\n",
    "broadcast_result = arr1 + scalar_value # the scalar value is broadcasted to each element of the array arr1.\n",
    "print(broadcast_result)"
   ]
  },
  {
   "cell_type": "markdown",
   "metadata": {},
   "source": [
    "- Advanced Indexing and Slicing:\n",
    "\n",
    "Fancy Indexing:\n",
    "\n",
    "Fancy indexing involves using arrays or lists of indices to access specific elements from an array."
   ]
  },
  {
   "cell_type": "code",
   "execution_count": 300,
   "metadata": {},
   "outputs": [
    {
     "name": "stdout",
     "output_type": "stream",
     "text": [
      "[20 40]\n"
     ]
    }
   ],
   "source": [
    "'''Fancy indexing allows selecting non-contiguous elements from an array based on specified indices.'''\n",
    "# Creating an array for demonstration\n",
    "arr = np.array([10, 20, 30, 40, 50])\n",
    "\n",
    "# Fancy indexing\n",
    "indices = np.array([1, 3])\n",
    "selected_elements = arr[indices]  # Accessing elements at indices 1 and 3\n",
    "print(selected_elements)"
   ]
  },
  {
   "cell_type": "markdown",
   "metadata": {},
   "source": [
    "- Boolean Indexing:\n",
    "\n",
    "Boolean indexing involves using Boolean conditions to select elements that satisfy a certain criterion."
   ]
  },
  {
   "cell_type": "code",
   "execution_count": 301,
   "metadata": {},
   "outputs": [
    {
     "data": {
      "text/plain": [
       "array([40, 50])"
      ]
     },
     "execution_count": 301,
     "metadata": {},
     "output_type": "execute_result"
    }
   ],
   "source": [
    "'''Boolean indexing creates a Boolean array based on the specified condition and selects elements where the corresponding Boolean value is True'''\n",
    "# Boolean indexing example\n",
    "\n",
    "condition = arr > 30\n",
    "selected_elements = arr[condition]  # Selecting elements greater than 30\n",
    "selected_elements\n"
   ]
  },
  {
   "cell_type": "markdown",
   "metadata": {},
   "source": [
    "- Multidimensional Slicing:\n",
    "\n",
    "NumPy supports slicing along multiple dimensions for multidimensional arrays."
   ]
  },
  {
   "cell_type": "code",
   "execution_count": 302,
   "metadata": {},
   "outputs": [
    {
     "data": {
      "text/plain": [
       "array([[4, 5],\n",
       "       [7, 8]])"
      ]
     },
     "execution_count": 302,
     "metadata": {},
     "output_type": "execute_result"
    }
   ],
   "source": [
    "'''Multidimensional slicing allows selecting specific portions of a multidimensional array based on specified ranges along each dimension.'''\n",
    "# Creating a 2D array for demonstration\n",
    "arr_2d = np.array([[1, 2, 3], [4, 5, 6], [7, 8, 9]])\n",
    "\n",
    "# Multidimensional slicing\n",
    "subarray = arr_2d[1:, :2]  # Selecting rows from index 1 onwards and columns up to index 1\n",
    "subarray"
   ]
  },
  {
   "cell_type": "markdown",
   "metadata": {},
   "source": [
    "##### Reshaping and Concatenation:\n",
    "\n",
    "- Changing Array Shape using reshape():\n",
    "\n",
    "The reshape() function is used to change the shape of an array while maintaining the total number of elements."
   ]
  },
  {
   "cell_type": "code",
   "execution_count": 303,
   "metadata": {},
   "outputs": [
    {
     "data": {
      "text/plain": [
       "array([[1, 2, 3],\n",
       "       [4, 5, 6]])"
      ]
     },
     "execution_count": 303,
     "metadata": {},
     "output_type": "execute_result"
    }
   ],
   "source": [
    "# Creating an array for demonstration\n",
    "arr = np.array([1, 2, 3, 4, 5, 6])\n",
    "\n",
    "# Reshaping the array to a 2x3 matrix\n",
    "reshaped_arr = arr.reshape(2, 3)\n",
    "reshaped_arr"
   ]
  },
  {
   "cell_type": "markdown",
   "metadata": {},
   "source": [
    "- Concatenating Arrays Horizontally and Vertically:\n",
    "\n",
    "NumPy provides functions like np.concatenate() and np.vstack() for concatenating arrays horizontally and vertically."
   ]
  },
  {
   "cell_type": "code",
   "execution_count": 304,
   "metadata": {},
   "outputs": [
    {
     "name": "stdout",
     "output_type": "stream",
     "text": [
      "Horizontal Concatenation: [[1 2 5]\n",
      " [3 4 6]]\n",
      "Vertical Concatenation: [[1 2]\n",
      " [3 4]\n",
      " [7 8]]\n"
     ]
    }
   ],
   "source": [
    "# Creating two arrays for demonstration\n",
    "arr1 = np.array([[1, 2], [3, 4]])\n",
    "arr2 = np.array([[5, 6]])\n",
    "\n",
    "# Reshaping arr2 to have the same number of rows as arr1\n",
    "arr2_reshaped = arr2.reshape(-1, 1)\n",
    "\n",
    "# Concatenating arrays horizontally\n",
    "horizontal_concat = np.concatenate((arr1, arr2_reshaped),axis=1)\n",
    "print('Horizontal Concatenation:', horizontal_concat)\n",
    "\n",
    "# Creating another array for vertical concatenation\n",
    "arr3 = np.array([[7, 8]])\n",
    "\n",
    "# Concatenating arrays vertically\n",
    "vertical_concat = np.vstack((arr1, arr3))\n",
    "print('Vertical Concatenation:', vertical_concat)"
   ]
  },
  {
   "cell_type": "markdown",
   "metadata": {},
   "source": [
    "##### Universal Functions (ufunc):\n",
    "\n",
    "- Understanding ufuncs and Their Role in NumPy:\n",
    "\n",
    "Universal functions (ufuncs) in NumPy are functions that operate element-wise on arrays, allowing efficient and fast computations. They are a key component of NumPy's ability to perform vectorized operations.\n",
    "\n",
    "- Common ufuncs: np.sin(), np.cos(), np.exp(), etc.:\n",
    "\n",
    "NumPy provides a variety of ufuncs for common mathematical operations like sine, cosine, exponentiation, and more. These functions operate on each element of an array independently."
   ]
  },
  {
   "cell_type": "code",
   "execution_count": 305,
   "metadata": {},
   "outputs": [
    {
     "name": "stdout",
     "output_type": "stream",
     "text": [
      "Original Array: [0.         1.57079633 3.14159265]\n",
      "Sin Values: [0.0000000e+00 1.0000000e+00 1.2246468e-16]\n",
      "Cos Values: [ 1.000000e+00  6.123234e-17 -1.000000e+00]\n",
      "Exponential Values: [ 1.          4.81047738 23.14069263]\n"
     ]
    }
   ],
   "source": [
    "'''In this example, np.sin(), np.cos(), and np.exp() are ufuncs applied to the elements of the array arr. \n",
    "The operations are performed element-wise, resulting in arrays of corresponding values.'''\n",
    "# Creating an array for demonstration\n",
    "arr = np.array([0, np.pi/2, np.pi])\n",
    "\n",
    "# Applying ufuncs: sine, cosine, and exponentiation\n",
    "sin_values = np.sin(arr)\n",
    "cos_values = np.cos(arr)\n",
    "exp_values = np.exp(arr)\n",
    "\n",
    "# Displaying the results\n",
    "print(\"Original Array:\", arr)\n",
    "print(\"Sin Values:\", sin_values)\n",
    "print(\"Cos Values:\", cos_values)\n",
    "print(\"Exponential Values:\", exp_values)\n"
   ]
  },
  {
   "cell_type": "markdown",
   "metadata": {},
   "source": [
    "##### Linear Algebra with NumPy:\n",
    "\n",
    "- Matrix Multiplication:\n",
    "\n",
    "NumPy provides the np.dot() function for matrix multiplication. It can be used for both dot products and matrix multiplication."
   ]
  },
  {
   "cell_type": "code",
   "execution_count": 306,
   "metadata": {},
   "outputs": [
    {
     "data": {
      "text/plain": [
       "array([[19, 22],\n",
       "       [43, 50]])"
      ]
     },
     "execution_count": 306,
     "metadata": {},
     "output_type": "execute_result"
    }
   ],
   "source": [
    "import numpy as np\n",
    "\n",
    "# Creating two matrices for demonstration\n",
    "matrix1 = np.array([[1, 2], [3, 4]])\n",
    "matrix2 = np.array([[5, 6], [7, 8]])\n",
    "\n",
    "# Matrix multiplication using np.dot()\n",
    "result_matrix = np.dot(matrix1, matrix2)\n",
    "result_matrix"
   ]
  },
  {
   "cell_type": "markdown",
   "metadata": {},
   "source": [
    "- Determinant and Inverse:\n",
    "\n",
    "NumPy's np.linalg.det() and np.linalg.inv() functions are used to calculate the determinant and inverse of a matrix, respectively."
   ]
  },
  {
   "cell_type": "code",
   "execution_count": 307,
   "metadata": {},
   "outputs": [
    {
     "name": "stdout",
     "output_type": "stream",
     "text": [
      "determinant: -2.0000000000000004\n",
      "inverse_matrix: [[-2.   1. ]\n",
      " [ 1.5 -0.5]]\n"
     ]
    }
   ],
   "source": [
    "# Determinant of a matrix\n",
    "determinant = np.linalg.det(matrix1)\n",
    "print('determinant:',determinant)\n",
    "\n",
    "# Inverse of a matrix\n",
    "inverse_matrix = np.linalg.inv(matrix1)\n",
    "print('inverse_matrix:', inverse_matrix)\n"
   ]
  },
  {
   "cell_type": "markdown",
   "metadata": {},
   "source": [
    "- Eigenvalues and Eigenvectors:\n",
    "\n",
    "NumPy's np.linalg.eig() function computes the eigenvalues and eigenvectors of a square matrix."
   ]
  },
  {
   "cell_type": "code",
   "execution_count": 308,
   "metadata": {},
   "outputs": [
    {
     "name": "stdout",
     "output_type": "stream",
     "text": [
      "eigenvalues: [-0.37228132  5.37228132]\n",
      "eigenvectors: [[-0.82456484 -0.41597356]\n",
      " [ 0.56576746 -0.90937671]]\n"
     ]
    }
   ],
   "source": [
    "# Eigenvalues and Eigenvectors of a matrix\n",
    "eigenvalues, eigenvectors = np.linalg.eig(matrix1)\n",
    "print('eigenvalues:', eigenvalues)\n",
    "print('eigenvectors:', eigenvectors)"
   ]
  },
  {
   "cell_type": "markdown",
   "metadata": {},
   "source": [
    "##### Statistical Operations with NumPy:\n",
    "\n",
    "- Descriptive Statistics:\n",
    "\n",
    "NumPy provides functions like np.mean(), np.std(), np.median(), etc., for calculating descriptive statistics on arrays."
   ]
  },
  {
   "cell_type": "code",
   "execution_count": 309,
   "metadata": {},
   "outputs": [
    {
     "name": "stdout",
     "output_type": "stream",
     "text": [
      "Original Array: [1 2 3 4 5 6 7 8 9]\n",
      "mean_value: 5.0\n",
      "std_deviation: 2.581988897471611\n",
      "median_value: 5.0\n"
     ]
    }
   ],
   "source": [
    "# Creating an array for demonstration\n",
    "data_array = np.array([1, 2, 3, 4, 5, 6, 7, 8, 9])\n",
    "print('Original Array:', data_array)\n",
    "\n",
    "# Calculating mean, standard deviation, and median\n",
    "mean_value = np.mean(data_array)\n",
    "std_deviation = np.std(data_array)\n",
    "median_value = np.median(data_array)\n",
    "print('mean_value:', mean_value)\n",
    "print('std_deviation:', std_deviation)\n",
    "print('median_value:', median_value)"
   ]
  },
  {
   "cell_type": "markdown",
   "metadata": {},
   "source": [
    "- Correlation and Covariance:\n",
    "\n",
    "NumPy's np.corrcoef() and np.cov() functions are used to compute the correlation coefficient and covariance matrix, respectively."
   ]
  },
  {
   "cell_type": "code",
   "execution_count": 310,
   "metadata": {},
   "outputs": [
    {
     "name": "stdout",
     "output_type": "stream",
     "text": [
      "correlation_coefficient: -0.9999999999999999\n",
      "covariance_matrix: [[ 2.5 -2.5]\n",
      " [-2.5  2.5]]\n"
     ]
    }
   ],
   "source": [
    "# Creating two arrays for demonstration\n",
    "array1 = np.array([1, 2, 3, 4, 5])\n",
    "array2 = np.array([5, 4, 3, 2, 1])\n",
    "\n",
    "# Calculating correlation coefficient and covariance\n",
    "correlation_coefficient = np.corrcoef(array1, array2)[0, 1]\n",
    "covariance_matrix = np.cov(array1, array2)\n",
    "\n",
    "print('correlation_coefficient:', correlation_coefficient)\n",
    "print('covariance_matrix:', covariance_matrix)\n"
   ]
  },
  {
   "cell_type": "markdown",
   "metadata": {},
   "source": [
    "##### Data Manipulation with NumPy:\n",
    "- Sorting Arrays:\n",
    "\n",
    "NumPy provides the np.sort() function for sorting arrays along a specified axis."
   ]
  },
  {
   "cell_type": "code",
   "execution_count": 311,
   "metadata": {},
   "outputs": [
    {
     "name": "stdout",
     "output_type": "stream",
     "text": [
      "Original Array: [3 1 4 1 5 9 2 6 5]\n",
      "sorted_array: [1 1 2 3 4 5 5 6 9]\n"
     ]
    }
   ],
   "source": [
    "# Creating an array for demonstration\n",
    "unsorted_array = np.array([3, 1, 4, 1, 5, 9, 2, 6, 5])\n",
    "\n",
    "# Sorting the array\n",
    "sorted_array = np.sort(unsorted_array)\n",
    "\n",
    "print('Original Array:', unsorted_array)\n",
    "print('sorted_array:', sorted_array)\n"
   ]
  },
  {
   "cell_type": "markdown",
   "metadata": {},
   "source": [
    "- Removing Duplicates:\n",
    "\n",
    "NumPy's np.unique() function is useful for removing duplicate elements from an array."
   ]
  },
  {
   "cell_type": "code",
   "execution_count": 312,
   "metadata": {},
   "outputs": [
    {
     "name": "stdout",
     "output_type": "stream",
     "text": [
      "array_with_duplicates: [1 2 2 3 4 4 5 6 6]\n",
      "unique_elements: [1 2 3 4 5 6]\n"
     ]
    }
   ],
   "source": [
    "# Creating an array with duplicate elements\n",
    "array_with_duplicates = np.array([1, 2, 2, 3, 4, 4, 5, 6, 6])\n",
    "\n",
    "# Removing duplicates\n",
    "unique_elements = np.unique(array_with_duplicates)\n",
    "\n",
    "print('array_with_duplicates:', array_with_duplicates)\n",
    "print('unique_elements:', unique_elements)"
   ]
  },
  {
   "cell_type": "markdown",
   "metadata": {},
   "source": [
    "- Joining Arrays:\n",
    "\n",
    "NumPy provides various functions for joining arrays, such as np.concatenate(), np.vstack(), and np.hstack()"
   ]
  },
  {
   "cell_type": "code",
   "execution_count": 313,
   "metadata": {},
   "outputs": [
    {
     "name": "stdout",
     "output_type": "stream",
     "text": [
      "array1: [1 2 3]\n",
      "array2: [4 5 6]\n",
      "concatenated_array: [1 2 3 4 5 6]\n"
     ]
    }
   ],
   "source": [
    "# Creating two arrays for demonstration\n",
    "array1 = np.array([1, 2, 3])\n",
    "array2 = np.array([4, 5, 6])\n",
    "\n",
    "# Concatenating arrays\n",
    "concatenated_array = np.concatenate((array1, array2))\n",
    "\n",
    "print('array1:', array1)\n",
    "print('array2:', array2)\n",
    "print('concatenated_array:', concatenated_array)\n"
   ]
  },
  {
   "cell_type": "markdown",
   "metadata": {},
   "source": [
    "The concatenated_array variable contains the elements of array1 followed by the elements of array2."
   ]
  },
  {
   "cell_type": "code",
   "execution_count": 314,
   "metadata": {},
   "outputs": [
    {
     "data": {
      "text/plain": [
       "array([[1, 2, 3],\n",
       "       [4, 5, 6]])"
      ]
     },
     "execution_count": 314,
     "metadata": {},
     "output_type": "execute_result"
    }
   ],
   "source": [
    "# Vertical stacking : The vertical_stack variable contains a vertical stack of array1 and array2.\n",
    "vertical_stack = np.vstack((array1, array2))\n",
    "vertical_stack"
   ]
  },
  {
   "cell_type": "code",
   "execution_count": 315,
   "metadata": {},
   "outputs": [
    {
     "data": {
      "text/plain": [
       "array([1, 2, 3, 4, 5, 6])"
      ]
     },
     "execution_count": 315,
     "metadata": {},
     "output_type": "execute_result"
    }
   ],
   "source": [
    "# Horizontal stacking: The horizontal_stack variable contains a horizontal stack of array1 and array2.\n",
    "horizontal_stack = np.hstack((array1, array2))\n",
    "horizontal_stack"
   ]
  },
  {
   "cell_type": "markdown",
   "metadata": {},
   "source": [
    "##### File I/O with NumPy:\n",
    "\n",
    "- Reading Data from a File:\n",
    "\n",
    "NumPy's np.loadtxt() function is commonly used to read data from a text file."
   ]
  },
  {
   "cell_type": "code",
   "execution_count": 316,
   "metadata": {},
   "outputs": [
    {
     "data": {
      "text/plain": [
       "\"# Reading data from a text file\\ndata_from_file = np.loadtxt('data.txt', delimiter=',')\\ndata_from_file\\n\""
      ]
     },
     "execution_count": 316,
     "metadata": {},
     "output_type": "execute_result"
    }
   ],
   "source": [
    "'''# Reading data from a text file\n",
    "data_from_file = np.loadtxt('data.txt', delimiter=',')\n",
    "data_from_file\n",
    "'''"
   ]
  },
  {
   "cell_type": "markdown",
   "metadata": {},
   "source": [
    "- Writing Data to a File:\n",
    "\n",
    "NumPy's np.savetxt() function allows saving an array to a text file."
   ]
  },
  {
   "cell_type": "code",
   "execution_count": 317,
   "metadata": {},
   "outputs": [
    {
     "data": {
      "text/plain": [
       "\"\\n# Creating an array for demonstration\\ndata_to_save = np.array([[1, 2, 3], [4, 5, 6]])\\n\\n# Writing data to a text file\\nnp.savetxt('saved_data.txt', data_to_save, delimiter=',')\\n\""
      ]
     },
     "execution_count": 317,
     "metadata": {},
     "output_type": "execute_result"
    }
   ],
   "source": [
    "'''\n",
    "# Creating an array for demonstration\n",
    "data_to_save = np.array([[1, 2, 3], [4, 5, 6]])\n",
    "\n",
    "# Writing data to a text file\n",
    "np.savetxt('saved_data.txt', data_to_save, delimiter=',')\n",
    "'''"
   ]
  },
  {
   "cell_type": "markdown",
   "metadata": {},
   "source": [
    "##### np.where():\n",
    "np.where() is a powerful function in NumPy that provides a flexible way to perform conditional operations on arrays. It is used to locate elements in an array that satisfy a given condition. The syntax is as follows:\n",
    "\n",
    "- Syntax:\n",
    "\n",
    "numpy.where(condition[, x, y])\n",
    "\n",
    "Return Indices of True Elements:"
   ]
  },
  {
   "cell_type": "code",
   "execution_count": 318,
   "metadata": {},
   "outputs": [
    {
     "name": "stdout",
     "output_type": "stream",
     "text": [
      "(array([2, 3, 4]),)\n"
     ]
    }
   ],
   "source": [
    "import numpy as np\n",
    "\n",
    "arr = np.array([1, 2, 3, 4, 5])\n",
    "indices = np.where(arr > 2)\n",
    "print(indices)\n",
    "# Output: (array([2, 3, 4]),)\n"
   ]
  },
  {
   "cell_type": "code",
   "execution_count": 319,
   "metadata": {},
   "outputs": [
    {
     "name": "stdout",
     "output_type": "stream",
     "text": [
      "[0 0 3 4 5]\n"
     ]
    }
   ],
   "source": [
    "# Return Values based on Condition:\n",
    "\n",
    "arr = np.array([1, 2, 3, 4, 5])\n",
    "new_arr = np.where(arr > 2, arr, 0)\n",
    "print(new_arr)\n",
    "# Output: [0 0 3 4 5]\n"
   ]
  },
  {
   "cell_type": "markdown",
   "metadata": {},
   "source": [
    "np.where() is widely used for data manipulation and cleaning, allowing efficient handling of conditional operations in NumPy arrays.\n",
    "\n",
    "- Nested np.where() Example:\n"
   ]
  },
  {
   "cell_type": "code",
   "execution_count": 320,
   "metadata": {},
   "outputs": [
    {
     "name": "stdout",
     "output_type": "stream",
     "text": [
      "['<= 2' '<= 2' 'Between 2 and 5' 'Between 2 and 5' '>= 5']\n"
     ]
    }
   ],
   "source": [
    "# Create an array\n",
    "arr = np.array([1, 2, 3, 4, 5])\n",
    "\n",
    "# Nested np.where() example\n",
    "result = np.where(\n",
    "    (arr > 2) & (arr < 5),  # Condition 1\n",
    "    'Between 2 and 5',       # Value when Condition 1 is True\n",
    "    np.where(arr <= 2, '<= 2', '>= 5')  # Nested np.where() for Condition 2\n",
    ")\n",
    "\n",
    "print(result)\n",
    "# Output: ['<= 2' '<= 2' 'Between 2 and 5' '>= 5' '>= 5']\n"
   ]
  },
  {
   "cell_type": "markdown",
   "metadata": {},
   "source": [
    "##### Pandas:\n",
    "\n",
    "- What is Pandas?\n",
    "\n",
    "Pandas is a powerful, open-source data manipulation and analysis library for the Python programming language. It offers high-level data structures, tools, and functions designed to simplify and accelerate data handling tasks in Python. The name \"Pandas\" is derived from the term \"Panel Data,\" a widely used term in statistics and econometrics.\n",
    "\n",
    "- Why Pandas?\n",
    "\n",
    " Pandas serves as a fundamental toolkit for data manipulation and analysis in Python, enabling efficient and expressive workflows in data science and analytics projects.\n",
    "\n",
    "##### Installing Pandas:\n",
    "To install Pandas, you can use the following command in your Python environment:\n",
    "\n",
    "pip install pandas\n",
    "\n",
    "import pandas as pd\n",
    "\n",
    "##### Key Data Structures:\n",
    "\n",
    "Pandas provides two types of classes for handling data:\n",
    "\n",
    "1. Series:\n",
    "\n",
    "A Series is a one-dimensional labeled array in Pandas that can hold data of any data type such as integers, strings, Python objects etc.\n",
    "It is similar to a column in a spreadsheet or a single column of data in a DataFrame."
   ]
  },
  {
   "cell_type": "code",
   "execution_count": 321,
   "metadata": {},
   "outputs": [
    {
     "name": "stdout",
     "output_type": "stream",
     "text": [
      "0    10\n",
      "1    20\n",
      "2    30\n",
      "3    40\n",
      "4    50\n",
      "dtype: int64\n"
     ]
    }
   ],
   "source": [
    "# Example of Series Creation:\n",
    "\n",
    "import pandas as pd\n",
    "\n",
    "# Creating a Series with numeric indices\n",
    "series_data = pd.Series([10, 20, 30, 40, 50])\n",
    "print(series_data)"
   ]
  },
  {
   "cell_type": "code",
   "execution_count": 322,
   "metadata": {},
   "outputs": [
    {
     "name": "stdout",
     "output_type": "stream",
     "text": [
      "a    10\n",
      "b    20\n",
      "c    30\n",
      "d    40\n",
      "e    50\n",
      "dtype: int64\n"
     ]
    }
   ],
   "source": [
    "# Creating a Series with custom labels\n",
    "series_data = pd.Series([10, 20, 30, 40, 50], index=['a', 'b', 'c', 'd', 'e'])\n",
    "print(series_data)"
   ]
  },
  {
   "cell_type": "markdown",
   "metadata": {},
   "source": [
    "2. DataFrame:\n",
    "\n",
    "A DataFrame is a two-dimensional table with labeled axes (rows and columns). It is a primary data structure for structured and tabular data in Pandas."
   ]
  },
  {
   "cell_type": "code",
   "execution_count": 323,
   "metadata": {},
   "outputs": [
    {
     "name": "stdout",
     "output_type": "stream",
     "text": [
      "      Name Job  Age Salary\n",
      "0    Alice   X   25   1.0L\n",
      "1      Bob   Y   30   1.5L\n",
      "2  Charlie   Z   35     2L\n",
      "3     John   A   27    50K\n",
      "4      Don   B   28    60K\n",
      "5      Von   C   29    70K\n"
     ]
    }
   ],
   "source": [
    "# Creating a DataFrame from a dictionary\n",
    "data = {'Name': ['Alice', 'Bob', 'Charlie','John','Don','Von'],\n",
    "        'Job':['X','Y','Z','A','B','C'],\n",
    "        'Age': [25, 30, 35,27,28,29],\n",
    "        'Salary':['1.0L','1.5L','2L','50K','60K','70K']}\n",
    "\n",
    "df = pd.DataFrame(data)\n",
    "print(df)"
   ]
  },
  {
   "cell_type": "markdown",
   "metadata": {},
   "source": [
    "#### Data Input/Output:\n",
    "\n",
    "- Reading Data:\n",
    "\n",
    "    pd.read_csv(): This function is used to read data from a CSV file.\n",
    "\n",
    "    pd.read_excel() : This function is used to read data from a xlsx file.\n",
    "\n",
    "    pd.read_json() :This function is used to read data from a JSON file.\n",
    "    \n",
    "    pd.read_pickle() :This function is used to read data from a PICKLE file."
   ]
  },
  {
   "cell_type": "code",
   "execution_count": 324,
   "metadata": {},
   "outputs": [],
   "source": [
    "# Writing Data to .csv\n",
    "\n",
    "df.to_csv('test.csv', index=False)   "
   ]
  },
  {
   "cell_type": "code",
   "execution_count": 325,
   "metadata": {},
   "outputs": [
    {
     "name": "stdout",
     "output_type": "stream",
     "text": [
      "      Name Job  Age Salary\n",
      "0    Alice   X   25   1.0L\n",
      "1      Bob   Y   30   1.5L\n",
      "2  Charlie   Z   35     2L\n",
      "3     John   A   27    50K\n",
      "4      Don   B   28    60K\n",
      "      Name Job  Age Salary\n",
      "1      Bob   Y   30   1.5L\n",
      "2  Charlie   Z   35     2L\n",
      "3     John   A   27    50K\n",
      "4      Don   B   28    60K\n",
      "5      Von   C   29    70K\n",
      "    Name Job  Age Salary\n",
      "0  Alice   X   25   1.0L\n",
      "1    Bob   Y   30   1.5L\n"
     ]
    }
   ],
   "source": [
    "# Reading data from a CSV file\n",
    "csv_data = pd.read_csv('test.csv')\n",
    "\n",
    "# Displaying the DataFrame\n",
    "print(csv_data.head()) # displays top 5 records from the dataframe\n",
    "print(csv_data.tail()) # displays last 5 records from the dataframe\n",
    "print(csv_data.head(2)) # select top 2 records"
   ]
  },
  {
   "cell_type": "code",
   "execution_count": 326,
   "metadata": {},
   "outputs": [
    {
     "data": {
      "text/html": [
       "<div>\n",
       "<style scoped>\n",
       "    .dataframe tbody tr th:only-of-type {\n",
       "        vertical-align: middle;\n",
       "    }\n",
       "\n",
       "    .dataframe tbody tr th {\n",
       "        vertical-align: top;\n",
       "    }\n",
       "\n",
       "    .dataframe thead th {\n",
       "        text-align: right;\n",
       "    }\n",
       "</style>\n",
       "<table border=\"1\" class=\"dataframe\">\n",
       "  <thead>\n",
       "    <tr style=\"text-align: right;\">\n",
       "      <th></th>\n",
       "      <th>Name</th>\n",
       "      <th>Job</th>\n",
       "      <th>Age</th>\n",
       "      <th>Salary</th>\n",
       "    </tr>\n",
       "  </thead>\n",
       "  <tbody>\n",
       "    <tr>\n",
       "      <th>0</th>\n",
       "      <td>Alice</td>\n",
       "      <td>X</td>\n",
       "      <td>25</td>\n",
       "      <td>1.0L</td>\n",
       "    </tr>\n",
       "    <tr>\n",
       "      <th>1</th>\n",
       "      <td>Bob</td>\n",
       "      <td>Y</td>\n",
       "      <td>30</td>\n",
       "      <td>1.5L</td>\n",
       "    </tr>\n",
       "    <tr>\n",
       "      <th>2</th>\n",
       "      <td>Charlie</td>\n",
       "      <td>Z</td>\n",
       "      <td>35</td>\n",
       "      <td>2L</td>\n",
       "    </tr>\n",
       "    <tr>\n",
       "      <th>3</th>\n",
       "      <td>John</td>\n",
       "      <td>A</td>\n",
       "      <td>27</td>\n",
       "      <td>50K</td>\n",
       "    </tr>\n",
       "    <tr>\n",
       "      <th>4</th>\n",
       "      <td>Don</td>\n",
       "      <td>B</td>\n",
       "      <td>28</td>\n",
       "      <td>60K</td>\n",
       "    </tr>\n",
       "  </tbody>\n",
       "</table>\n",
       "</div>"
      ],
      "text/plain": [
       "      Name Job  Age Salary\n",
       "0    Alice   X   25   1.0L\n",
       "1      Bob   Y   30   1.5L\n",
       "2  Charlie   Z   35     2L\n",
       "3     John   A   27    50K\n",
       "4      Don   B   28    60K"
      ]
     },
     "execution_count": 326,
     "metadata": {},
     "output_type": "execute_result"
    }
   ],
   "source": [
    "# to work with excel file, you need to install and import 'openpyxl' as below:\n",
    "# ! conda install openpyxl  # install\n",
    "import openpyxl # import\n",
    "\n",
    "# Writing the DataFrame to an Excel file\n",
    "df.to_excel('output.xlsx', sheet_name='Sheet1', index=False)\n",
    "\n",
    "# Reading data from an Excel file\n",
    "excel_data = pd.read_excel('output.xlsx',sheet_name='Sheet1')\n",
    "excel_data.head()"
   ]
  },
  {
   "cell_type": "code",
   "execution_count": 327,
   "metadata": {},
   "outputs": [
    {
     "data": {
      "text/html": [
       "<div>\n",
       "<style scoped>\n",
       "    .dataframe tbody tr th:only-of-type {\n",
       "        vertical-align: middle;\n",
       "    }\n",
       "\n",
       "    .dataframe tbody tr th {\n",
       "        vertical-align: top;\n",
       "    }\n",
       "\n",
       "    .dataframe thead th {\n",
       "        text-align: right;\n",
       "    }\n",
       "</style>\n",
       "<table border=\"1\" class=\"dataframe\">\n",
       "  <thead>\n",
       "    <tr style=\"text-align: right;\">\n",
       "      <th></th>\n",
       "      <th>Name</th>\n",
       "      <th>Job</th>\n",
       "      <th>Age</th>\n",
       "      <th>Salary</th>\n",
       "    </tr>\n",
       "  </thead>\n",
       "  <tbody>\n",
       "    <tr>\n",
       "      <th>0</th>\n",
       "      <td>Alice</td>\n",
       "      <td>X</td>\n",
       "      <td>25</td>\n",
       "      <td>1.0L</td>\n",
       "    </tr>\n",
       "    <tr>\n",
       "      <th>1</th>\n",
       "      <td>Bob</td>\n",
       "      <td>Y</td>\n",
       "      <td>30</td>\n",
       "      <td>1.5L</td>\n",
       "    </tr>\n",
       "    <tr>\n",
       "      <th>2</th>\n",
       "      <td>Charlie</td>\n",
       "      <td>Z</td>\n",
       "      <td>35</td>\n",
       "      <td>2L</td>\n",
       "    </tr>\n",
       "    <tr>\n",
       "      <th>3</th>\n",
       "      <td>John</td>\n",
       "      <td>A</td>\n",
       "      <td>27</td>\n",
       "      <td>50K</td>\n",
       "    </tr>\n",
       "    <tr>\n",
       "      <th>4</th>\n",
       "      <td>Don</td>\n",
       "      <td>B</td>\n",
       "      <td>28</td>\n",
       "      <td>60K</td>\n",
       "    </tr>\n",
       "    <tr>\n",
       "      <th>5</th>\n",
       "      <td>Von</td>\n",
       "      <td>C</td>\n",
       "      <td>29</td>\n",
       "      <td>70K</td>\n",
       "    </tr>\n",
       "  </tbody>\n",
       "</table>\n",
       "</div>"
      ],
      "text/plain": [
       "      Name Job  Age Salary\n",
       "0    Alice   X   25   1.0L\n",
       "1      Bob   Y   30   1.5L\n",
       "2  Charlie   Z   35     2L\n",
       "3     John   A   27    50K\n",
       "4      Don   B   28    60K\n",
       "5      Von   C   29    70K"
      ]
     },
     "execution_count": 327,
     "metadata": {},
     "output_type": "execute_result"
    }
   ],
   "source": [
    "# Writing the DataFrame to a JSON file\n",
    "import json\n",
    "df.to_json('output.json', orient='records')\n",
    "# Reading data from a JSON file\n",
    "json_data = pd.read_json('output.json')\n",
    "json_data"
   ]
  },
  {
   "cell_type": "code",
   "execution_count": 328,
   "metadata": {},
   "outputs": [
    {
     "name": "stdout",
     "output_type": "stream",
     "text": [
      "<class 'pandas.core.frame.DataFrame'>\n",
      "RangeIndex: 6 entries, 0 to 5\n",
      "Data columns (total 4 columns):\n",
      " #   Column  Non-Null Count  Dtype \n",
      "---  ------  --------------  ----- \n",
      " 0   Name    6 non-null      object\n",
      " 1   Job     6 non-null      object\n",
      " 2   Age     6 non-null      int64 \n",
      " 3   Salary  6 non-null      object\n",
      "dtypes: int64(1), object(3)\n",
      "memory usage: 324.0+ bytes\n",
      "None\n",
      "             Age\n",
      "count   6.000000\n",
      "mean   29.000000\n",
      "std     3.405877\n",
      "min    25.000000\n",
      "25%    27.250000\n",
      "50%    28.500000\n",
      "75%    29.750000\n",
      "max    35.000000\n"
     ]
    }
   ],
   "source": [
    "# Displaying information about the DataFrame\n",
    "print(df.info())\n",
    "\n",
    "# Displaying summary statistics of the DataFrame\n",
    "print(df.describe())"
   ]
  },
  {
   "cell_type": "markdown",
   "metadata": {},
   "source": [
    "##### Selecting Columns: On Label"
   ]
  },
  {
   "cell_type": "code",
   "execution_count": 329,
   "metadata": {},
   "outputs": [
    {
     "name": "stdout",
     "output_type": "stream",
     "text": [
      "0      Alice\n",
      "1        Bob\n",
      "2    Charlie\n",
      "3       John\n",
      "4        Don\n",
      "5        Von\n",
      "Name: Name, dtype: object\n",
      "      Name  Age\n",
      "0    Alice   25\n",
      "1      Bob   30\n",
      "2  Charlie   35\n",
      "3     John   27\n",
      "4      Don   28\n",
      "5      Von   29\n"
     ]
    }
   ],
   "source": [
    "# Selecting a single column\n",
    "name_column = df['Name']\n",
    "print(name_column)\n",
    "\n",
    "# Selecting multiple columns\n",
    "selected_columns = df[['Name', 'Age']]\n",
    "print(selected_columns)\n"
   ]
  },
  {
   "cell_type": "code",
   "execution_count": 330,
   "metadata": {},
   "outputs": [
    {
     "data": {
      "text/html": [
       "<div>\n",
       "<style scoped>\n",
       "    .dataframe tbody tr th:only-of-type {\n",
       "        vertical-align: middle;\n",
       "    }\n",
       "\n",
       "    .dataframe tbody tr th {\n",
       "        vertical-align: top;\n",
       "    }\n",
       "\n",
       "    .dataframe thead th {\n",
       "        text-align: right;\n",
       "    }\n",
       "</style>\n",
       "<table border=\"1\" class=\"dataframe\">\n",
       "  <thead>\n",
       "    <tr style=\"text-align: right;\">\n",
       "      <th></th>\n",
       "      <th>Name</th>\n",
       "      <th>Age</th>\n",
       "    </tr>\n",
       "  </thead>\n",
       "  <tbody>\n",
       "    <tr>\n",
       "      <th>0</th>\n",
       "      <td>Alice</td>\n",
       "      <td>25</td>\n",
       "    </tr>\n",
       "    <tr>\n",
       "      <th>1</th>\n",
       "      <td>Bob</td>\n",
       "      <td>30</td>\n",
       "    </tr>\n",
       "    <tr>\n",
       "      <th>2</th>\n",
       "      <td>Charlie</td>\n",
       "      <td>35</td>\n",
       "    </tr>\n",
       "    <tr>\n",
       "      <th>3</th>\n",
       "      <td>John</td>\n",
       "      <td>27</td>\n",
       "    </tr>\n",
       "    <tr>\n",
       "      <th>4</th>\n",
       "      <td>Don</td>\n",
       "      <td>28</td>\n",
       "    </tr>\n",
       "    <tr>\n",
       "      <th>5</th>\n",
       "      <td>Von</td>\n",
       "      <td>29</td>\n",
       "    </tr>\n",
       "  </tbody>\n",
       "</table>\n",
       "</div>"
      ],
      "text/plain": [
       "      Name  Age\n",
       "0    Alice   25\n",
       "1      Bob   30\n",
       "2  Charlie   35\n",
       "3     John   27\n",
       "4      Don   28\n",
       "5      Von   29"
      ]
     },
     "execution_count": 330,
     "metadata": {},
     "output_type": "execute_result"
    }
   ],
   "source": [
    "# Using Loc\n",
    "df.loc[:, ['Name', 'Age']]"
   ]
  },
  {
   "cell_type": "markdown",
   "metadata": {},
   "source": [
    "##### Selecting Columns: On Position"
   ]
  },
  {
   "cell_type": "code",
   "execution_count": 331,
   "metadata": {},
   "outputs": [
    {
     "data": {
      "text/html": [
       "<div>\n",
       "<style scoped>\n",
       "    .dataframe tbody tr th:only-of-type {\n",
       "        vertical-align: middle;\n",
       "    }\n",
       "\n",
       "    .dataframe tbody tr th {\n",
       "        vertical-align: top;\n",
       "    }\n",
       "\n",
       "    .dataframe thead th {\n",
       "        text-align: right;\n",
       "    }\n",
       "</style>\n",
       "<table border=\"1\" class=\"dataframe\">\n",
       "  <thead>\n",
       "    <tr style=\"text-align: right;\">\n",
       "      <th></th>\n",
       "      <th>Name</th>\n",
       "      <th>Job</th>\n",
       "    </tr>\n",
       "  </thead>\n",
       "  <tbody>\n",
       "    <tr>\n",
       "      <th>3</th>\n",
       "      <td>John</td>\n",
       "      <td>A</td>\n",
       "    </tr>\n",
       "    <tr>\n",
       "      <th>4</th>\n",
       "      <td>Don</td>\n",
       "      <td>B</td>\n",
       "    </tr>\n",
       "  </tbody>\n",
       "</table>\n",
       "</div>"
      ],
      "text/plain": [
       "   Name Job\n",
       "3  John   A\n",
       "4   Don   B"
      ]
     },
     "execution_count": 331,
     "metadata": {},
     "output_type": "execute_result"
    }
   ],
   "source": [
    "df.iloc[3:5, 0:2]"
   ]
  },
  {
   "cell_type": "code",
   "execution_count": 332,
   "metadata": {},
   "outputs": [
    {
     "data": {
      "text/html": [
       "<div>\n",
       "<style scoped>\n",
       "    .dataframe tbody tr th:only-of-type {\n",
       "        vertical-align: middle;\n",
       "    }\n",
       "\n",
       "    .dataframe tbody tr th {\n",
       "        vertical-align: top;\n",
       "    }\n",
       "\n",
       "    .dataframe thead th {\n",
       "        text-align: right;\n",
       "    }\n",
       "</style>\n",
       "<table border=\"1\" class=\"dataframe\">\n",
       "  <thead>\n",
       "    <tr style=\"text-align: right;\">\n",
       "      <th></th>\n",
       "      <th>Name</th>\n",
       "      <th>Job</th>\n",
       "      <th>Age</th>\n",
       "      <th>Salary</th>\n",
       "    </tr>\n",
       "  </thead>\n",
       "  <tbody>\n",
       "    <tr>\n",
       "      <th>1</th>\n",
       "      <td>Bob</td>\n",
       "      <td>Y</td>\n",
       "      <td>30</td>\n",
       "      <td>1.5L</td>\n",
       "    </tr>\n",
       "    <tr>\n",
       "      <th>2</th>\n",
       "      <td>Charlie</td>\n",
       "      <td>Z</td>\n",
       "      <td>35</td>\n",
       "      <td>2L</td>\n",
       "    </tr>\n",
       "  </tbody>\n",
       "</table>\n",
       "</div>"
      ],
      "text/plain": [
       "      Name Job  Age Salary\n",
       "1      Bob   Y   30   1.5L\n",
       "2  Charlie   Z   35     2L"
      ]
     },
     "execution_count": 332,
     "metadata": {},
     "output_type": "execute_result"
    }
   ],
   "source": [
    "# For slicing rows explicitly:\n",
    "df.iloc[1:3, :]"
   ]
  },
  {
   "cell_type": "code",
   "execution_count": 333,
   "metadata": {},
   "outputs": [
    {
     "data": {
      "text/html": [
       "<div>\n",
       "<style scoped>\n",
       "    .dataframe tbody tr th:only-of-type {\n",
       "        vertical-align: middle;\n",
       "    }\n",
       "\n",
       "    .dataframe tbody tr th {\n",
       "        vertical-align: top;\n",
       "    }\n",
       "\n",
       "    .dataframe thead th {\n",
       "        text-align: right;\n",
       "    }\n",
       "</style>\n",
       "<table border=\"1\" class=\"dataframe\">\n",
       "  <thead>\n",
       "    <tr style=\"text-align: right;\">\n",
       "      <th></th>\n",
       "      <th>Job</th>\n",
       "      <th>Age</th>\n",
       "    </tr>\n",
       "  </thead>\n",
       "  <tbody>\n",
       "    <tr>\n",
       "      <th>0</th>\n",
       "      <td>X</td>\n",
       "      <td>25</td>\n",
       "    </tr>\n",
       "    <tr>\n",
       "      <th>1</th>\n",
       "      <td>Y</td>\n",
       "      <td>30</td>\n",
       "    </tr>\n",
       "    <tr>\n",
       "      <th>2</th>\n",
       "      <td>Z</td>\n",
       "      <td>35</td>\n",
       "    </tr>\n",
       "    <tr>\n",
       "      <th>3</th>\n",
       "      <td>A</td>\n",
       "      <td>27</td>\n",
       "    </tr>\n",
       "    <tr>\n",
       "      <th>4</th>\n",
       "      <td>B</td>\n",
       "      <td>28</td>\n",
       "    </tr>\n",
       "    <tr>\n",
       "      <th>5</th>\n",
       "      <td>C</td>\n",
       "      <td>29</td>\n",
       "    </tr>\n",
       "  </tbody>\n",
       "</table>\n",
       "</div>"
      ],
      "text/plain": [
       "  Job  Age\n",
       "0   X   25\n",
       "1   Y   30\n",
       "2   Z   35\n",
       "3   A   27\n",
       "4   B   28\n",
       "5   C   29"
      ]
     },
     "execution_count": 333,
     "metadata": {},
     "output_type": "execute_result"
    }
   ],
   "source": [
    "# For slicing columns explicitly:\n",
    "df.iloc[:, 1:3]"
   ]
  },
  {
   "cell_type": "code",
   "execution_count": 334,
   "metadata": {},
   "outputs": [
    {
     "data": {
      "text/plain": [
       "'Y'"
      ]
     },
     "execution_count": 334,
     "metadata": {},
     "output_type": "execute_result"
    }
   ],
   "source": [
    "# For getting a value explicitly:\n",
    "df.iloc[1, 1]"
   ]
  },
  {
   "cell_type": "markdown",
   "metadata": {},
   "source": [
    "##### Filtering Data:"
   ]
  },
  {
   "cell_type": "code",
   "execution_count": 335,
   "metadata": {},
   "outputs": [
    {
     "name": "stdout",
     "output_type": "stream",
     "text": [
      "      Name Job  Age Salary\n",
      "1      Bob   Y   30   1.5L\n",
      "2  Charlie   Z   35     2L\n"
     ]
    }
   ],
   "source": [
    "# Filtering data based on a condition\n",
    "filtered_data = df[(df['Age'] > 25) & (df['Salary'] <='2L')]\n",
    "print(filtered_data)\n"
   ]
  },
  {
   "cell_type": "code",
   "execution_count": 336,
   "metadata": {},
   "outputs": [
    {
     "data": {
      "text/html": [
       "<div>\n",
       "<style scoped>\n",
       "    .dataframe tbody tr th:only-of-type {\n",
       "        vertical-align: middle;\n",
       "    }\n",
       "\n",
       "    .dataframe tbody tr th {\n",
       "        vertical-align: top;\n",
       "    }\n",
       "\n",
       "    .dataframe thead th {\n",
       "        text-align: right;\n",
       "    }\n",
       "</style>\n",
       "<table border=\"1\" class=\"dataframe\">\n",
       "  <thead>\n",
       "    <tr style=\"text-align: right;\">\n",
       "      <th></th>\n",
       "      <th>Name</th>\n",
       "      <th>Job</th>\n",
       "      <th>Age</th>\n",
       "      <th>Salary</th>\n",
       "    </tr>\n",
       "  </thead>\n",
       "  <tbody>\n",
       "    <tr>\n",
       "      <th>1</th>\n",
       "      <td>Bob</td>\n",
       "      <td>Y</td>\n",
       "      <td>30</td>\n",
       "      <td>1.5L</td>\n",
       "    </tr>\n",
       "    <tr>\n",
       "      <th>2</th>\n",
       "      <td>Charlie</td>\n",
       "      <td>Z</td>\n",
       "      <td>35</td>\n",
       "      <td>2L</td>\n",
       "    </tr>\n",
       "  </tbody>\n",
       "</table>\n",
       "</div>"
      ],
      "text/plain": [
       "      Name Job  Age Salary\n",
       "1      Bob   Y   30   1.5L\n",
       "2  Charlie   Z   35     2L"
      ]
     },
     "execution_count": 336,
     "metadata": {},
     "output_type": "execute_result"
    }
   ],
   "source": [
    "# Filtering Data Using loc\n",
    "filtered_data = df.loc[(df['Age'] >25) & (df['Salary'] <='2L')]\n",
    "filtered_data"
   ]
  },
  {
   "cell_type": "markdown",
   "metadata": {},
   "source": [
    "##### Handling Missing Data:"
   ]
  },
  {
   "cell_type": "code",
   "execution_count": 337,
   "metadata": {},
   "outputs": [
    {
     "name": "stdout",
     "output_type": "stream",
     "text": [
      "Number of Null values: Name    1\n",
      "Age     1\n",
      "City    1\n",
      "dtype: int64\n",
      "Original DataFrame:\n",
      "      Name   Age           City\n",
      "0    Alice  25.0       New York\n",
      "1      Bob  30.0  San Francisco\n",
      "2  Charlie   NaN    Los Angeles\n",
      "3    David  35.0           None\n",
      "4     None  28.0        Chicago\n",
      "\n",
      "DataFrame after dropping missing values:\n",
      "    Name   Age           City\n",
      "0  Alice  25.0       New York\n",
      "1    Bob  30.0  San Francisco\n",
      "\n",
      "DataFrame after filling missing values:\n",
      "    Age     Name           City\n",
      "0  25.0    Alice       New York\n",
      "1  30.0      Bob  San Francisco\n",
      "2  29.5  Charlie    Los Angeles\n",
      "3  35.0    David        Unknown\n",
      "4  28.0  Unknown        Chicago\n"
     ]
    }
   ],
   "source": [
    "# Creating a sample DataFrame with missing data\n",
    "data = {'Name': ['Alice', 'Bob', 'Charlie', 'David', None],\n",
    "        'Age': [25, 30, None, 35, 28],\n",
    "        'City': ['New York', 'San Francisco', 'Los Angeles', None, 'Chicago']}\n",
    "\n",
    "df = pd.DataFrame(data)\n",
    "\n",
    "# To see null values\n",
    "print('Number of Null values:',df.isnull().sum())\n",
    "\n",
    "# Dropping rows with missing values\n",
    "df_dropped = df.dropna()\n",
    "\n",
    "# Filling missing values with a specified value (e.g., mean,meadian,mode or any arbitarry value)\n",
    "df_filled = pd.DataFrame()\n",
    "df_filled['Age'] = df['Age'].fillna(df['Age'].mean())\n",
    "df_filled[['Name','City']] = df[['Name','City']].fillna('Unknown')\n",
    "\n",
    "print(\"Original DataFrame:\")\n",
    "print(df)\n",
    "print(\"\\nDataFrame after dropping missing values:\")\n",
    "print(df_dropped)\n",
    "print(\"\\nDataFrame after filling missing values:\")\n",
    "print(df_filled)\n"
   ]
  },
  {
   "cell_type": "markdown",
   "metadata": {},
   "source": [
    "##### Removing Duplicates from the DataFrame"
   ]
  },
  {
   "cell_type": "code",
   "execution_count": 338,
   "metadata": {},
   "outputs": [
    {
     "name": "stdout",
     "output_type": "stream",
     "text": [
      "DataFrame with Duplicates:\n",
      "    Name  Age           City\n",
      "0  Alice   25       New York\n",
      "1    Bob   30  San Francisco\n",
      "2  Alice   25       New York\n",
      "3  David   35        Chicago\n",
      "\n",
      "DataFrame after Removing Duplicates:\n",
      "    Name  Age           City\n",
      "0  Alice   25       New York\n",
      "1    Bob   30  San Francisco\n",
      "3  David   35        Chicago\n"
     ]
    }
   ],
   "source": [
    "# Creating a sample DataFrame with duplicate data\n",
    "data = {'Name': ['Alice', 'Bob', 'Alice', 'David'],\n",
    "        'Age': [25, 30, 25, 35],\n",
    "        'City': ['New York', 'San Francisco', 'New York', 'Chicago']}\n",
    "\n",
    "df_duplicates = pd.DataFrame(data)\n",
    "\n",
    "# Dropping duplicate rows\n",
    "df_no_duplicates = df_duplicates.drop_duplicates()\n",
    "\n",
    "print(\"DataFrame with Duplicates:\")\n",
    "print(df_duplicates)\n",
    "print(\"\\nDataFrame after Removing Duplicates:\")\n",
    "print(df_no_duplicates)"
   ]
  },
  {
   "cell_type": "markdown",
   "metadata": {},
   "source": [
    "##### Changing Data Types:"
   ]
  },
  {
   "cell_type": "code",
   "execution_count": 339,
   "metadata": {},
   "outputs": [
    {
     "name": "stdout",
     "output_type": "stream",
     "text": [
      "DataFrame with Changed Data Types:\n",
      "      Name   Age           City\n",
      "0    Alice  25.0       New York\n",
      "1      Bob  30.0  San Francisco\n",
      "2  Charlie   NaN    Los Angeles\n",
      "3    David  35.0           None\n",
      "4     None  28.0        Chicago\n"
     ]
    }
   ],
   "source": [
    "# Changing data type of the 'Age' column to float\n",
    "df['Age'] = df['Age'].astype(float)\n",
    "\n",
    "print(\"DataFrame with Changed Data Types:\")\n",
    "print(df)"
   ]
  },
  {
   "cell_type": "markdown",
   "metadata": {},
   "source": [
    "##### Data Manipulation\n",
    "\n",
    "1. Adding/Removing Columns:\n",
    "\n",
    "Adding Columns using insert():"
   ]
  },
  {
   "cell_type": "code",
   "execution_count": 340,
   "metadata": {},
   "outputs": [
    {
     "name": "stdout",
     "output_type": "stream",
     "text": [
      "DataFrame after adding 'City' column:\n",
      "      Name           City  Age\n",
      "0    Alice       New York   25\n",
      "1      Bob  San Francisco   30\n",
      "2  Charlie    Los Angeles   22\n"
     ]
    }
   ],
   "source": [
    "# Create a sample DataFrame\n",
    "data = {'Name': ['Alice', 'Bob', 'Charlie'],\n",
    "        'Age': [25, 30, 22]}\n",
    "df = pd.DataFrame(data)\n",
    "\n",
    "# Adding a new column 'City' at a specific position (index 1)\n",
    "df.insert(1, 'City', ['New York', 'San Francisco', 'Los Angeles'])\n",
    "\n",
    "print(\"DataFrame after adding 'City' column:\")\n",
    "print(df)\n"
   ]
  },
  {
   "cell_type": "markdown",
   "metadata": {},
   "source": [
    "- Removing Columns using drop():"
   ]
  },
  {
   "cell_type": "code",
   "execution_count": 341,
   "metadata": {},
   "outputs": [
    {
     "name": "stdout",
     "output_type": "stream",
     "text": [
      "DataFrame after removing 'City' column:\n",
      "      Name  Age\n",
      "0    Alice   25\n",
      "1      Bob   30\n",
      "2  Charlie   22\n"
     ]
    }
   ],
   "source": [
    "# Remove the 'City' column\n",
    "df = df.drop('City', axis=1)\n",
    "\n",
    "print(\"DataFrame after removing 'City' column:\")\n",
    "print(df)\n"
   ]
  },
  {
   "cell_type": "markdown",
   "metadata": {},
   "source": [
    "2. Filtering Rows:\n",
    "\n",
    "Using Conditions:"
   ]
  },
  {
   "cell_type": "code",
   "execution_count": 342,
   "metadata": {},
   "outputs": [
    {
     "name": "stdout",
     "output_type": "stream",
     "text": [
      "DataFrame after filtering rows where Age > 25:\n",
      "  Name  Age\n",
      "1  Bob   30\n"
     ]
    }
   ],
   "source": [
    "# Filter rows where Age is greater than 25\n",
    "filtered_df = df[df['Age'] > 25]\n",
    "\n",
    "print(\"DataFrame after filtering rows where Age > 25:\")\n",
    "print(filtered_df)\n"
   ]
  },
  {
   "cell_type": "markdown",
   "metadata": {},
   "source": [
    "- Using df.loc[]:"
   ]
  },
  {
   "cell_type": "code",
   "execution_count": 343,
   "metadata": {},
   "outputs": [
    {
     "name": "stdout",
     "output_type": "stream",
     "text": [
      "DataFrame using df.loc[] for Age <= 25:\n",
      "      Name  Age\n",
      "0    Alice   25\n",
      "2  Charlie   22\n"
     ]
    }
   ],
   "source": [
    "# Filter rows where Age is less than or equal to 25\n",
    "filtered_df_loc = df.loc[df['Age'] <= 25]\n",
    "\n",
    "print(\"DataFrame using df.loc[] for Age <= 25:\")\n",
    "print(filtered_df_loc)\n",
    "\n"
   ]
  },
  {
   "cell_type": "markdown",
   "metadata": {},
   "source": [
    "3. Grouping and Aggregation:\n",
    "\n",
    "Using groupby() and agg():"
   ]
  },
  {
   "cell_type": "code",
   "execution_count": 344,
   "metadata": {},
   "outputs": [
    {
     "name": "stdout",
     "output_type": "stream",
     "text": [
      "Grouped DataFrame with average age per department:\n",
      "             Age\n",
      "Department      \n",
      "HR          23.5\n",
      "IT          29.0\n",
      "Marketing   35.0\n"
     ]
    }
   ],
   "source": [
    "# Create a sample DataFrame with 'Department' column\n",
    "data = {'Name': ['Alice', 'Bob', 'Charlie', 'David', 'Eva'],\n",
    "        'Age': [25, 30, 22, 28, 35],\n",
    "        'Department': ['HR', 'IT', 'HR', 'IT', 'Marketing']}\n",
    "df = pd.DataFrame(data)\n",
    "\n",
    "# Group by 'Department' and calculate the average age in each department\n",
    "grouped_df = df.groupby('Department').agg({'Age': 'mean'})\n",
    "\n",
    "print(\"Grouped DataFrame with average age per department:\")\n",
    "print(grouped_df)\n",
    "\n"
   ]
  },
  {
   "cell_type": "markdown",
   "metadata": {},
   "source": [
    "4. Merging/Joining DataFrames:\n",
    "\n",
    "Using merge():"
   ]
  },
  {
   "cell_type": "code",
   "execution_count": 345,
   "metadata": {},
   "outputs": [
    {
     "name": "stdout",
     "output_type": "stream",
     "text": [
      "Merged DataFrame using merge():\n",
      "   ID     Name  Salary\n",
      "0   2      Bob   50000\n",
      "1   3  Charlie   60000\n"
     ]
    }
   ],
   "source": [
    "# Create two sample DataFrames\n",
    "df1 = pd.DataFrame({'ID': [1, 2, 3], 'Name': ['Alice', 'Bob', 'Charlie']})\n",
    "df2 = pd.DataFrame({'ID': [2, 3, 4], 'Salary': [50000, 60000, 70000]})\n",
    "\n",
    "# Merge DataFrames on 'ID'\n",
    "merged_df = pd.merge(df1, df2, on='ID', how='inner')\n",
    "\n",
    "print(\"Merged DataFrame using merge():\")\n",
    "print(merged_df)\n",
    "\n"
   ]
  },
  {
   "cell_type": "markdown",
   "metadata": {},
   "source": [
    "- Using concat():"
   ]
  },
  {
   "cell_type": "code",
   "execution_count": 346,
   "metadata": {},
   "outputs": [
    {
     "name": "stdout",
     "output_type": "stream",
     "text": [
      "Concatenated DataFrame using concat():\n",
      "   ID     Name   Salary\n",
      "0   1    Alice      NaN\n",
      "1   2      Bob      NaN\n",
      "2   3  Charlie      NaN\n",
      "3   2      NaN  50000.0\n",
      "4   3      NaN  60000.0\n",
      "5   4      NaN  70000.0\n"
     ]
    }
   ],
   "source": [
    "# Concatenate DataFrames vertically\n",
    "concatenated_df = pd.concat([df1, df2], axis=0, ignore_index=True)\n",
    "\n",
    "print(\"Concatenated DataFrame using concat():\")\n",
    "print(concatenated_df)"
   ]
  },
  {
   "cell_type": "markdown",
   "metadata": {},
   "source": [
    "- Pivot Tables using pivot_table():\n",
    "\n",
    "A pivot table is a powerful tool for reshaping and summarizing data in pandas. It allows us to transform and aggregate data to create a concise and informative summary."
   ]
  },
  {
   "cell_type": "code",
   "execution_count": 347,
   "metadata": {},
   "outputs": [
    {
     "name": "stdout",
     "output_type": "stream",
     "text": [
      "Pivot Table:\n",
      "Category     A   B\n",
      "Date              \n",
      "2022-01-01  10  15\n",
      "2022-01-02  20  25\n"
     ]
    }
   ],
   "source": [
    "# Create a sample DataFrame\n",
    "data = {'Date': ['2022-01-01', '2022-01-01', '2022-01-02', '2022-01-02'],\n",
    "        'Category': ['A', 'B', 'A', 'B'],\n",
    "        'Value': [10, 15, 20, 25]}\n",
    "df = pd.DataFrame(data)\n",
    "\n",
    "# Create a pivot table to summarize data by Date and Category\n",
    "pivot_table = df.pivot_table(values='Value', index='Date', columns='Category', aggfunc='sum')\n",
    "\n",
    "print(\"Pivot Table:\")\n",
    "print(pivot_table)\n"
   ]
  },
  {
   "cell_type": "markdown",
   "metadata": {},
   "source": [
    "- Multi-level Indexing with set_index():\n",
    "\n",
    "Multi-level indexing, also known as hierarchical indexing, allows you to have multiple levels of indices on your DataFrame. It is particularly useful when dealing with complex or multi-dimensional data."
   ]
  },
  {
   "cell_type": "code",
   "execution_count": 348,
   "metadata": {},
   "outputs": [
    {
     "name": "stdout",
     "output_type": "stream",
     "text": [
      "DataFrame with Multi-level Indexing:\n",
      "            Value Category\n",
      "Date                      \n",
      "2022-01-01     10        A\n",
      "2022-01-01     15        B\n",
      "2022-01-02     20        A\n",
      "2022-01-02     25        B\n",
      "2022-01-03     30        A\n",
      "2022-01-03     35        B\n"
     ]
    }
   ],
   "source": [
    "# Create a sample DataFrame with multi-level indexing\n",
    "data = {'Value': [10, 15, 20, 25, 30, 35],\n",
    "        'Category': ['A', 'B', 'A', 'B', 'A', 'B']}\n",
    "index_data = {'Date': ['2022-01-01', '2022-01-01', '2022-01-02', '2022-01-02', '2022-01-03', '2022-01-03']}\n",
    "df = pd.DataFrame(data, index=pd.MultiIndex.from_product(index_data.values(), names=index_data.keys()))\n",
    "\n",
    "print(\"DataFrame with Multi-level Indexing:\")\n",
    "print(df)\n"
   ]
  },
  {
   "cell_type": "markdown",
   "metadata": {},
   "source": [
    "##### Data Analysis:(Pandas)\n",
    "\n",
    "1. Statistical Analysis:\n",
    "\n",
    "Using mean(), sum(), and std():"
   ]
  },
  {
   "cell_type": "code",
   "execution_count": 349,
   "metadata": {},
   "outputs": [
    {
     "name": "stdout",
     "output_type": "stream",
     "text": [
      "Mean: 20.0\n",
      "Sum: 100\n",
      "Standard Deviation: 7.905694150420948\n"
     ]
    }
   ],
   "source": [
    "# Create a sample DataFrame\n",
    "data = {'Value': [10, 15, 20, 25, 30]}\n",
    "df = pd.DataFrame(data)\n",
    "\n",
    "# Calculate mean, sum, and standard deviation\n",
    "mean_value = df['Value'].mean()\n",
    "sum_value = df['Value'].sum()\n",
    "std_value = df['Value'].std()\n",
    "\n",
    "print(\"Mean:\", mean_value)\n",
    "print(\"Sum:\", sum_value)\n",
    "print(\"Standard Deviation:\", std_value)\n"
   ]
  },
  {
   "cell_type": "markdown",
   "metadata": {},
   "source": [
    "2. Correlation and Covariance:\n",
    "\n",
    "Using corr():"
   ]
  },
  {
   "cell_type": "code",
   "execution_count": 350,
   "metadata": {},
   "outputs": [
    {
     "name": "stdout",
     "output_type": "stream",
     "text": [
      "Correlation between Series 1 and Series 2: -0.9999999999999999\n"
     ]
    }
   ],
   "source": [
    "# Create two sample Series\n",
    "series1 = pd.Series([1, 2, 3, 4, 5])\n",
    "series2 = pd.Series([5, 4, 3, 2, 1])\n",
    "\n",
    "# Calculate correlation between the two series\n",
    "correlation = series1.corr(series2)\n",
    "\n",
    "print(\"Correlation between Series 1 and Series 2:\", correlation)"
   ]
  },
  {
   "cell_type": "markdown",
   "metadata": {},
   "source": [
    "- Using cov():"
   ]
  },
  {
   "cell_type": "code",
   "execution_count": 351,
   "metadata": {},
   "outputs": [
    {
     "name": "stdout",
     "output_type": "stream",
     "text": [
      "Covariance between Series 1 and Series 2: -2.5\n"
     ]
    }
   ],
   "source": [
    "# Calculate covariance between the two series\n",
    "covariance = series1.cov(series2)\n",
    "\n",
    "print(\"Covariance between Series 1 and Series 2:\", covariance)\n",
    "\n",
    "# Output:\n",
    "# Covariance between Series 1 and Series 2: -2.5\n"
   ]
  },
  {
   "cell_type": "markdown",
   "metadata": {},
   "source": [
    "- Descriptive Statistics using describe():"
   ]
  },
  {
   "cell_type": "code",
   "execution_count": 352,
   "metadata": {},
   "outputs": [
    {
     "name": "stdout",
     "output_type": "stream",
     "text": [
      "Descriptive Statistics:\n",
      "count     5.000000\n",
      "mean     20.000000\n",
      "std       7.905694\n",
      "min      10.000000\n",
      "25%      15.000000\n",
      "50%      20.000000\n",
      "75%      25.000000\n",
      "max      30.000000\n",
      "Name: Value, dtype: float64\n"
     ]
    }
   ],
   "source": [
    "# Create a sample DataFrame\n",
    "data = {'Value': [10, 15, 20, 25, 30]}\n",
    "df = pd.DataFrame(data)\n",
    "\n",
    "# Generate descriptive statistics\n",
    "statistics = df['Value'].describe()\n",
    "\n",
    "print(\"Descriptive Statistics:\")\n",
    "print(statistics)\n"
   ]
  },
  {
   "cell_type": "markdown",
   "metadata": {},
   "source": [
    "- Handling Missing Data using dropna() and fillna():"
   ]
  },
  {
   "cell_type": "code",
   "execution_count": 353,
   "metadata": {},
   "outputs": [
    {
     "name": "stdout",
     "output_type": "stream",
     "text": [
      "DataFrame after dropping rows with missing values:\n",
      "   Value\n",
      "0   10.0\n",
      "1   15.0\n",
      "3   25.0\n",
      "4   30.0\n",
      "DataFrame after filling missing values with mean:\n",
      "   Value\n",
      "0   10.0\n",
      "1   15.0\n",
      "2   20.0\n",
      "3   25.0\n",
      "4   30.0\n"
     ]
    }
   ],
   "source": [
    "# Introduce missing values\n",
    "df.loc[2, 'Value'] = None\n",
    "\n",
    "# Drop rows with missing values\n",
    "df_cleaned = df.dropna()\n",
    "\n",
    "print(\"DataFrame after dropping rows with missing values:\")\n",
    "print(df_cleaned)\n",
    "\n",
    "# Fill missing values with a specified value (e.g., mean)\n",
    "df_filled = df.fillna(df['Value'].mean())\n",
    "\n",
    "print(\"DataFrame after filling missing values with mean:\")\n",
    "print(df_filled)\n"
   ]
  },
  {
   "cell_type": "markdown",
   "metadata": {},
   "source": [
    "##### Time Series Analysis:\n",
    "\n",
    "Time Series Analysis involves working with data that is indexed by time. In Python, the pandas library provides powerful tools for handling time series data. Two essential functions for handling dates and times in pandas are pd.to_datetime() and resample().\n",
    "\n",
    "1. Handling Dates and Times with pd.to_datetime():\n",
    "\n",
    "pd.to_datetime() is used to convert a column or a list of date-like objects (strings or numeric) to a pandas datetime object. This conversion allows for easy manipulation and analysis of time-related data."
   ]
  },
  {
   "cell_type": "code",
   "execution_count": 354,
   "metadata": {},
   "outputs": [
    {
     "name": "stdout",
     "output_type": "stream",
     "text": [
      "DataFrame after converting 'Date' column to datetime:\n",
      "        Date  Value\n",
      "0 2022-01-01     10\n",
      "1 2022-01-02     15\n",
      "2 2022-01-03     20\n"
     ]
    }
   ],
   "source": [
    "# Create a sample DataFrame with a date column\n",
    "data = {'Date': ['2022-01-01', '2022-01-02', '2022-01-03'],\n",
    "        'Value': [10, 15, 20]}\n",
    "df = pd.DataFrame(data)\n",
    "\n",
    "# Convert the 'Date' column to datetime format\n",
    "df['Date'] = pd.to_datetime(df['Date'])\n",
    "\n",
    "print(\"DataFrame after converting 'Date' column to datetime:\")\n",
    "print(df)\n"
   ]
  },
  {
   "cell_type": "markdown",
   "metadata": {},
   "source": [
    "2. Resampling Time Series Data with resample():\n",
    "\n",
    "resample() is used to change the frequency of the time series data. It is often used to aggregate or interpolate time series data based on a specified frequency (e.g., daily to monthly)."
   ]
  },
  {
   "cell_type": "code",
   "execution_count": 355,
   "metadata": {},
   "outputs": [
    {
     "name": "stdout",
     "output_type": "stream",
     "text": [
      "DataFrame after resampling to monthly frequency:\n",
      "            Value\n",
      "Date             \n",
      "2022-01-31   15.0\n"
     ]
    }
   ],
   "source": [
    "# Set 'Date' column as the index\n",
    "df.set_index('Date', inplace=True)\n",
    "\n",
    "# Resample the data to monthly frequency and calculate the mean\n",
    "df_resampled = df.resample('M').mean()\n",
    "\n",
    "print(\"DataFrame after resampling to monthly frequency:\")\n",
    "print(df_resampled)\n"
   ]
  },
  {
   "cell_type": "markdown",
   "metadata": {},
   "source": [
    "3. Handling Missing Values:\n",
    "\n",
    "Handling missing values is crucial in time series analysis, as missing data points can impact the accuracy of analysis. Pandas provides methods like fillna() to handle missing values."
   ]
  },
  {
   "cell_type": "code",
   "execution_count": 356,
   "metadata": {},
   "outputs": [
    {
     "name": "stdout",
     "output_type": "stream",
     "text": [
      "DataFrame after handling missing values:\n",
      "        Date  Value\n",
      "0 2022-01-01   10.0\n",
      "1 2022-01-02  ffill\n",
      "2 2022-01-03   15.0\n",
      "3 2022-01-04   20.0\n",
      "4 2022-01-05   25.0\n",
      "5 2022-01-06  ffill\n",
      "6 2022-01-07   30.0\n",
      "7 2022-01-08   35.0\n",
      "8 2022-01-09  ffill\n",
      "9 2022-01-10   40.0\n"
     ]
    }
   ],
   "source": [
    "# Create a sample DataFrame with missing values\n",
    "data = {'Date': pd.date_range(start='2022-01-01', end='2022-01-10'),\n",
    "        'Value': [10, np.nan, 15, 20, 25, np.nan, 30, 35, np.nan, 40]}\n",
    "df = pd.DataFrame(data)\n",
    "\n",
    "# Fill missing values using forward fill (ffill)\n",
    "df['Value'] = df['Value'].fillna(value='ffill')\n",
    "\n",
    "print(\"DataFrame after handling missing values:\")\n",
    "print(df)"
   ]
  },
  {
   "cell_type": "markdown",
   "metadata": {},
   "source": [
    "4. Calculating Moving Averages:\n",
    "\n",
    "Moving averages help smooth out fluctuations in time series data and highlight trends. The rolling() function in pandas is often used for calculating moving averages."
   ]
  },
  {
   "cell_type": "code",
   "execution_count": 357,
   "metadata": {},
   "outputs": [
    {
     "name": "stdout",
     "output_type": "stream",
     "text": [
      "DataFrame with Moving Averages:\n",
      "         Date  Value  MovingAverage\n",
      "0  2022-01-01     10            NaN\n",
      "1  2022-01-02     15            NaN\n",
      "2  2022-01-03     20           15.0\n"
     ]
    }
   ],
   "source": [
    "# Create a sample DataFrame with a date column\n",
    "data = {'Date': ['2022-01-01', '2022-01-02', '2022-01-03'],\n",
    "        'Value': ['10', '15', '20']}  # 'Value' is of string type\n",
    "df = pd.DataFrame(data)\n",
    "\n",
    "# Convert 'Value' column to numeric\n",
    "df['Value'] = pd.to_numeric(df['Value'], errors='coerce')\n",
    "\n",
    "# Calculate a simple moving average with a window size of 3\n",
    "df['MovingAverage'] = df['Value'].rolling(window=3).mean()\n",
    "\n",
    "print(\"DataFrame with Moving Averages:\")\n",
    "print(df)"
   ]
  },
  {
   "cell_type": "markdown",
   "metadata": {},
   "source": [
    "5. Visualizing Trends Over Time:\n",
    "\n",
    "Visualization is a powerful tool for understanding time series data. Libraries like Matplotlib or Seaborn can be used for creating visualizations."
   ]
  },
  {
   "cell_type": "code",
   "execution_count": 358,
   "metadata": {},
   "outputs": [
    {
     "data": {
      "image/png": "[encoded data removed]",
      "text/plain": [
       "<Figure size 500x300 with 1 Axes>"
      ]
     },
     "metadata": {},
     "output_type": "display_data"
    }
   ],
   "source": [
    "import matplotlib.pyplot as plt\n",
    "\n",
    "# Plot the original values and the moving averages\n",
    "plt.figure(figsize=(5, 3))\n",
    "plt.plot(df['Date'], df['Value'], label='Original Values')\n",
    "plt.plot(df['Date'], df['MovingAverage'], label='Moving Average', linestyle='--', color='orange')\n",
    "plt.xlabel('Date')\n",
    "plt.ylabel('Value')\n",
    "plt.title('Time Series Analysis with Moving Averages')\n",
    "plt.legend()\n",
    "plt.show()\n"
   ]
  },
  {
   "cell_type": "markdown",
   "metadata": {},
   "source": [
    "6. Seasonal Decomposition:\n",
    "\n",
    "Seasonal decomposition helps break down a time series into its trend, seasonal, and residual components. The seasonal_decompose() function from the statsmodels library is commonly used for this task."
   ]
  },
  {
   "cell_type": "code",
   "execution_count": 359,
   "metadata": {},
   "outputs": [
    {
     "data": {
      "text/plain": [
       "<Figure size 2000x1000 with 0 Axes>"
      ]
     },
     "metadata": {},
     "output_type": "display_data"
    },
    {
     "data": {
      "image/png": "[encoded data removed]",
      "text/plain": [
       "<Figure size 640x480 with 4 Axes>"
      ]
     },
     "metadata": {},
     "output_type": "display_data"
    }
   ],
   "source": [
    "from statsmodels.tsa.seasonal import seasonal_decompose\n",
    "\n",
    "# Create a sample DataFrame with more observations\n",
    "data = {'Date': pd.date_range(start='2022-01-01', periods=10),\n",
    "        'Value': [10, 15, 20, 25, 30, 35, 40, 45, 50, 55]}\n",
    "df = pd.DataFrame(data)\n",
    "df.set_index('Date', inplace=True)\n",
    "\n",
    "# Perform seasonal decomposition with a period of 3\n",
    "result = seasonal_decompose(df['Value'], model='additive', period=3)\n",
    "\n",
    "# Plot the decomposed components\n",
    "plt.figure(figsize=(20, 10))\n",
    "result.plot()\n",
    "plt.show()"
   ]
  },
  {
   "cell_type": "markdown",
   "metadata": {},
   "source": [
    "### 7. Data Visualization with Matplotlib and Seaborn:\n",
    "\n",
    "Data visualization is a crucial aspect of data analysis and data science. It helps communicate insights, patterns, and trends in a dataset more effectively. Here are some common data visualization techniques used in data analysis and data science, along with examples:\n",
    "\n",
    "1. Line Charts:\n",
    "\n",
    "Purpose: Show the trend or change in a variable over time.\n",
    "\n",
    "Example:"
   ]
  },
  {
   "cell_type": "code",
   "execution_count": 360,
   "metadata": {},
   "outputs": [
    {
     "data": {
      "image/png": "[encoded data removed]",
      "text/plain": [
       "<Figure size 640x480 with 1 Axes>"
      ]
     },
     "metadata": {},
     "output_type": "display_data"
    }
   ],
   "source": [
    "# Creating a sample DataFrame\n",
    "data = {'Category': ['A', 'B', 'C', 'D'],\n",
    "        'Value1': [25, 40, 30, 35],\n",
    "        'Value2': [10, 20, 15, 25]}\n",
    "df = pd.DataFrame(data)\n",
    "\n",
    "# Line Chart\n",
    "plt.plot(df['Category'], df['Value1'], marker='o')\n",
    "plt.xlabel('Category')\n",
    "plt.ylabel('Value1')\n",
    "plt.title('Line Chart Example')\n",
    "plt.show()"
   ]
  },
  {
   "cell_type": "markdown",
   "metadata": {},
   "source": [
    "2. Bar Charts:\n",
    "\n",
    "Purpose: Compare values across different categories.\n",
    "\n",
    "Example:"
   ]
  },
  {
   "cell_type": "code",
   "execution_count": 361,
   "metadata": {},
   "outputs": [
    {
     "data": {
      "image/png": "[encoded data removed]",
      "text/plain": [
       "<Figure size 640x480 with 1 Axes>"
      ]
     },
     "metadata": {},
     "output_type": "display_data"
    }
   ],
   "source": [
    "# Bar Chart\n",
    "plt.bar(df['Category'], df['Value1'])\n",
    "plt.xlabel('Category')\n",
    "plt.ylabel('Value1')\n",
    "plt.title('Bar Chart Example')\n",
    "plt.show()"
   ]
  },
  {
   "cell_type": "markdown",
   "metadata": {},
   "source": [
    "3. Histograms:\n",
    "\n",
    "Purpose: Display the distribution of a single variable.\n",
    "\n",
    "Example:"
   ]
  },
  {
   "cell_type": "code",
   "execution_count": 362,
   "metadata": {},
   "outputs": [
    {
     "data": {
      "image/png": "[encoded data removed]",
      "text/plain": [
       "<Figure size 640x480 with 1 Axes>"
      ]
     },
     "metadata": {},
     "output_type": "display_data"
    }
   ],
   "source": [
    "# Example data\n",
    "data = np.random.randn(1000)\n",
    "\n",
    "# Plotting a histogram\n",
    "plt.hist(data, bins=30, edgecolor='black')\n",
    "plt.xlabel('Values')\n",
    "plt.ylabel('Frequency')\n",
    "plt.title('Histogram Example')\n",
    "plt.show()"
   ]
  },
  {
   "cell_type": "markdown",
   "metadata": {},
   "source": [
    "4. Scatter Plots:\n",
    "\n",
    "Purpose: Explore the relationship between two variables.\n",
    "\n",
    "Example:"
   ]
  },
  {
   "cell_type": "code",
   "execution_count": 363,
   "metadata": {},
   "outputs": [
    {
     "data": {
      "image/png": "[encoded data removed]",
      "text/plain": [
       "<Figure size 640x480 with 1 Axes>"
      ]
     },
     "metadata": {},
     "output_type": "display_data"
    }
   ],
   "source": [
    "# Example data\n",
    "x = np.random.randn(100)\n",
    "y = 2 * x + np.random.randn(100)\n",
    "\n",
    "# Plotting a scatter plot\n",
    "plt.scatter(x, y, alpha=0.5)\n",
    "plt.xlabel('X')\n",
    "plt.ylabel('Y')\n",
    "plt.title('Scatter Plot Example')\n",
    "plt.show()"
   ]
  },
  {
   "cell_type": "markdown",
   "metadata": {},
   "source": [
    "5. Heatmaps:\n",
    "\n",
    "Purpose: Visualize the magnitude of a variable across two dimensions.\n",
    "\n",
    "Example:"
   ]
  },
  {
   "cell_type": "code",
   "execution_count": 364,
   "metadata": {},
   "outputs": [
    {
     "data": {
      "image/png": "[encoded data removed]",
      "text/plain": [
       "<Figure size 640x480 with 2 Axes>"
      ]
     },
     "metadata": {},
     "output_type": "display_data"
    }
   ],
   "source": [
    "import seaborn as sns\n",
    "# Example data\n",
    "data = np.random.rand(10, 10)\n",
    "\n",
    "# Plotting a heatmap\n",
    "sns.heatmap(data, annot=True, cmap='viridis')\n",
    "plt.xlabel('X-axis')\n",
    "plt.ylabel('Y-axis')\n",
    "plt.title('Heatmap Example')\n",
    "plt.show()"
   ]
  },
  {
   "cell_type": "markdown",
   "metadata": {},
   "source": [
    "6. Box Plots:\n",
    "\n",
    "Purpose: Show the distribution of a dataset and identify outliers.\n",
    "\n",
    "Example:"
   ]
  },
  {
   "cell_type": "code",
   "execution_count": 365,
   "metadata": {},
   "outputs": [
    {
     "data": {
      "image/png": "[encoded data removed]",
      "text/plain": [
       "<Figure size 640x480 with 1 Axes>"
      ]
     },
     "metadata": {},
     "output_type": "display_data"
    }
   ],
   "source": [
    "# Example data\n",
    "data = sns.load_dataset('tips')\n",
    "\n",
    "# Plotting a box plot\n",
    "sns.boxplot(x='day', y='total_bill', data=data)\n",
    "plt.xlabel('Day')\n",
    "plt.ylabel('Total Bill')\n",
    "plt.title('Box Plot Example')\n",
    "plt.show()"
   ]
  },
  {
   "cell_type": "markdown",
   "metadata": {},
   "source": [
    "7. Violin Plots:\n",
    "\n",
    "Purpose: Combine aspects of box plots and kernel density plots for better distribution visualization.\n",
    "\n",
    "Example:"
   ]
  },
  {
   "cell_type": "code",
   "execution_count": 366,
   "metadata": {},
   "outputs": [
    {
     "data": {
      "image/png": "[encoded data removed]",
      "text/plain": [
       "<Figure size 640x480 with 1 Axes>"
      ]
     },
     "metadata": {},
     "output_type": "display_data"
    }
   ],
   "source": [
    "# Example data\n",
    "data = sns.load_dataset('tips')\n",
    "\n",
    "# Plotting a violin plot\n",
    "sns.violinplot(x='day', y='total_bill', data=data)\n",
    "plt.xlabel('Day')\n",
    "plt.ylabel('Total Bill')\n",
    "plt.title('Violin Plot Example')\n",
    "plt.show()"
   ]
  },
  {
   "cell_type": "markdown",
   "metadata": {},
   "source": [
    "8. Pie Charts:\n",
    "\n",
    "Purpose: Display the proportion of different categories in a whole.\n",
    "\n",
    "Example:"
   ]
  },
  {
   "cell_type": "code",
   "execution_count": 367,
   "metadata": {},
   "outputs": [
    {
     "data": {
      "image/png": "[encoded data removed]",
      "text/plain": [
       "<Figure size 640x480 with 1 Axes>"
      ]
     },
     "metadata": {},
     "output_type": "display_data"
    }
   ],
   "source": [
    "# Example data\n",
    "sizes = [15, 30, 45, 10]\n",
    "labels = ['A', 'B', 'C', 'D']\n",
    "\n",
    "# Plotting a pie chart\n",
    "plt.pie(sizes, labels=labels, autopct='%1.1f%%', startangle=90)\n",
    "plt.title('Pie Chart Example')\n",
    "plt.show()"
   ]
  },
  {
   "cell_type": "markdown",
   "metadata": {},
   "source": [
    "##### Statistical Analysis with SciPy and Statsmodels:\n",
    "\n",
    "1. Hypothesis Testing with SciPy:\n",
    "\n",
    "Hypothesis testing is a fundamental statistical method to make inferences about a population parameter based on a sample of data. One common test is the t-test.\n",
    "\n",
    "Example: One-sample t-test\n",
    "\n",
    "Objective: Determine if the average tip amount is significantly different from a claimed value."
   ]
  },
  {
   "cell_type": "code",
   "execution_count": 368,
   "metadata": {},
   "outputs": [
    {
     "name": "stdout",
     "output_type": "stream",
     "text": [
      "Reject the null hypothesis. The average tip amount is different from $5.\n"
     ]
    }
   ],
   "source": [
    "import seaborn as sns\n",
    "from scipy.stats import ttest_1samp\n",
    "\n",
    "# Load the tips dataset\n",
    "tips = sns.load_dataset(\"tips\")\n",
    "\n",
    "# One-sample t-test to check if the average tip amount is different from $5\n",
    "test_statistic, p_value = ttest_1samp(tips['tip'], popmean=5)\n",
    "\n",
    "# Interpretation\n",
    "alpha = 0.05\n",
    "if p_value < alpha:\n",
    "    print(\"Reject the null hypothesis. The average tip amount is different from $5.\")\n",
    "else:\n",
    "    print(\"Fail to reject the null hypothesis.\")\n"
   ]
  },
  {
   "cell_type": "markdown",
   "metadata": {},
   "source": [
    "2. ANOVA with SciPy:\n",
    "ANOVA is used to compare means across multiple groups.\n",
    "\n",
    "Example: One-way ANOVA\n",
    "\n",
    "Objective: Investigate if there is a significant difference in tip amounts based on the day of the week."
   ]
  },
  {
   "cell_type": "code",
   "execution_count": 369,
   "metadata": {},
   "outputs": [
    {
     "name": "stdout",
     "output_type": "stream",
     "text": [
      "Fail to reject the null hypothesis.\n"
     ]
    }
   ],
   "source": [
    "from scipy.stats import f_oneway\n",
    "\n",
    "# One-way ANOVA to compare tip amounts on different days\n",
    "f_statistic, p_value = f_oneway(tips['tip'][tips['day'] == 'Thur'],\n",
    "                                 tips['tip'][tips['day'] == 'Fri'],\n",
    "                                 tips['tip'][tips['day'] == 'Sat'],\n",
    "                                 tips['tip'][tips['day'] == 'Sun'])\n",
    "\n",
    "# Interpretation\n",
    "alpha = 0.05\n",
    "if p_value < alpha:\n",
    "    print(\"Reject the null hypothesis. There is a significant difference in tip amounts across days.\")\n",
    "else:\n",
    "    print(\"Fail to reject the null hypothesis.\")\n"
   ]
  },
  {
   "cell_type": "markdown",
   "metadata": {},
   "source": [
    "3. Linear Regression with Statsmodels:\n",
    "\n",
    "Statsmodels is particularly useful for regression analysis.\n",
    "\n",
    "Example: Simple Linear Regression\n",
    "\n",
    "Objective: Predict the tip amount based on the total bill."
   ]
  },
  {
   "cell_type": "code",
   "execution_count": 370,
   "metadata": {},
   "outputs": [
    {
     "name": "stdout",
     "output_type": "stream",
     "text": [
      "                            OLS Regression Results                            \n",
      "==============================================================================\n",
      "Dep. Variable:                    tip   R-squared:                       0.457\n",
      "Model:                            OLS   Adj. R-squared:                  0.454\n",
      "Method:                 Least Squares   F-statistic:                     203.4\n",
      "Date:                Wed, 24 Jan 2024   Prob (F-statistic):           6.69e-34\n",
      "Time:                        19:53:56   Log-Likelihood:                -350.54\n",
      "No. Observations:                 244   AIC:                             705.1\n",
      "Df Residuals:                     242   BIC:                             712.1\n",
      "Df Model:                           1                                         \n",
      "Covariance Type:            nonrobust                                         \n",
      "==============================================================================\n",
      "                 coef    std err          t      P>|t|      [0.025      0.975]\n",
      "------------------------------------------------------------------------------\n",
      "const          0.9203      0.160      5.761      0.000       0.606       1.235\n",
      "total_bill     0.1050      0.007     14.260      0.000       0.091       0.120\n",
      "==============================================================================\n",
      "Omnibus:                       20.185   Durbin-Watson:                   2.151\n",
      "Prob(Omnibus):                  0.000   Jarque-Bera (JB):               37.750\n",
      "Skew:                           0.443   Prob(JB):                     6.35e-09\n",
      "Kurtosis:                       4.711   Cond. No.                         53.0\n",
      "==============================================================================\n",
      "\n",
      "Notes:\n",
      "[1] Standard Errors assume that the covariance matrix of the errors is correctly specified.\n"
     ]
    }
   ],
   "source": [
    "import statsmodels.api as sm\n",
    "\n",
    "# Simple linear regression to predict tip amount based on total bill\n",
    "X = sm.add_constant(tips['total_bill'])\n",
    "model = sm.OLS(tips['tip'], X)\n",
    "results = model.fit()\n",
    "\n",
    "# Print regression summary\n",
    "print(results.summary())\n"
   ]
  },
  {
   "cell_type": "markdown",
   "metadata": {},
   "source": [
    "4. Chi-Square Test with SciPy:\n",
    "\n",
    "Chi-square test is used for categorical data analysis.\n",
    "\n",
    "Example: Chi-square Test for Independence\n",
    "\n",
    "Objective: Investigate if there is a significant association between gender and whether customers smoke."
   ]
  },
  {
   "cell_type": "code",
   "execution_count": 371,
   "metadata": {},
   "outputs": [
    {
     "name": "stdout",
     "output_type": "stream",
     "text": [
      "Fail to reject the null hypothesis.\n"
     ]
    }
   ],
   "source": [
    "from scipy.stats import chi2_contingency\n",
    "\n",
    "# Create a contingency table\n",
    "contingency_table = pd.crosstab(tips['sex'], tips['smoker'])\n",
    "\n",
    "# Chi-square test for independence\n",
    "test_statistic, p_value, _, _ = chi2_contingency(contingency_table)\n",
    "\n",
    "# Interpretation\n",
    "alpha = 0.05\n",
    "if p_value < alpha:\n",
    "    print(\"Reject the null hypothesis. There is a significant association between gender and smoking.\")\n",
    "else:\n",
    "    print(\"Fail to reject the null hypothesis.\")\n"
   ]
  },
  {
   "cell_type": "markdown",
   "metadata": {},
   "source": [
    "9. Data Cleaning and Preprocessing:\n",
    "\n",
    "Let's explore data cleaning and preprocessing techniques using the \"tips\" dataset. In this example, we'll focus on common techniques of Data Cleaning and preprocessing such as handling missing data, identifying outliers, and performing feature scaling.\n",
    "\n",
    "1. Handling Missing Data:\n",
    "\n",
    "Example: Identifying and Handling Missing Data"
   ]
  },
  {
   "cell_type": "code",
   "execution_count": 372,
   "metadata": {},
   "outputs": [
    {
     "name": "stdout",
     "output_type": "stream",
     "text": [
      "Missing values before handling:\n",
      "total_bill    1\n",
      "tip           1\n",
      "sex           0\n",
      "smoker        0\n",
      "day           0\n",
      "time          0\n",
      "size          0\n",
      "dtype: int64\n",
      "\n",
      "Missing values after handling:\n",
      "total_bill    0\n",
      "tip           0\n",
      "sex           0\n",
      "smoker        0\n",
      "day           0\n",
      "time          0\n",
      "size          0\n",
      "dtype: int64\n"
     ]
    }
   ],
   "source": [
    "'''\n",
    "In this example, we introduce missing values to the \"total_bill\" and \"tip\" columns. \n",
    "We handle missing values by imputing the mean for \"total_bill\" and dropping rows with missing values in the \"tip\" column.\n",
    "'''\n",
    "import seaborn as sns\n",
    "import pandas as pd\n",
    "\n",
    "# Load the tips dataset\n",
    "tips = sns.load_dataset(\"tips\")\n",
    "\n",
    "# Introduce some missing values\n",
    "tips.loc[3, 'total_bill'] = None\n",
    "tips.loc[8, 'tip'] = None\n",
    "\n",
    "# Check for missing values\n",
    "print(\"Missing values before handling:\")\n",
    "print(tips.isnull().sum())\n",
    "\n",
    "# Handle missing values by imputing with the mean\n",
    "mean_total_bill = tips['total_bill'].mean()\n",
    "tips['total_bill'].fillna(mean_total_bill, inplace=True)\n",
    "\n",
    "# Drop rows with missing values in the 'tip' column\n",
    "tips.dropna(subset=['tip'], inplace=True)\n",
    "\n",
    "# Verify that missing values are handled\n",
    "print(\"\\nMissing values after handling:\")\n",
    "print(tips.isnull().sum())"
   ]
  },
  {
   "cell_type": "markdown",
   "metadata": {},
   "source": [
    "2. Identifying and Handling Outliers:\n",
    "\n",
    "Example: Identifying and Handling Outliers using Box Plots"
   ]
  },
  {
   "cell_type": "code",
   "execution_count": 373,
   "metadata": {},
   "outputs": [
    {
     "data": {
      "image/png": "[encoded data removed]",
      "text/plain": [
       "<Figure size 640x480 with 1 Axes>"
      ]
     },
     "metadata": {},
     "output_type": "display_data"
    },
    {
     "name": "stderr",
     "output_type": "stream",
     "text": [
      "/var/folders/8f/f_vht8sx6l54hbgzsl80w27w0000gn/T/ipykernel_18974/3348915543.py:24: SettingWithCopyWarning: \n",
      "A value is trying to be set on a copy of a slice from a DataFrame\n",
      "\n",
      "See the caveats in the documentation: https://pandas.pydata.org/pandas-docs/stable/user_guide/indexing.html#returning-a-view-versus-a-copy\n",
      "  tips['total_bill'][outliers] = Q3 + 1.5 * IQR\n"
     ]
    },
    {
     "data": {
      "image/png": "[encoded data removed]",
      "text/plain": [
       "<Figure size 640x480 with 1 Axes>"
      ]
     },
     "metadata": {},
     "output_type": "display_data"
    }
   ],
   "source": [
    "'''\n",
    "In this example, we use a box plot to visualize the distribution of the \"total_bill\" variable and identify potential outliers. \n",
    "We then handle outliers by capping values that fall outside a specified range.\n",
    "'''\n",
    "import matplotlib.pyplot as plt\n",
    "\n",
    "# Load the tips dataset\n",
    "tips = sns.load_dataset(\"tips\")\n",
    "\n",
    "# Visualize total bill distribution with a box plot\n",
    "sns.boxplot(x='total_bill', data=tips)\n",
    "plt.title('Box Plot for Total Bill')\n",
    "plt.show()\n",
    "\n",
    "# Identify potential outliers based on the interquartile range (IQR)\n",
    "Q1 = tips['total_bill'].quantile(0.25)\n",
    "Q3 = tips['total_bill'].quantile(0.75)\n",
    "IQR = Q3 - Q1\n",
    "\n",
    "# Identify outliers using IQR\n",
    "outliers = (tips['total_bill'] < Q1 - 1.5 * IQR) | (tips['total_bill'] > Q3 + 1.5 * IQR)\n",
    "\n",
    "# Handle outliers by capping values\n",
    "tips['total_bill'][outliers] = Q3 + 1.5 * IQR\n",
    "\n",
    "# Visualize the updated distribution\n",
    "sns.boxplot(x='total_bill', data=tips)\n",
    "plt.title('Box Plot after Handling Outliers')\n",
    "plt.show()"
   ]
  },
  {
   "cell_type": "markdown",
   "metadata": {},
   "source": [
    "3. Feature Scaling:\n",
    "\n",
    "Example: Min-Max Scaling of Numeric Features"
   ]
  },
  {
   "cell_type": "code",
   "execution_count": 374,
   "metadata": {},
   "outputs": [
    {
     "name": "stdout",
     "output_type": "stream",
     "text": [
      "Dataset after Min-Max scaling:\n",
      "   total_bill       tip     sex smoker  day    time  size\n",
      "0    0.291579  0.001111  Female     No  Sun  Dinner   0.2\n",
      "1    0.152283  0.073333    Male     No  Sun  Dinner   0.4\n",
      "2    0.375786  0.277778    Male     No  Sun  Dinner   0.4\n",
      "3    0.431713  0.256667    Male     No  Sun  Dinner   0.2\n",
      "4    0.450775  0.290000  Female     No  Sun  Dinner   0.6\n"
     ]
    }
   ],
   "source": [
    "'''In this example, we use Min-Max scaling to scale numeric features in the \"total_bill,\" \n",
    "\"tip,\" and \"size\" columns to a specified range (usually between 0 and 1).'''\n",
    "from sklearn.preprocessing import MinMaxScaler\n",
    "\n",
    "# Load the tips dataset\n",
    "tips = sns.load_dataset(\"tips\")\n",
    "\n",
    "# Select numeric features for scaling\n",
    "numeric_features = ['total_bill', 'tip', 'size']\n",
    "\n",
    "# Create a Min-Max scaler\n",
    "scaler = MinMaxScaler()\n",
    "\n",
    "# Apply Min-Max scaling to selected features\n",
    "tips[numeric_features] = scaler.fit_transform(tips[numeric_features])\n",
    "\n",
    "# Display the dataset after feature scaling\n",
    "print(\"Dataset after Min-Max scaling:\")\n",
    "print(tips.head())\n"
   ]
  },
  {
   "cell_type": "markdown",
   "metadata": {},
   "source": [
    "# End !\n",
    "Created by Abhishek Jha - (www.linkedin.com/in/abhishek-jha-7148021b8)    "
   ]
  }
 ],
 "metadata": {
  "kernelspec": {
   "display_name": "Python 3",
   "language": "python",
   "name": "python3"
  },
  "language_info": {
   "codemirror_mode": {
    "name": "ipython",
    "version": 3
   },
   "file_extension": ".py",
   "mimetype": "text/x-python",
   "name": "python",
   "nbconvert_exporter": "python",
   "pygments_lexer": "ipython3",
   "version": "3.11.5"
  }
 },
 "nbformat": 4,
 "nbformat_minor": 2
}
